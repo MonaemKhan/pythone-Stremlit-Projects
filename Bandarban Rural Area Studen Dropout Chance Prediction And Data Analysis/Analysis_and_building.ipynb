{
  "nbformat": 4,
  "nbformat_minor": 0,
  "metadata": {
    "colab": {
      "provenance": [],
      "collapsed_sections": [
        "maZBafaAwtY9",
        "GQKvRw_2wI2u",
        "sX0QNE8Vfeat",
        "kDyFM2Ds6u2r",
        "1TpkUJ6_gOCz",
        "UuOpBIaVvEk3"
      ]
    },
    "kernelspec": {
      "name": "python3",
      "display_name": "Python 3"
    },
    "language_info": {
      "name": "python"
    }
  },
  "cells": [
    {
      "cell_type": "markdown",
      "source": [
        "#Libery File and Dataset Loading"
      ],
      "metadata": {
        "id": "maZBafaAwtY9"
      }
    },
    {
      "cell_type": "code",
      "source": [
        "from google.colab import drive\n",
        "drive.mount('/content/drive')"
      ],
      "metadata": {
        "colab": {
          "base_uri": "https://localhost:8080/"
        },
        "id": "HHr94JPz9ntj",
        "outputId": "28194d7b-03ee-4ee9-fe6f-fa9178edf3e9"
      },
      "execution_count": 278,
      "outputs": [
        {
          "output_type": "stream",
          "name": "stdout",
          "text": [
            "Drive already mounted at /content/drive; to attempt to forcibly remount, call drive.mount(\"/content/drive\", force_remount=True).\n"
          ]
        }
      ]
    },
    {
      "cell_type": "code",
      "source": [
        "import warnings\n",
        "warnings.filterwarnings(\"ignore\")\n",
        "import pandas as pd\n",
        "from sklearn.metrics import make_scorer, accuracy_score, precision_score, recall_score, f1_score\n",
        "from sklearn.model_selection import KFold,cross_val_score,cross_validate\n",
        "import numpy as np"
      ],
      "metadata": {
        "id": "9MpeX3gVwrul"
      },
      "execution_count": 279,
      "outputs": []
    },
    {
      "cell_type": "code",
      "source": [
        "df = pd.read_csv('/content/drive/MyDrive/Thesis/dataset.csv')\n",
        "df.head()"
      ],
      "metadata": {
        "colab": {
          "base_uri": "https://localhost:8080/",
          "height": 0
        },
        "id": "Rx0trHjM9b8B",
        "outputId": "120b876d-4e6c-4317-8536-718c9b8e20b7"
      },
      "execution_count": 280,
      "outputs": [
        {
          "output_type": "execute_result",
          "data": {
            "text/plain": [
              "    Race      Student Name  class         Father Name  Father Monthly Income  \\\n",
              "0  marma      Youong Marma      5        Monghla Prue                  23000   \n",
              "1  marma           hleame       6         Mongkya Hla                  20000   \n",
              "2  marma    swe sing marma      4        Aching marma                   9500   \n",
              "3  marma       u kya marma      4     raching u marma                  18000   \n",
              "4  marma  U ching nu marma      8  Mathwe ching marma                  14000   \n",
              "\n",
              "  F. education (class)  Father NID          Mother Name  \\\n",
              "0             class 10         NaN                  NaN   \n",
              "1              class 5  3445620980                  NaN   \n",
              "2              class 9    3.10E+11  thwe nu ching marma   \n",
              "3              class 9  7345351088  Hla nue ching marma   \n",
              "4              class 9    3.10E+11      Swe nu ma marma   \n",
              "\n",
              "   Mother Monthly Income M. education (class)  No. of family members  \\\n",
              "0                   9000               clas 8                      4   \n",
              "1                      0             class 10                      5   \n",
              "2                   3000             class 10                      5   \n",
              "3                   8000             class 10                      6   \n",
              "4                   8000             class 10                      4   \n",
              "\n",
              "   No. of edu. Family member ( up to 10)  \\\n",
              "0                                      1   \n",
              "1                                      2   \n",
              "2                                      3   \n",
              "3                                      2   \n",
              "4                                      2   \n",
              "\n",
              "   High edu. Level of  adult ( up to 11)           Location Gender  Neighbour  \\\n",
              "0                                      1  Gunguru Mukh Para   male          4   \n",
              "1                                      1     Chemidolu Para   male          4   \n",
              "2                                      2         janka para   male          1   \n",
              "3                                      2         janka para   male          4   \n",
              "4                                      2         janka para   male          3   \n",
              "\n",
              "  Go to School  \n",
              "0          yes  \n",
              "1         drop  \n",
              "2          yes  \n",
              "3          yes  \n",
              "4          yes  "
            ],
            "text/html": [
              "\n",
              "  <div id=\"df-121ef2b5-a0fc-45ae-a5bc-7345d9194fa7\">\n",
              "    <div class=\"colab-df-container\">\n",
              "      <div>\n",
              "<style scoped>\n",
              "    .dataframe tbody tr th:only-of-type {\n",
              "        vertical-align: middle;\n",
              "    }\n",
              "\n",
              "    .dataframe tbody tr th {\n",
              "        vertical-align: top;\n",
              "    }\n",
              "\n",
              "    .dataframe thead th {\n",
              "        text-align: right;\n",
              "    }\n",
              "</style>\n",
              "<table border=\"1\" class=\"dataframe\">\n",
              "  <thead>\n",
              "    <tr style=\"text-align: right;\">\n",
              "      <th></th>\n",
              "      <th>Race</th>\n",
              "      <th>Student Name</th>\n",
              "      <th>class</th>\n",
              "      <th>Father Name</th>\n",
              "      <th>Father Monthly Income</th>\n",
              "      <th>F. education (class)</th>\n",
              "      <th>Father NID</th>\n",
              "      <th>Mother Name</th>\n",
              "      <th>Mother Monthly Income</th>\n",
              "      <th>M. education (class)</th>\n",
              "      <th>No. of family members</th>\n",
              "      <th>No. of edu. Family member ( up to 10)</th>\n",
              "      <th>High edu. Level of  adult ( up to 11)</th>\n",
              "      <th>Location</th>\n",
              "      <th>Gender</th>\n",
              "      <th>Neighbour</th>\n",
              "      <th>Go to School</th>\n",
              "    </tr>\n",
              "  </thead>\n",
              "  <tbody>\n",
              "    <tr>\n",
              "      <th>0</th>\n",
              "      <td>marma</td>\n",
              "      <td>Youong Marma</td>\n",
              "      <td>5</td>\n",
              "      <td>Monghla Prue</td>\n",
              "      <td>23000</td>\n",
              "      <td>class 10</td>\n",
              "      <td>NaN</td>\n",
              "      <td>NaN</td>\n",
              "      <td>9000</td>\n",
              "      <td>clas 8</td>\n",
              "      <td>4</td>\n",
              "      <td>1</td>\n",
              "      <td>1</td>\n",
              "      <td>Gunguru Mukh Para</td>\n",
              "      <td>male</td>\n",
              "      <td>4</td>\n",
              "      <td>yes</td>\n",
              "    </tr>\n",
              "    <tr>\n",
              "      <th>1</th>\n",
              "      <td>marma</td>\n",
              "      <td>hleame</td>\n",
              "      <td>6</td>\n",
              "      <td>Mongkya Hla</td>\n",
              "      <td>20000</td>\n",
              "      <td>class 5</td>\n",
              "      <td>3445620980</td>\n",
              "      <td>NaN</td>\n",
              "      <td>0</td>\n",
              "      <td>class 10</td>\n",
              "      <td>5</td>\n",
              "      <td>2</td>\n",
              "      <td>1</td>\n",
              "      <td>Chemidolu Para</td>\n",
              "      <td>male</td>\n",
              "      <td>4</td>\n",
              "      <td>drop</td>\n",
              "    </tr>\n",
              "    <tr>\n",
              "      <th>2</th>\n",
              "      <td>marma</td>\n",
              "      <td>swe sing marma</td>\n",
              "      <td>4</td>\n",
              "      <td>Aching marma</td>\n",
              "      <td>9500</td>\n",
              "      <td>class 9</td>\n",
              "      <td>3.10E+11</td>\n",
              "      <td>thwe nu ching marma</td>\n",
              "      <td>3000</td>\n",
              "      <td>class 10</td>\n",
              "      <td>5</td>\n",
              "      <td>3</td>\n",
              "      <td>2</td>\n",
              "      <td>janka para</td>\n",
              "      <td>male</td>\n",
              "      <td>1</td>\n",
              "      <td>yes</td>\n",
              "    </tr>\n",
              "    <tr>\n",
              "      <th>3</th>\n",
              "      <td>marma</td>\n",
              "      <td>u kya marma</td>\n",
              "      <td>4</td>\n",
              "      <td>raching u marma</td>\n",
              "      <td>18000</td>\n",
              "      <td>class 9</td>\n",
              "      <td>7345351088</td>\n",
              "      <td>Hla nue ching marma</td>\n",
              "      <td>8000</td>\n",
              "      <td>class 10</td>\n",
              "      <td>6</td>\n",
              "      <td>2</td>\n",
              "      <td>2</td>\n",
              "      <td>janka para</td>\n",
              "      <td>male</td>\n",
              "      <td>4</td>\n",
              "      <td>yes</td>\n",
              "    </tr>\n",
              "    <tr>\n",
              "      <th>4</th>\n",
              "      <td>marma</td>\n",
              "      <td>U ching nu marma</td>\n",
              "      <td>8</td>\n",
              "      <td>Mathwe ching marma</td>\n",
              "      <td>14000</td>\n",
              "      <td>class 9</td>\n",
              "      <td>3.10E+11</td>\n",
              "      <td>Swe nu ma marma</td>\n",
              "      <td>8000</td>\n",
              "      <td>class 10</td>\n",
              "      <td>4</td>\n",
              "      <td>2</td>\n",
              "      <td>2</td>\n",
              "      <td>janka para</td>\n",
              "      <td>male</td>\n",
              "      <td>3</td>\n",
              "      <td>yes</td>\n",
              "    </tr>\n",
              "  </tbody>\n",
              "</table>\n",
              "</div>\n",
              "      <button class=\"colab-df-convert\" onclick=\"convertToInteractive('df-121ef2b5-a0fc-45ae-a5bc-7345d9194fa7')\"\n",
              "              title=\"Convert this dataframe to an interactive table.\"\n",
              "              style=\"display:none;\">\n",
              "        \n",
              "  <svg xmlns=\"http://www.w3.org/2000/svg\" height=\"24px\"viewBox=\"0 0 24 24\"\n",
              "       width=\"24px\">\n",
              "    <path d=\"M0 0h24v24H0V0z\" fill=\"none\"/>\n",
              "    <path d=\"M18.56 5.44l.94 2.06.94-2.06 2.06-.94-2.06-.94-.94-2.06-.94 2.06-2.06.94zm-11 1L8.5 8.5l.94-2.06 2.06-.94-2.06-.94L8.5 2.5l-.94 2.06-2.06.94zm10 10l.94 2.06.94-2.06 2.06-.94-2.06-.94-.94-2.06-.94 2.06-2.06.94z\"/><path d=\"M17.41 7.96l-1.37-1.37c-.4-.4-.92-.59-1.43-.59-.52 0-1.04.2-1.43.59L10.3 9.45l-7.72 7.72c-.78.78-.78 2.05 0 2.83L4 21.41c.39.39.9.59 1.41.59.51 0 1.02-.2 1.41-.59l7.78-7.78 2.81-2.81c.8-.78.8-2.07 0-2.86zM5.41 20L4 18.59l7.72-7.72 1.47 1.35L5.41 20z\"/>\n",
              "  </svg>\n",
              "      </button>\n",
              "      \n",
              "  <style>\n",
              "    .colab-df-container {\n",
              "      display:flex;\n",
              "      flex-wrap:wrap;\n",
              "      gap: 12px;\n",
              "    }\n",
              "\n",
              "    .colab-df-convert {\n",
              "      background-color: #E8F0FE;\n",
              "      border: none;\n",
              "      border-radius: 50%;\n",
              "      cursor: pointer;\n",
              "      display: none;\n",
              "      fill: #1967D2;\n",
              "      height: 32px;\n",
              "      padding: 0 0 0 0;\n",
              "      width: 32px;\n",
              "    }\n",
              "\n",
              "    .colab-df-convert:hover {\n",
              "      background-color: #E2EBFA;\n",
              "      box-shadow: 0px 1px 2px rgba(60, 64, 67, 0.3), 0px 1px 3px 1px rgba(60, 64, 67, 0.15);\n",
              "      fill: #174EA6;\n",
              "    }\n",
              "\n",
              "    [theme=dark] .colab-df-convert {\n",
              "      background-color: #3B4455;\n",
              "      fill: #D2E3FC;\n",
              "    }\n",
              "\n",
              "    [theme=dark] .colab-df-convert:hover {\n",
              "      background-color: #434B5C;\n",
              "      box-shadow: 0px 1px 3px 1px rgba(0, 0, 0, 0.15);\n",
              "      filter: drop-shadow(0px 1px 2px rgba(0, 0, 0, 0.3));\n",
              "      fill: #FFFFFF;\n",
              "    }\n",
              "  </style>\n",
              "\n",
              "      <script>\n",
              "        const buttonEl =\n",
              "          document.querySelector('#df-121ef2b5-a0fc-45ae-a5bc-7345d9194fa7 button.colab-df-convert');\n",
              "        buttonEl.style.display =\n",
              "          google.colab.kernel.accessAllowed ? 'block' : 'none';\n",
              "\n",
              "        async function convertToInteractive(key) {\n",
              "          const element = document.querySelector('#df-121ef2b5-a0fc-45ae-a5bc-7345d9194fa7');\n",
              "          const dataTable =\n",
              "            await google.colab.kernel.invokeFunction('convertToInteractive',\n",
              "                                                     [key], {});\n",
              "          if (!dataTable) return;\n",
              "\n",
              "          const docLinkHtml = 'Like what you see? Visit the ' +\n",
              "            '<a target=\"_blank\" href=https://colab.research.google.com/notebooks/data_table.ipynb>data table notebook</a>'\n",
              "            + ' to learn more about interactive tables.';\n",
              "          element.innerHTML = '';\n",
              "          dataTable['output_type'] = 'display_data';\n",
              "          await google.colab.output.renderOutput(dataTable, element);\n",
              "          const docLink = document.createElement('div');\n",
              "          docLink.innerHTML = docLinkHtml;\n",
              "          element.appendChild(docLink);\n",
              "        }\n",
              "      </script>\n",
              "    </div>\n",
              "  </div>\n",
              "  "
            ]
          },
          "metadata": {},
          "execution_count": 280
        }
      ]
    },
    {
      "cell_type": "markdown",
      "source": [
        "#Preprocessing"
      ],
      "metadata": {
        "id": "GQKvRw_2wI2u"
      }
    },
    {
      "cell_type": "code",
      "source": [
        "df = df.drop(['Student Name','Father Name','Father NID','Mother Name','Gender','Location','Race','High edu. Level of  adult ( up to 11)'],axis=1)"
      ],
      "metadata": {
        "id": "gsAUsmwAwLEN"
      },
      "execution_count": 281,
      "outputs": []
    },
    {
      "cell_type": "code",
      "source": [
        "df.info()"
      ],
      "metadata": {
        "colab": {
          "base_uri": "https://localhost:8080/"
        },
        "id": "OJQprLK8wLHN",
        "outputId": "692d9812-0483-4d04-d1c6-7b70c47c493f"
      },
      "execution_count": 282,
      "outputs": [
        {
          "output_type": "stream",
          "name": "stdout",
          "text": [
            "<class 'pandas.core.frame.DataFrame'>\n",
            "RangeIndex: 653 entries, 0 to 652\n",
            "Data columns (total 9 columns):\n",
            " #   Column                                 Non-Null Count  Dtype \n",
            "---  ------                                 --------------  ----- \n",
            " 0   class                                  653 non-null    int64 \n",
            " 1   Father Monthly Income                  653 non-null    int64 \n",
            " 2   F. education (class)                   653 non-null    object\n",
            " 3   Mother Monthly Income                  653 non-null    int64 \n",
            " 4   M. education (class)                   653 non-null    object\n",
            " 5   No. of family members                  653 non-null    int64 \n",
            " 6   No. of edu. Family member ( up to 10)  653 non-null    int64 \n",
            " 7   Neighbour                              653 non-null    int64 \n",
            " 8   Go to School                           653 non-null    object\n",
            "dtypes: int64(6), object(3)\n",
            "memory usage: 46.0+ KB\n"
          ]
        }
      ]
    },
    {
      "cell_type": "code",
      "source": [
        "print(df['F. education (class)'].unique())\n",
        "df['F. education (class)'] = df['F. education (class)'].map({'class 8':8, 'class 10':10, 'class 9':9, 'class 12':12, 'class 11':11,\n",
        "       'class 7':7, 'class 5':5, 'class 6':6, 'class 4':4})\n",
        "print(df['F. education (class)'].unique())"
      ],
      "metadata": {
        "colab": {
          "base_uri": "https://localhost:8080/"
        },
        "id": "7ea-btBBwOnV",
        "outputId": "ae76fb63-cd56-4dfa-951a-9d9e34c6d610"
      },
      "execution_count": 283,
      "outputs": [
        {
          "output_type": "stream",
          "name": "stdout",
          "text": [
            "['class 10' 'class 5' 'class 9' 'class 12' 'class 11' 'class 8' 'class 7'\n",
            " 'class 6' 'class 4']\n",
            "[10  5  9 12 11  8  7  6  4]\n"
          ]
        }
      ]
    },
    {
      "cell_type": "code",
      "source": [
        "print(df['M. education (class)'].unique())\n",
        "df['M. education (class)'] = df['M. education (class)'].map({'class 5':5, 'class 8':8, 'class 10':10, 'class 7':7, 'class 9':9,\n",
        "       'class 10 ':10, 'class 6':6, 'class 4':4, 'class 3':3, 'clas 8':8, 'classs 8':8,\n",
        "       'class 0':0})\n",
        "print(df['M. education (class)'].unique())"
      ],
      "metadata": {
        "colab": {
          "base_uri": "https://localhost:8080/"
        },
        "id": "ITQiXjxLwTsN",
        "outputId": "2e0682f6-085b-4b5b-8677-2c61a2408629"
      },
      "execution_count": 284,
      "outputs": [
        {
          "output_type": "stream",
          "name": "stdout",
          "text": [
            "['clas 8' 'class 10' 'class 10 ' 'class 3' 'class 4' 'class 5' 'class 6'\n",
            " 'class 7' 'class 8' 'class 9' 'classs 8']\n",
            "[ 8 10  3  4  5  6  7  9]\n"
          ]
        }
      ]
    },
    {
      "cell_type": "code",
      "source": [
        "# print(df['Gender'].unique())\n",
        "# df['Gender'] = df['Gender'].map({'male':1, 'female':0})\n",
        "# print(df['Gender'].unique())"
      ],
      "metadata": {
        "id": "fL11mU8ewT40"
      },
      "execution_count": 285,
      "outputs": []
    },
    {
      "cell_type": "code",
      "source": [
        "print(df['Go to School'].unique())\n",
        "df['Go to School'] = df['Go to School'].map({'yes':1, 'drop':0})\n",
        "print(df['Go to School'].unique())"
      ],
      "metadata": {
        "colab": {
          "base_uri": "https://localhost:8080/"
        },
        "id": "QcHpkvexwOt8",
        "outputId": "727849a0-49ec-4c1a-bc40-ced906f086a4"
      },
      "execution_count": 286,
      "outputs": [
        {
          "output_type": "stream",
          "name": "stdout",
          "text": [
            "['yes' 'drop']\n",
            "[1 0]\n"
          ]
        }
      ]
    },
    {
      "cell_type": "code",
      "source": [
        "# df.isna().sum()"
      ],
      "metadata": {
        "id": "3qx-fVL5wO0V"
      },
      "execution_count": 287,
      "outputs": []
    },
    {
      "cell_type": "code",
      "source": [
        "df.info()"
      ],
      "metadata": {
        "colab": {
          "base_uri": "https://localhost:8080/"
        },
        "id": "dlRaiSe3urJo",
        "outputId": "b5cb2406-db8c-4cdb-8462-56910fa20f96"
      },
      "execution_count": 288,
      "outputs": [
        {
          "output_type": "stream",
          "name": "stdout",
          "text": [
            "<class 'pandas.core.frame.DataFrame'>\n",
            "RangeIndex: 653 entries, 0 to 652\n",
            "Data columns (total 9 columns):\n",
            " #   Column                                 Non-Null Count  Dtype\n",
            "---  ------                                 --------------  -----\n",
            " 0   class                                  653 non-null    int64\n",
            " 1   Father Monthly Income                  653 non-null    int64\n",
            " 2   F. education (class)                   653 non-null    int64\n",
            " 3   Mother Monthly Income                  653 non-null    int64\n",
            " 4   M. education (class)                   653 non-null    int64\n",
            " 5   No. of family members                  653 non-null    int64\n",
            " 6   No. of edu. Family member ( up to 10)  653 non-null    int64\n",
            " 7   Neighbour                              653 non-null    int64\n",
            " 8   Go to School                           653 non-null    int64\n",
            "dtypes: int64(9)\n",
            "memory usage: 46.0 KB\n"
          ]
        }
      ]
    },
    {
      "cell_type": "markdown",
      "source": [
        "#Data Analysis"
      ],
      "metadata": {
        "id": "15W9jS0KvbN9"
      }
    },
    {
      "cell_type": "markdown",
      "source": [
        "## pie chart"
      ],
      "metadata": {
        "id": "7gH_lXso6Rm1"
      }
    },
    {
      "cell_type": "code",
      "source": [
        "import matplotlib.pyplot as plt\n",
        "%matplotlib inline\n",
        "colors = ['steelblue','pink']\n",
        "explode = (0.05, 0.05)\n",
        "plt.pie(df['Go to School'].value_counts(), labels=['Yes','Drop'], autopct = \"%0.2f\", colors=colors, explode=explode)\n",
        "plt.show()"
      ],
      "metadata": {
        "colab": {
          "base_uri": "https://localhost:8080/",
          "height": 248
        },
        "id": "mxjyx2D_6WxB",
        "outputId": "118f045d-ec70-44c7-bce9-c50ca755ca5d"
      },
      "execution_count": 289,
      "outputs": [
        {
          "output_type": "display_data",
          "data": {
            "text/plain": [
              "<Figure size 432x288 with 1 Axes>"
            ],
            "image/png": "[encoded data removed]"
          },
          "metadata": {}
        }
      ]
    },
    {
      "cell_type": "code",
      "source": [],
      "metadata": {
        "id": "JdkboSZY8CIY"
      },
      "execution_count": 289,
      "outputs": []
    },
    {
      "cell_type": "markdown",
      "source": [
        "##Class with Go to School"
      ],
      "metadata": {
        "id": "sX0QNE8Vfeat"
      }
    },
    {
      "cell_type": "code",
      "source": [
        "class_1_5_yes = 0\n",
        "class_1_5_no = 0\n",
        "class_6_8_yes = 0\n",
        "class_6_8_no = 0\n",
        "class_9_10_yes = 0\n",
        "class_9_10_no = 0"
      ],
      "metadata": {
        "id": "YJzNBiHJzwR1"
      },
      "execution_count": 290,
      "outputs": []
    },
    {
      "cell_type": "code",
      "source": [
        "for i in range(len(df)):\n",
        "\n",
        "  if df['class'][i]>0 and df['class'][i]<6:\n",
        "    if df['Go to School'][i] == 1:\n",
        "      class_1_5_yes = class_1_5_yes+1\n",
        "    else:\n",
        "      class_1_5_no = class_1_5_no+1\n",
        "\n",
        "\n",
        "  elif df['class'][i]>5 and df['class'][i]<9:\n",
        "    if df['Go to School'][i] == 1:\n",
        "      class_6_8_yes = class_6_8_yes+1\n",
        "    else:\n",
        "      class_6_8_no = class_6_8_no+1\n",
        "\n",
        "  else:\n",
        "    if df['Go to School'][i] == 1:\n",
        "      class_9_10_yes = class_9_10_yes+1\n",
        "    else:\n",
        "      class_9_10_no = class_9_10_no+1"
      ],
      "metadata": {
        "id": "1dWO032k0KE5"
      },
      "execution_count": 291,
      "outputs": []
    },
    {
      "cell_type": "code",
      "source": [
        "Class = []\n",
        "Class.append({\n",
        "    'class_range': '1-5',\n",
        "    'total_population': class_1_5_yes,\n",
        "    'go_to_school': 'yes'\n",
        "})\n",
        "Class.append({\n",
        "    'class_range': '1-5',\n",
        "    'total_population': class_1_5_no,\n",
        "    'go_to_school': 'dropout'\n",
        "})\n",
        "Class.append({\n",
        "    'class_range': '6-8',\n",
        "    'total_population': class_6_8_yes,\n",
        "    'go_to_school': 'yes'\n",
        "})\n",
        "Class.append({\n",
        "    'class_range': '6-8',\n",
        "    'total_population': class_6_8_no,\n",
        "    'go_to_school': 'dropout'\n",
        "})\n",
        "Class.append({\n",
        "    'class_range': '9-10',\n",
        "    'total_population': class_9_10_yes,\n",
        "    'go_to_school': 'yes'\n",
        "})\n",
        "Class.append({\n",
        "    'class_range': '9-10',\n",
        "    'total_population': class_9_10_no,\n",
        "    'go_to_school': 'dropout'\n",
        "})\n",
        "Class = pd.DataFrame(Class)\n",
        "Class.tail(3)"
      ],
      "metadata": {
        "id": "-b3AtEDp1z4L",
        "colab": {
          "base_uri": "https://localhost:8080/",
          "height": 0
        },
        "outputId": "05fb0e4c-b034-4086-f91b-f4d8fac80246"
      },
      "execution_count": 292,
      "outputs": [
        {
          "output_type": "execute_result",
          "data": {
            "text/plain": [
              "  class_range  total_population go_to_school\n",
              "3         6-8                99      dropout\n",
              "4        9-10                89          yes\n",
              "5        9-10               124      dropout"
            ],
            "text/html": [
              "\n",
              "  <div id=\"df-a2c2a647-2a3e-457c-b6a0-efebcbeb3c95\">\n",
              "    <div class=\"colab-df-container\">\n",
              "      <div>\n",
              "<style scoped>\n",
              "    .dataframe tbody tr th:only-of-type {\n",
              "        vertical-align: middle;\n",
              "    }\n",
              "\n",
              "    .dataframe tbody tr th {\n",
              "        vertical-align: top;\n",
              "    }\n",
              "\n",
              "    .dataframe thead th {\n",
              "        text-align: right;\n",
              "    }\n",
              "</style>\n",
              "<table border=\"1\" class=\"dataframe\">\n",
              "  <thead>\n",
              "    <tr style=\"text-align: right;\">\n",
              "      <th></th>\n",
              "      <th>class_range</th>\n",
              "      <th>total_population</th>\n",
              "      <th>go_to_school</th>\n",
              "    </tr>\n",
              "  </thead>\n",
              "  <tbody>\n",
              "    <tr>\n",
              "      <th>3</th>\n",
              "      <td>6-8</td>\n",
              "      <td>99</td>\n",
              "      <td>dropout</td>\n",
              "    </tr>\n",
              "    <tr>\n",
              "      <th>4</th>\n",
              "      <td>9-10</td>\n",
              "      <td>89</td>\n",
              "      <td>yes</td>\n",
              "    </tr>\n",
              "    <tr>\n",
              "      <th>5</th>\n",
              "      <td>9-10</td>\n",
              "      <td>124</td>\n",
              "      <td>dropout</td>\n",
              "    </tr>\n",
              "  </tbody>\n",
              "</table>\n",
              "</div>\n",
              "      <button class=\"colab-df-convert\" onclick=\"convertToInteractive('df-a2c2a647-2a3e-457c-b6a0-efebcbeb3c95')\"\n",
              "              title=\"Convert this dataframe to an interactive table.\"\n",
              "              style=\"display:none;\">\n",
              "        \n",
              "  <svg xmlns=\"http://www.w3.org/2000/svg\" height=\"24px\"viewBox=\"0 0 24 24\"\n",
              "       width=\"24px\">\n",
              "    <path d=\"M0 0h24v24H0V0z\" fill=\"none\"/>\n",
              "    <path d=\"M18.56 5.44l.94 2.06.94-2.06 2.06-.94-2.06-.94-.94-2.06-.94 2.06-2.06.94zm-11 1L8.5 8.5l.94-2.06 2.06-.94-2.06-.94L8.5 2.5l-.94 2.06-2.06.94zm10 10l.94 2.06.94-2.06 2.06-.94-2.06-.94-.94-2.06-.94 2.06-2.06.94z\"/><path d=\"M17.41 7.96l-1.37-1.37c-.4-.4-.92-.59-1.43-.59-.52 0-1.04.2-1.43.59L10.3 9.45l-7.72 7.72c-.78.78-.78 2.05 0 2.83L4 21.41c.39.39.9.59 1.41.59.51 0 1.02-.2 1.41-.59l7.78-7.78 2.81-2.81c.8-.78.8-2.07 0-2.86zM5.41 20L4 18.59l7.72-7.72 1.47 1.35L5.41 20z\"/>\n",
              "  </svg>\n",
              "      </button>\n",
              "      \n",
              "  <style>\n",
              "    .colab-df-container {\n",
              "      display:flex;\n",
              "      flex-wrap:wrap;\n",
              "      gap: 12px;\n",
              "    }\n",
              "\n",
              "    .colab-df-convert {\n",
              "      background-color: #E8F0FE;\n",
              "      border: none;\n",
              "      border-radius: 50%;\n",
              "      cursor: pointer;\n",
              "      display: none;\n",
              "      fill: #1967D2;\n",
              "      height: 32px;\n",
              "      padding: 0 0 0 0;\n",
              "      width: 32px;\n",
              "    }\n",
              "\n",
              "    .colab-df-convert:hover {\n",
              "      background-color: #E2EBFA;\n",
              "      box-shadow: 0px 1px 2px rgba(60, 64, 67, 0.3), 0px 1px 3px 1px rgba(60, 64, 67, 0.15);\n",
              "      fill: #174EA6;\n",
              "    }\n",
              "\n",
              "    [theme=dark] .colab-df-convert {\n",
              "      background-color: #3B4455;\n",
              "      fill: #D2E3FC;\n",
              "    }\n",
              "\n",
              "    [theme=dark] .colab-df-convert:hover {\n",
              "      background-color: #434B5C;\n",
              "      box-shadow: 0px 1px 3px 1px rgba(0, 0, 0, 0.15);\n",
              "      filter: drop-shadow(0px 1px 2px rgba(0, 0, 0, 0.3));\n",
              "      fill: #FFFFFF;\n",
              "    }\n",
              "  </style>\n",
              "\n",
              "      <script>\n",
              "        const buttonEl =\n",
              "          document.querySelector('#df-a2c2a647-2a3e-457c-b6a0-efebcbeb3c95 button.colab-df-convert');\n",
              "        buttonEl.style.display =\n",
              "          google.colab.kernel.accessAllowed ? 'block' : 'none';\n",
              "\n",
              "        async function convertToInteractive(key) {\n",
              "          const element = document.querySelector('#df-a2c2a647-2a3e-457c-b6a0-efebcbeb3c95');\n",
              "          const dataTable =\n",
              "            await google.colab.kernel.invokeFunction('convertToInteractive',\n",
              "                                                     [key], {});\n",
              "          if (!dataTable) return;\n",
              "\n",
              "          const docLinkHtml = 'Like what you see? Visit the ' +\n",
              "            '<a target=\"_blank\" href=https://colab.research.google.com/notebooks/data_table.ipynb>data table notebook</a>'\n",
              "            + ' to learn more about interactive tables.';\n",
              "          element.innerHTML = '';\n",
              "          dataTable['output_type'] = 'display_data';\n",
              "          await google.colab.output.renderOutput(dataTable, element);\n",
              "          const docLink = document.createElement('div');\n",
              "          docLink.innerHTML = docLinkHtml;\n",
              "          element.appendChild(docLink);\n",
              "        }\n",
              "      </script>\n",
              "    </div>\n",
              "  </div>\n",
              "  "
            ]
          },
          "metadata": {},
          "execution_count": 292
        }
      ]
    },
    {
      "cell_type": "code",
      "source": [
        "import seaborn as sns\n",
        "import matplotlib.pyplot as plt\n",
        "\n",
        "plt.figure(figsize=(10,5))\n",
        "plt.title('school going or dropout based on class lebel')\n",
        "sns.barplot(x = 'class_range',y = 'total_population',hue = 'go_to_school',data = Class)\n",
        "plt.show()"
      ],
      "metadata": {
        "colab": {
          "base_uri": "https://localhost:8080/",
          "height": 0
        },
        "id": "Qu3p7IqA4c17",
        "outputId": "35f75b0d-979f-4d76-cca4-57b407e56360"
      },
      "execution_count": 293,
      "outputs": [
        {
          "output_type": "display_data",
          "data": {
            "text/plain": [
              "<Figure size 720x360 with 1 Axes>"
            ],
            "image/png": "[encoded data removed]"
          },
          "metadata": {
            "needs_background": "light"
          }
        }
      ]
    },
    {
      "cell_type": "code",
      "source": [
        "x = ['1-5','6-8','9-10']\n",
        "y = [class_1_5_no,class_6_8_no,class_9_10_no]\n",
        "plt.figure(figsize=(10,5))\n",
        "plt.plot(x,y)\n",
        "plt.xlabel(\"Class Range\")\n",
        "plt.ylabel('Drop')\n",
        "plt.title('Go to school based on class')\n",
        "plt.savefig(\"class.jpg\")"
      ],
      "metadata": {
        "colab": {
          "base_uri": "https://localhost:8080/",
          "height": 0
        },
        "id": "gHcHJ_XX8ec-",
        "outputId": "4234e6f4-a235-4b7c-e797-e46ea81fcafb"
      },
      "execution_count": 294,
      "outputs": [
        {
          "output_type": "display_data",
          "data": {
            "text/plain": [
              "<Figure size 720x360 with 1 Axes>"
            ],
            "image/png": "[encoded data removed]"
          },
          "metadata": {
            "needs_background": "light"
          }
        }
      ]
    },
    {
      "cell_type": "markdown",
      "source": [
        "##Father & Mother Income"
      ],
      "metadata": {
        "id": "kDyFM2Ds6u2r"
      }
    },
    {
      "cell_type": "code",
      "source": [
        "plt.figure(figsize=(15,15))\n",
        "plt.title('Relation between Father monthly inco,e and student school')\n",
        "sns.countplot(data = df,y = 'Father Monthly Income',hue = 'Go to School')\n",
        "plt.show()\n",
        "plt.savefig(\"Father.png\")"
      ],
      "metadata": {
        "colab": {
          "base_uri": "https://localhost:8080/",
          "height": 0
        },
        "id": "BScHG6tW5rm5",
        "outputId": "93593c97-5710-41fc-ae8b-eadcc2b6dca5"
      },
      "execution_count": 295,
      "outputs": [
        {
          "output_type": "display_data",
          "data": {
            "text/plain": [
              "<Figure size 1080x1080 with 1 Axes>"
            ],
            "image/png": "[encoded data removed]"
          },
          "metadata": {
            "needs_background": "light"
          }
        },
        {
          "output_type": "display_data",
          "data": {
            "text/plain": [
              "<Figure size 432x288 with 0 Axes>"
            ]
          },
          "metadata": {}
        }
      ]
    },
    {
      "cell_type": "code",
      "source": [
        "in_10_yes = 0\n",
        "in_10_no = 0\n",
        "in_15_yes = 0\n",
        "in_15_no = 0\n",
        "in_20_yes = 0\n",
        "in_20_no = 0\n",
        "in_25_yes = 0\n",
        "in_25_no = 0\n",
        "in_30_yes = 0\n",
        "in_30_no = 0\n",
        "in_35_yes = 0\n",
        "in_35_no = 0\n",
        "in_40_yes = 0\n",
        "in_40_no = 0"
      ],
      "metadata": {
        "id": "DUrTFhQsvkeM"
      },
      "execution_count": 296,
      "outputs": []
    },
    {
      "cell_type": "code",
      "source": [
        "for i in range(len(df)):\n",
        "\n",
        "  if df['Father Monthly Income'][i]>=0 and df['Father Monthly Income'][i]<=10000:\n",
        "    if df['Go to School'][i] == 1:\n",
        "      in_10_yes = in_10_yes+1\n",
        "    else:\n",
        "      in_10_no = in_10_no+1\n",
        "\n",
        "  elif df['Father Monthly Income'][i]>10000 and df['Father Monthly Income'][i]<=15000:\n",
        "    if df['Go to School'][i] == 1:\n",
        "      in_15_yes = in_15_yes+1\n",
        "    else:\n",
        "      in_15_no = in_15_no+1\n",
        "  \n",
        "  elif df['Father Monthly Income'][i]>15000 and df['Father Monthly Income'][i]<=20000:\n",
        "    if df['Go to School'][i] == 1:\n",
        "      in_20_yes = in_20_yes+1\n",
        "    else:\n",
        "      in_20_no = in_20_no+1\n",
        "\n",
        "  elif df['Father Monthly Income'][i]>20000 and df['Father Monthly Income'][i]<=25000:\n",
        "    if df['Go to School'][i] == 1:\n",
        "      in_25_yes = in_25_yes+1\n",
        "    else:\n",
        "      in_25_no = in_25_no+1\n",
        "\n",
        "  elif df['Father Monthly Income'][i]>25000 and df['Father Monthly Income'][i]<=30000:\n",
        "    if df['Go to School'][i] == 1:\n",
        "      in_30_yes = in_30_yes+1\n",
        "    else:\n",
        "      in_30_no = in_30_no+1\n",
        "  \n",
        "  elif df['Father Monthly Income'][i]>30000 and df['Father Monthly Income'][i]<=35000:\n",
        "    if df['Go to School'][i] == 1:\n",
        "      in_35_yes = in_35_yes+1\n",
        "    else:\n",
        "      in_35_no = in_35_no+1\n",
        "\n",
        "  else:\n",
        "    if df['Go to School'][i] == 1:\n",
        "      in_40_yes = in_40_yes+1\n",
        "    else:\n",
        "      in_40_yes = in_40_yes+1"
      ],
      "metadata": {
        "id": "qoaWHXhhvUWr"
      },
      "execution_count": 297,
      "outputs": []
    },
    {
      "cell_type": "code",
      "source": [
        "father_income = []\n",
        "father_income.append({\n",
        "    'income_rane': '0-10000',\n",
        "    'total_population': in_10_yes,\n",
        "    'go_to_school': 'yes'\n",
        "})\n",
        "father_income.append({\n",
        "    'income_rane': '0-10000',\n",
        "    'total_population': in_10_no,\n",
        "    'go_to_school': 'dropout'\n",
        "})\n",
        "father_income.append({\n",
        "    'income_rane': '10000-15000',\n",
        "    'total_population': in_15_yes,\n",
        "    'go_to_school': 'yes'\n",
        "})\n",
        "father_income.append({\n",
        "    'income_rane': '10000-15000',\n",
        "    'total_population': in_15_no,\n",
        "    'go_to_school': 'dropout'\n",
        "})\n",
        "father_income.append({\n",
        "    'income_rane': '15000-20000',\n",
        "    'total_population': in_20_yes,\n",
        "    'go_to_school': 'yes'\n",
        "})\n",
        "father_income.append({\n",
        "    'income_rane': '15000-20000',\n",
        "    'total_population': in_20_no,\n",
        "    'go_to_school': 'dropout'\n",
        "})\n",
        "father_income.append({\n",
        "    'income_rane': '20000-25000',\n",
        "    'total_population': in_25_yes,\n",
        "    'go_to_school': 'yes'\n",
        "})\n",
        "father_income.append({\n",
        "    'income_rane': '20000-25000',\n",
        "    'total_population': in_25_no,\n",
        "    'go_to_school': 'dropout'\n",
        "})\n",
        "father_income.append({\n",
        "    'income_rane': '25000-30000',\n",
        "    'total_population': in_30_yes,\n",
        "    'go_to_school': 'yes'\n",
        "})\n",
        "father_income.append({\n",
        "    'income_rane': '25000-30000',\n",
        "    'total_population': in_30_no,\n",
        "    'go_to_school': 'dropout'\n",
        "})\n",
        "father_income.append({\n",
        "    'income_rane': '30000-35000',\n",
        "    'total_population': in_35_yes,\n",
        "    'go_to_school': 'yes'\n",
        "})\n",
        "father_income.append({\n",
        "    'income_rane': '30000-35000',\n",
        "    'total_population': in_35_no,\n",
        "    'go_to_school': 'dropout'\n",
        "})\n",
        "father_income.append({\n",
        "    'income_rane': '35000-higher',\n",
        "    'total_population': in_40_yes,\n",
        "    'go_to_school': 'yes'\n",
        "})\n",
        "father_income.append({\n",
        "    'income_rane': '35000-higher',\n",
        "    'total_population': in_40_no,\n",
        "    'go_to_school': 'dropout'\n",
        "})\n",
        "father_income = pd.DataFrame(father_income)\n",
        "father_income"
      ],
      "metadata": {
        "colab": {
          "base_uri": "https://localhost:8080/",
          "height": 0
        },
        "id": "DTm3aKSqvUb0",
        "outputId": "9b7b7301-405b-4522-fa57-95f0d2504344"
      },
      "execution_count": 298,
      "outputs": [
        {
          "output_type": "execute_result",
          "data": {
            "text/plain": [
              "     income_rane  total_population go_to_school\n",
              "0        0-10000               108          yes\n",
              "1        0-10000                85      dropout\n",
              "2    10000-15000                59          yes\n",
              "3    10000-15000                62      dropout\n",
              "4    15000-20000                98          yes\n",
              "5    15000-20000                80      dropout\n",
              "6    20000-25000                54          yes\n",
              "7    20000-25000                29      dropout\n",
              "8    25000-30000                39          yes\n",
              "9    25000-30000                15      dropout\n",
              "10   30000-35000                14          yes\n",
              "11   30000-35000                 7      dropout\n",
              "12  35000-higher                 3          yes\n",
              "13  35000-higher                 0      dropout"
            ],
            "text/html": [
              "\n",
              "  <div id=\"df-0b18f22c-3fc8-4ab1-a329-eb107ef4bc41\">\n",
              "    <div class=\"colab-df-container\">\n",
              "      <div>\n",
              "<style scoped>\n",
              "    .dataframe tbody tr th:only-of-type {\n",
              "        vertical-align: middle;\n",
              "    }\n",
              "\n",
              "    .dataframe tbody tr th {\n",
              "        vertical-align: top;\n",
              "    }\n",
              "\n",
              "    .dataframe thead th {\n",
              "        text-align: right;\n",
              "    }\n",
              "</style>\n",
              "<table border=\"1\" class=\"dataframe\">\n",
              "  <thead>\n",
              "    <tr style=\"text-align: right;\">\n",
              "      <th></th>\n",
              "      <th>income_rane</th>\n",
              "      <th>total_population</th>\n",
              "      <th>go_to_school</th>\n",
              "    </tr>\n",
              "  </thead>\n",
              "  <tbody>\n",
              "    <tr>\n",
              "      <th>0</th>\n",
              "      <td>0-10000</td>\n",
              "      <td>108</td>\n",
              "      <td>yes</td>\n",
              "    </tr>\n",
              "    <tr>\n",
              "      <th>1</th>\n",
              "      <td>0-10000</td>\n",
              "      <td>85</td>\n",
              "      <td>dropout</td>\n",
              "    </tr>\n",
              "    <tr>\n",
              "      <th>2</th>\n",
              "      <td>10000-15000</td>\n",
              "      <td>59</td>\n",
              "      <td>yes</td>\n",
              "    </tr>\n",
              "    <tr>\n",
              "      <th>3</th>\n",
              "      <td>10000-15000</td>\n",
              "      <td>62</td>\n",
              "      <td>dropout</td>\n",
              "    </tr>\n",
              "    <tr>\n",
              "      <th>4</th>\n",
              "      <td>15000-20000</td>\n",
              "      <td>98</td>\n",
              "      <td>yes</td>\n",
              "    </tr>\n",
              "    <tr>\n",
              "      <th>5</th>\n",
              "      <td>15000-20000</td>\n",
              "      <td>80</td>\n",
              "      <td>dropout</td>\n",
              "    </tr>\n",
              "    <tr>\n",
              "      <th>6</th>\n",
              "      <td>20000-25000</td>\n",
              "      <td>54</td>\n",
              "      <td>yes</td>\n",
              "    </tr>\n",
              "    <tr>\n",
              "      <th>7</th>\n",
              "      <td>20000-25000</td>\n",
              "      <td>29</td>\n",
              "      <td>dropout</td>\n",
              "    </tr>\n",
              "    <tr>\n",
              "      <th>8</th>\n",
              "      <td>25000-30000</td>\n",
              "      <td>39</td>\n",
              "      <td>yes</td>\n",
              "    </tr>\n",
              "    <tr>\n",
              "      <th>9</th>\n",
              "      <td>25000-30000</td>\n",
              "      <td>15</td>\n",
              "      <td>dropout</td>\n",
              "    </tr>\n",
              "    <tr>\n",
              "      <th>10</th>\n",
              "      <td>30000-35000</td>\n",
              "      <td>14</td>\n",
              "      <td>yes</td>\n",
              "    </tr>\n",
              "    <tr>\n",
              "      <th>11</th>\n",
              "      <td>30000-35000</td>\n",
              "      <td>7</td>\n",
              "      <td>dropout</td>\n",
              "    </tr>\n",
              "    <tr>\n",
              "      <th>12</th>\n",
              "      <td>35000-higher</td>\n",
              "      <td>3</td>\n",
              "      <td>yes</td>\n",
              "    </tr>\n",
              "    <tr>\n",
              "      <th>13</th>\n",
              "      <td>35000-higher</td>\n",
              "      <td>0</td>\n",
              "      <td>dropout</td>\n",
              "    </tr>\n",
              "  </tbody>\n",
              "</table>\n",
              "</div>\n",
              "      <button class=\"colab-df-convert\" onclick=\"convertToInteractive('df-0b18f22c-3fc8-4ab1-a329-eb107ef4bc41')\"\n",
              "              title=\"Convert this dataframe to an interactive table.\"\n",
              "              style=\"display:none;\">\n",
              "        \n",
              "  <svg xmlns=\"http://www.w3.org/2000/svg\" height=\"24px\"viewBox=\"0 0 24 24\"\n",
              "       width=\"24px\">\n",
              "    <path d=\"M0 0h24v24H0V0z\" fill=\"none\"/>\n",
              "    <path d=\"M18.56 5.44l.94 2.06.94-2.06 2.06-.94-2.06-.94-.94-2.06-.94 2.06-2.06.94zm-11 1L8.5 8.5l.94-2.06 2.06-.94-2.06-.94L8.5 2.5l-.94 2.06-2.06.94zm10 10l.94 2.06.94-2.06 2.06-.94-2.06-.94-.94-2.06-.94 2.06-2.06.94z\"/><path d=\"M17.41 7.96l-1.37-1.37c-.4-.4-.92-.59-1.43-.59-.52 0-1.04.2-1.43.59L10.3 9.45l-7.72 7.72c-.78.78-.78 2.05 0 2.83L4 21.41c.39.39.9.59 1.41.59.51 0 1.02-.2 1.41-.59l7.78-7.78 2.81-2.81c.8-.78.8-2.07 0-2.86zM5.41 20L4 18.59l7.72-7.72 1.47 1.35L5.41 20z\"/>\n",
              "  </svg>\n",
              "      </button>\n",
              "      \n",
              "  <style>\n",
              "    .colab-df-container {\n",
              "      display:flex;\n",
              "      flex-wrap:wrap;\n",
              "      gap: 12px;\n",
              "    }\n",
              "\n",
              "    .colab-df-convert {\n",
              "      background-color: #E8F0FE;\n",
              "      border: none;\n",
              "      border-radius: 50%;\n",
              "      cursor: pointer;\n",
              "      display: none;\n",
              "      fill: #1967D2;\n",
              "      height: 32px;\n",
              "      padding: 0 0 0 0;\n",
              "      width: 32px;\n",
              "    }\n",
              "\n",
              "    .colab-df-convert:hover {\n",
              "      background-color: #E2EBFA;\n",
              "      box-shadow: 0px 1px 2px rgba(60, 64, 67, 0.3), 0px 1px 3px 1px rgba(60, 64, 67, 0.15);\n",
              "      fill: #174EA6;\n",
              "    }\n",
              "\n",
              "    [theme=dark] .colab-df-convert {\n",
              "      background-color: #3B4455;\n",
              "      fill: #D2E3FC;\n",
              "    }\n",
              "\n",
              "    [theme=dark] .colab-df-convert:hover {\n",
              "      background-color: #434B5C;\n",
              "      box-shadow: 0px 1px 3px 1px rgba(0, 0, 0, 0.15);\n",
              "      filter: drop-shadow(0px 1px 2px rgba(0, 0, 0, 0.3));\n",
              "      fill: #FFFFFF;\n",
              "    }\n",
              "  </style>\n",
              "\n",
              "      <script>\n",
              "        const buttonEl =\n",
              "          document.querySelector('#df-0b18f22c-3fc8-4ab1-a329-eb107ef4bc41 button.colab-df-convert');\n",
              "        buttonEl.style.display =\n",
              "          google.colab.kernel.accessAllowed ? 'block' : 'none';\n",
              "\n",
              "        async function convertToInteractive(key) {\n",
              "          const element = document.querySelector('#df-0b18f22c-3fc8-4ab1-a329-eb107ef4bc41');\n",
              "          const dataTable =\n",
              "            await google.colab.kernel.invokeFunction('convertToInteractive',\n",
              "                                                     [key], {});\n",
              "          if (!dataTable) return;\n",
              "\n",
              "          const docLinkHtml = 'Like what you see? Visit the ' +\n",
              "            '<a target=\"_blank\" href=https://colab.research.google.com/notebooks/data_table.ipynb>data table notebook</a>'\n",
              "            + ' to learn more about interactive tables.';\n",
              "          element.innerHTML = '';\n",
              "          dataTable['output_type'] = 'display_data';\n",
              "          await google.colab.output.renderOutput(dataTable, element);\n",
              "          const docLink = document.createElement('div');\n",
              "          docLink.innerHTML = docLinkHtml;\n",
              "          element.appendChild(docLink);\n",
              "        }\n",
              "      </script>\n",
              "    </div>\n",
              "  </div>\n",
              "  "
            ]
          },
          "metadata": {},
          "execution_count": 298
        }
      ]
    },
    {
      "cell_type": "code",
      "source": [
        "plt.figure(figsize=(10,5))\n",
        "plt.title('school going or dropout based on Father Income')\n",
        "sns.barplot(x = 'income_rane',y = 'total_population',hue = 'go_to_school',data = father_income)\n",
        "plt.show()"
      ],
      "metadata": {
        "colab": {
          "base_uri": "https://localhost:8080/",
          "height": 0
        },
        "id": "Jr8cW_2C0jCt",
        "outputId": "94530324-b517-426e-c39e-93fa8c0fba15"
      },
      "execution_count": 299,
      "outputs": [
        {
          "output_type": "display_data",
          "data": {
            "text/plain": [
              "<Figure size 720x360 with 1 Axes>"
            ],
            "image/png": "[encoded data removed]"
          },
          "metadata": {
            "needs_background": "light"
          }
        }
      ]
    },
    {
      "cell_type": "code",
      "source": [
        "x = ['0-10000','10000-15000','15000-20000','20000-25000','25000-30000','30000-35000','35000-higher']\n",
        "y = [in_10_no,in_15_no,in_20_no,in_25_no,in_30_no,in_35_no,in_40_no]\n",
        "plt.figure(figsize=(10,5))\n",
        "plt.plot(x,y)\n",
        "plt.xlabel(\"Income Range\")\n",
        "plt.ylabel('Drop')\n",
        "plt.title('Go to school based on Father Income')"
      ],
      "metadata": {
        "colab": {
          "base_uri": "https://localhost:8080/",
          "height": 0
        },
        "id": "cveYj1t10jHE",
        "outputId": "ac9dd7c1-107d-4f28-f3cb-ac10f47f2c53"
      },
      "execution_count": 300,
      "outputs": [
        {
          "output_type": "execute_result",
          "data": {
            "text/plain": [
              "Text(0.5, 1.0, 'Go to school based on Father Income')"
            ]
          },
          "metadata": {},
          "execution_count": 300
        },
        {
          "output_type": "display_data",
          "data": {
            "text/plain": [
              "<Figure size 720x360 with 1 Axes>"
            ],
            "image/png": "[encoded data removed]"
          },
          "metadata": {
            "needs_background": "light"
          }
        }
      ]
    },
    {
      "cell_type": "code",
      "source": [
        "plt.figure(figsize=(15,10))\n",
        "plt.title('school going or dropout based on Mother Income')\n",
        "sns.countplot(data = df,y = 'Mother Monthly Income',hue = 'Go to School')\n",
        "plt.show()"
      ],
      "metadata": {
        "colab": {
          "base_uri": "https://localhost:8080/",
          "height": 0
        },
        "id": "VBogXDDc600g",
        "outputId": "f12df97c-6132-41a7-c1d6-77c4162e3e16"
      },
      "execution_count": 301,
      "outputs": [
        {
          "output_type": "display_data",
          "data": {
            "text/plain": [
              "<Figure size 1080x720 with 1 Axes>"
            ],
            "image/png": "[encoded data removed]"
          },
          "metadata": {
            "needs_background": "light"
          }
        }
      ]
    },
    {
      "cell_type": "code",
      "source": [
        "in_5_yes = 0\n",
        "in_5_no = 0\n",
        "in_10_yes = 0\n",
        "in_10_no = 0\n",
        "in_15_yes = 0\n",
        "in_15_no = 0\n",
        "in_20_yes = 0\n",
        "in_20_no = 0"
      ],
      "metadata": {
        "id": "LwVirPO29Q8P"
      },
      "execution_count": 302,
      "outputs": []
    },
    {
      "cell_type": "code",
      "source": [
        "for i in range(len(df)):\n",
        "\n",
        "  if df['Mother Monthly Income'][i]>=0 and df['Mother Monthly Income'][i]<=5000:\n",
        "    if df['Go to School'][i] == 1:\n",
        "      in_5_yes = in_5_yes+1\n",
        "    else:\n",
        "      in_5_no = in_5_no+1\n",
        "\n",
        "  elif df['Mother Monthly Income'][i]>5000 and df['Mother Monthly Income'][i]<=10000:\n",
        "    if df['Go to School'][i] == 1:\n",
        "      in_10_yes = in_10_yes+1\n",
        "    else:\n",
        "      in_10_no = in_10_no+1\n",
        "\n",
        "  elif df['Mother Monthly Income'][i]>10000 and df['Mother Monthly Income'][i]<=15000:\n",
        "    if df['Go to School'][i] == 1:\n",
        "      in_15_yes = in_15_yes+1\n",
        "    else:\n",
        "      in_15_no = in_15_no+1\n",
        "  \n",
        "  else:\n",
        "    if df['Go to School'][i] == 1:\n",
        "      in_20_yes = in_20_yes+1\n",
        "    else:\n",
        "      in_20_no = in_20_no+1"
      ],
      "metadata": {
        "id": "HA-CtgxP9RFs"
      },
      "execution_count": 303,
      "outputs": []
    },
    {
      "cell_type": "code",
      "source": [
        "Mother_income = []\n",
        "Mother_income.append({\n",
        "    'income_range': '0-5000',\n",
        "    'total_population': in_5_yes,\n",
        "    'go_to_school': 'yes'\n",
        "})\n",
        "Mother_income.append({\n",
        "    'income_range': '0-5000',\n",
        "    'total_population': in_5_no,\n",
        "    'go_to_school': 'dropout'\n",
        "})\n",
        "Mother_income.append({\n",
        "    'income_range': '5000-10000',\n",
        "    'total_population': in_10_yes,\n",
        "    'go_to_school': 'yes'\n",
        "})\n",
        "Mother_income.append({\n",
        "    'income_range': '5000-10000',\n",
        "    'total_population': in_10_no,\n",
        "    'go_to_school': 'dropout'\n",
        "})\n",
        "Mother_income.append({\n",
        "    'income_range': '10000-15000',\n",
        "    'total_population': in_15_yes,\n",
        "    'go_to_school': 'yes'\n",
        "})\n",
        "Mother_income.append({\n",
        "    'income_range': '10000-15000',\n",
        "    'total_population': in_15_no,\n",
        "    'go_to_school': 'dropout'\n",
        "})\n",
        "Mother_income = pd.DataFrame(Mother_income)\n",
        "Mother_income"
      ],
      "metadata": {
        "colab": {
          "base_uri": "https://localhost:8080/",
          "height": 0
        },
        "id": "atk0iCnC9RV1",
        "outputId": "da92ad86-1f91-4c54-c1d7-969c8050811b"
      },
      "execution_count": 304,
      "outputs": [
        {
          "output_type": "execute_result",
          "data": {
            "text/plain": [
              "  income_range  total_population go_to_school\n",
              "0       0-5000               313          yes\n",
              "1       0-5000               263      dropout\n",
              "2   5000-10000                55          yes\n",
              "3   5000-10000                16      dropout\n",
              "4  10000-15000                 6          yes\n",
              "5  10000-15000                 0      dropout"
            ],
            "text/html": [
              "\n",
              "  <div id=\"df-9d59ed9c-d808-416c-826a-fe95aa058fbf\">\n",
              "    <div class=\"colab-df-container\">\n",
              "      <div>\n",
              "<style scoped>\n",
              "    .dataframe tbody tr th:only-of-type {\n",
              "        vertical-align: middle;\n",
              "    }\n",
              "\n",
              "    .dataframe tbody tr th {\n",
              "        vertical-align: top;\n",
              "    }\n",
              "\n",
              "    .dataframe thead th {\n",
              "        text-align: right;\n",
              "    }\n",
              "</style>\n",
              "<table border=\"1\" class=\"dataframe\">\n",
              "  <thead>\n",
              "    <tr style=\"text-align: right;\">\n",
              "      <th></th>\n",
              "      <th>income_range</th>\n",
              "      <th>total_population</th>\n",
              "      <th>go_to_school</th>\n",
              "    </tr>\n",
              "  </thead>\n",
              "  <tbody>\n",
              "    <tr>\n",
              "      <th>0</th>\n",
              "      <td>0-5000</td>\n",
              "      <td>313</td>\n",
              "      <td>yes</td>\n",
              "    </tr>\n",
              "    <tr>\n",
              "      <th>1</th>\n",
              "      <td>0-5000</td>\n",
              "      <td>263</td>\n",
              "      <td>dropout</td>\n",
              "    </tr>\n",
              "    <tr>\n",
              "      <th>2</th>\n",
              "      <td>5000-10000</td>\n",
              "      <td>55</td>\n",
              "      <td>yes</td>\n",
              "    </tr>\n",
              "    <tr>\n",
              "      <th>3</th>\n",
              "      <td>5000-10000</td>\n",
              "      <td>16</td>\n",
              "      <td>dropout</td>\n",
              "    </tr>\n",
              "    <tr>\n",
              "      <th>4</th>\n",
              "      <td>10000-15000</td>\n",
              "      <td>6</td>\n",
              "      <td>yes</td>\n",
              "    </tr>\n",
              "    <tr>\n",
              "      <th>5</th>\n",
              "      <td>10000-15000</td>\n",
              "      <td>0</td>\n",
              "      <td>dropout</td>\n",
              "    </tr>\n",
              "  </tbody>\n",
              "</table>\n",
              "</div>\n",
              "      <button class=\"colab-df-convert\" onclick=\"convertToInteractive('df-9d59ed9c-d808-416c-826a-fe95aa058fbf')\"\n",
              "              title=\"Convert this dataframe to an interactive table.\"\n",
              "              style=\"display:none;\">\n",
              "        \n",
              "  <svg xmlns=\"http://www.w3.org/2000/svg\" height=\"24px\"viewBox=\"0 0 24 24\"\n",
              "       width=\"24px\">\n",
              "    <path d=\"M0 0h24v24H0V0z\" fill=\"none\"/>\n",
              "    <path d=\"M18.56 5.44l.94 2.06.94-2.06 2.06-.94-2.06-.94-.94-2.06-.94 2.06-2.06.94zm-11 1L8.5 8.5l.94-2.06 2.06-.94-2.06-.94L8.5 2.5l-.94 2.06-2.06.94zm10 10l.94 2.06.94-2.06 2.06-.94-2.06-.94-.94-2.06-.94 2.06-2.06.94z\"/><path d=\"M17.41 7.96l-1.37-1.37c-.4-.4-.92-.59-1.43-.59-.52 0-1.04.2-1.43.59L10.3 9.45l-7.72 7.72c-.78.78-.78 2.05 0 2.83L4 21.41c.39.39.9.59 1.41.59.51 0 1.02-.2 1.41-.59l7.78-7.78 2.81-2.81c.8-.78.8-2.07 0-2.86zM5.41 20L4 18.59l7.72-7.72 1.47 1.35L5.41 20z\"/>\n",
              "  </svg>\n",
              "      </button>\n",
              "      \n",
              "  <style>\n",
              "    .colab-df-container {\n",
              "      display:flex;\n",
              "      flex-wrap:wrap;\n",
              "      gap: 12px;\n",
              "    }\n",
              "\n",
              "    .colab-df-convert {\n",
              "      background-color: #E8F0FE;\n",
              "      border: none;\n",
              "      border-radius: 50%;\n",
              "      cursor: pointer;\n",
              "      display: none;\n",
              "      fill: #1967D2;\n",
              "      height: 32px;\n",
              "      padding: 0 0 0 0;\n",
              "      width: 32px;\n",
              "    }\n",
              "\n",
              "    .colab-df-convert:hover {\n",
              "      background-color: #E2EBFA;\n",
              "      box-shadow: 0px 1px 2px rgba(60, 64, 67, 0.3), 0px 1px 3px 1px rgba(60, 64, 67, 0.15);\n",
              "      fill: #174EA6;\n",
              "    }\n",
              "\n",
              "    [theme=dark] .colab-df-convert {\n",
              "      background-color: #3B4455;\n",
              "      fill: #D2E3FC;\n",
              "    }\n",
              "\n",
              "    [theme=dark] .colab-df-convert:hover {\n",
              "      background-color: #434B5C;\n",
              "      box-shadow: 0px 1px 3px 1px rgba(0, 0, 0, 0.15);\n",
              "      filter: drop-shadow(0px 1px 2px rgba(0, 0, 0, 0.3));\n",
              "      fill: #FFFFFF;\n",
              "    }\n",
              "  </style>\n",
              "\n",
              "      <script>\n",
              "        const buttonEl =\n",
              "          document.querySelector('#df-9d59ed9c-d808-416c-826a-fe95aa058fbf button.colab-df-convert');\n",
              "        buttonEl.style.display =\n",
              "          google.colab.kernel.accessAllowed ? 'block' : 'none';\n",
              "\n",
              "        async function convertToInteractive(key) {\n",
              "          const element = document.querySelector('#df-9d59ed9c-d808-416c-826a-fe95aa058fbf');\n",
              "          const dataTable =\n",
              "            await google.colab.kernel.invokeFunction('convertToInteractive',\n",
              "                                                     [key], {});\n",
              "          if (!dataTable) return;\n",
              "\n",
              "          const docLinkHtml = 'Like what you see? Visit the ' +\n",
              "            '<a target=\"_blank\" href=https://colab.research.google.com/notebooks/data_table.ipynb>data table notebook</a>'\n",
              "            + ' to learn more about interactive tables.';\n",
              "          element.innerHTML = '';\n",
              "          dataTable['output_type'] = 'display_data';\n",
              "          await google.colab.output.renderOutput(dataTable, element);\n",
              "          const docLink = document.createElement('div');\n",
              "          docLink.innerHTML = docLinkHtml;\n",
              "          element.appendChild(docLink);\n",
              "        }\n",
              "      </script>\n",
              "    </div>\n",
              "  </div>\n",
              "  "
            ]
          },
          "metadata": {},
          "execution_count": 304
        }
      ]
    },
    {
      "cell_type": "code",
      "source": [
        "plt.figure(figsize=(10,5))\n",
        "plt.title('school going or dropout based on Mother Income')\n",
        "sns.barplot(x = 'income_range',y = 'total_population',hue = 'go_to_school',data = Mother_income)\n",
        "plt.show()"
      ],
      "metadata": {
        "colab": {
          "base_uri": "https://localhost:8080/",
          "height": 0
        },
        "id": "swaUz9Im-lDP",
        "outputId": "850e5d26-500a-4817-d8e3-4b74dd58ed69"
      },
      "execution_count": 305,
      "outputs": [
        {
          "output_type": "display_data",
          "data": {
            "text/plain": [
              "<Figure size 720x360 with 1 Axes>"
            ],
            "image/png": "[encoded data removed]"
          },
          "metadata": {
            "needs_background": "light"
          }
        }
      ]
    },
    {
      "cell_type": "code",
      "source": [
        "x = ['0-5000','5000-10000','10000-15000']\n",
        "y = [in_5_no,in_10_no,in_15_no]\n",
        "plt.figure(figsize=(10,5))\n",
        "plt.plot(x,y)\n",
        "plt.xlabel(\"Income Range\")\n",
        "plt.ylabel('Drop Out')\n",
        "plt.title('Go to school based on Mother Income')"
      ],
      "metadata": {
        "colab": {
          "base_uri": "https://localhost:8080/",
          "height": 0
        },
        "id": "1x_BgNlq-lKd",
        "outputId": "ccba93bb-e4d9-47fb-f6a6-93a03ce7c1ff"
      },
      "execution_count": 306,
      "outputs": [
        {
          "output_type": "execute_result",
          "data": {
            "text/plain": [
              "Text(0.5, 1.0, 'Go to school based on Mother Income')"
            ]
          },
          "metadata": {},
          "execution_count": 306
        },
        {
          "output_type": "display_data",
          "data": {
            "text/plain": [
              "<Figure size 720x360 with 1 Axes>"
            ],
            "image/png": "[encoded data removed]"
          },
          "metadata": {
            "needs_background": "light"
          }
        }
      ]
    },
    {
      "cell_type": "markdown",
      "source": [
        "##Father Mother Education"
      ],
      "metadata": {
        "id": "1TpkUJ6_gOCz"
      }
    },
    {
      "cell_type": "code",
      "source": [
        "df['F. education (class)'].unique()"
      ],
      "metadata": {
        "colab": {
          "base_uri": "https://localhost:8080/"
        },
        "id": "esPCBJRogNHT",
        "outputId": "48876f18-bd4f-4c9d-8550-0f5cea26fa30"
      },
      "execution_count": 307,
      "outputs": [
        {
          "output_type": "execute_result",
          "data": {
            "text/plain": [
              "array([10,  5,  9, 12, 11,  8,  7,  6,  4])"
            ]
          },
          "metadata": {},
          "execution_count": 307
        }
      ]
    },
    {
      "cell_type": "code",
      "source": [
        "in_4_yes = 0\n",
        "in_4_no = 0\n",
        "in_5_yes = 0\n",
        "in_5_no = 0\n",
        "in_6_yes = 0\n",
        "in_6_no = 0\n",
        "in_7_yes = 0\n",
        "in_7_no = 0\n",
        "in_8_yes = 0\n",
        "in_8_no = 0\n",
        "in_9_yes = 0\n",
        "in_9_no = 0\n",
        "in_10_yes = 0\n",
        "in_10_no = 0\n",
        "in_11_yes = 0\n",
        "in_11_no = 0\n",
        "in_12_yes = 0\n",
        "in_12_no = 0"
      ],
      "metadata": {
        "id": "G7RhhpUGhOt9"
      },
      "execution_count": 308,
      "outputs": []
    },
    {
      "cell_type": "code",
      "source": [
        "for i in range(len(df)):\n",
        "\n",
        "  if df['F. education (class)'][i]==4:\n",
        "    if df['Go to School'][i] == 1:\n",
        "      in_4_yes = in_4_yes+1\n",
        "    else:\n",
        "      in_4_no = in_4_no+1\n",
        "\n",
        "  elif df['F. education (class)'][i] == 5:\n",
        "    if df['Go to School'][i] == 1:\n",
        "      in_5_yes = in_5_yes+1\n",
        "    else:\n",
        "      in_5_no = in_5_no+1\n",
        "\n",
        "  elif df['F. education (class)'][i]==6:\n",
        "    if df['Go to School'][i] == 1:\n",
        "      in_6_yes = in_6_yes+1\n",
        "    else:\n",
        "      in_6_no = in_6_no+1\n",
        "\n",
        "  elif df['F. education (class)'][i]==7:\n",
        "    if df['Go to School'][i] == 1:\n",
        "      in_7_yes = in_7_yes+1\n",
        "    else:\n",
        "      in_7_no = in_7_no+1\n",
        "\n",
        "  elif df['F. education (class)'][i]==8:\n",
        "    if df['Go to School'][i] == 1:\n",
        "      in_8_yes = in_8_yes+1\n",
        "    else:\n",
        "      in_8_no = in_8_no+1\n",
        "  \n",
        "  elif df['F. education (class)'][i]==9:\n",
        "    if df['Go to School'][i] == 1:\n",
        "      in_9_yes = in_9_yes+1\n",
        "    else:\n",
        "      in_9_no = in_9_no+1\n",
        "\n",
        "  elif df['F. education (class)'][i]==10:\n",
        "    if df['Go to School'][i] == 1:\n",
        "      in_10_yes = in_10_yes+1\n",
        "    else:\n",
        "      in_10_no = in_10_no+1\n",
        "\n",
        "  elif df['F. education (class)'][i]==11:\n",
        "    if df['Go to School'][i] == 1:\n",
        "      in_11_yes = in_11_yes+1\n",
        "    else:\n",
        "      in_11_no = in_11_no+1\n",
        "  \n",
        "  elif df['F. education (class)'][i]==12:\n",
        "    if df['Go to School'][i] == 1:\n",
        "      in_12_yes = in_12_yes+1\n",
        "    else:\n",
        "      in_12_no = in_12_no+1"
      ],
      "metadata": {
        "id": "Uy847NwZgahL"
      },
      "execution_count": 309,
      "outputs": []
    },
    {
      "cell_type": "code",
      "source": [
        "edu_father = []\n",
        "edu_father.append({\n",
        "    'Father_education_class': '4',\n",
        "    'total_population': in_4_yes,\n",
        "    'go_to_school': 'yes'\n",
        "})\n",
        "edu_father.append({\n",
        "    'Father_education_class': '4',\n",
        "    'total_population': in_4_no,\n",
        "    'go_to_school': 'dropout'\n",
        "})\n",
        "edu_father.append({\n",
        "    'Father_education_class': '5',\n",
        "    'total_population': in_5_yes,\n",
        "    'go_to_school': 'yes'\n",
        "})\n",
        "edu_father.append({\n",
        "    'Father_education_class': '5',\n",
        "    'total_population': in_5_no,\n",
        "    'go_to_school': 'dropout'\n",
        "})\n",
        "edu_father.append({\n",
        "    'Father_education_class': '6',\n",
        "    'total_population': in_6_yes,\n",
        "    'go_to_school': 'yes'\n",
        "})\n",
        "edu_father.append({\n",
        "    'Father_education_class': '6',\n",
        "    'total_population': in_6_no,\n",
        "    'go_to_school': 'dropout'\n",
        "})\n",
        "edu_father.append({\n",
        "    'Father_education_class': '7',\n",
        "    'total_population': in_7_yes,\n",
        "    'go_to_school': 'yes'\n",
        "})\n",
        "edu_father.append({\n",
        "    'Father_education_class': '7',\n",
        "    'total_population': in_7_no,\n",
        "    'go_to_school': 'dropout'\n",
        "})\n",
        "edu_father.append({\n",
        "    'Father_education_class': '8',\n",
        "    'total_population': in_8_yes,\n",
        "    'go_to_school': 'yes'\n",
        "})\n",
        "edu_father.append({\n",
        "    'Father_education_class': '8',\n",
        "    'total_population': in_8_no,\n",
        "    'go_to_school': 'dropout'\n",
        "})\n",
        "edu_father.append({\n",
        "    'Father_education_class': '9',\n",
        "    'total_population': in_9_yes,\n",
        "    'go_to_school': 'yes'\n",
        "})\n",
        "edu_father.append({\n",
        "    'Father_education_class': '9',\n",
        "    'total_population': in_9_no,\n",
        "    'go_to_school': 'dropout'\n",
        "})\n",
        "edu_father.append({\n",
        "    'Father_education_class': '10',\n",
        "    'total_population': in_10_yes,\n",
        "    'go_to_school': 'yes'\n",
        "})\n",
        "edu_father.append({\n",
        "    'Father_education_class': '10',\n",
        "    'total_population': in_10_no,\n",
        "    'go_to_school': 'dropout'\n",
        "})\n",
        "edu_father.append({\n",
        "    'Father_education_class': '11',\n",
        "    'total_population': in_11_yes,\n",
        "    'go_to_school': 'yes'\n",
        "})\n",
        "edu_father.append({\n",
        "    'Father_education_class': '11',\n",
        "    'total_population': in_11_no,\n",
        "    'go_to_school': 'dropout'\n",
        "})\n",
        "edu_father.append({\n",
        "    'Father_education_class': '12',\n",
        "    'total_population': in_12_yes,\n",
        "    'go_to_school': 'yes'\n",
        "})\n",
        "edu_father.append({\n",
        "    'Father_education_class': '12',\n",
        "    'total_population': in_12_no,\n",
        "    'go_to_school': 'dropout'\n",
        "})\n",
        "edu_father = pd.DataFrame(edu_father)\n",
        "edu_father"
      ],
      "metadata": {
        "colab": {
          "base_uri": "https://localhost:8080/",
          "height": 0
        },
        "id": "z13OaB8OgakC",
        "outputId": "f2436540-aab3-4bd0-9e8d-72327601012d"
      },
      "execution_count": 310,
      "outputs": [
        {
          "output_type": "execute_result",
          "data": {
            "text/plain": [
              "   Father_education_class  total_population go_to_school\n",
              "0                       4                 0          yes\n",
              "1                       4                 2      dropout\n",
              "2                       5                29          yes\n",
              "3                       5                23      dropout\n",
              "4                       6                 9          yes\n",
              "5                       6                 7      dropout\n",
              "6                       7                14          yes\n",
              "7                       7                16      dropout\n",
              "8                       8               100          yes\n",
              "9                       8               110      dropout\n",
              "10                      9                94          yes\n",
              "11                      9                41      dropout\n",
              "12                     10               104          yes\n",
              "13                     10                79      dropout\n",
              "14                     11                 7          yes\n",
              "15                     11                 0      dropout\n",
              "16                     12                17          yes\n",
              "17                     12                 1      dropout"
            ],
            "text/html": [
              "\n",
              "  <div id=\"df-4a44a904-a0b7-4dd3-b15a-539031331881\">\n",
              "    <div class=\"colab-df-container\">\n",
              "      <div>\n",
              "<style scoped>\n",
              "    .dataframe tbody tr th:only-of-type {\n",
              "        vertical-align: middle;\n",
              "    }\n",
              "\n",
              "    .dataframe tbody tr th {\n",
              "        vertical-align: top;\n",
              "    }\n",
              "\n",
              "    .dataframe thead th {\n",
              "        text-align: right;\n",
              "    }\n",
              "</style>\n",
              "<table border=\"1\" class=\"dataframe\">\n",
              "  <thead>\n",
              "    <tr style=\"text-align: right;\">\n",
              "      <th></th>\n",
              "      <th>Father_education_class</th>\n",
              "      <th>total_population</th>\n",
              "      <th>go_to_school</th>\n",
              "    </tr>\n",
              "  </thead>\n",
              "  <tbody>\n",
              "    <tr>\n",
              "      <th>0</th>\n",
              "      <td>4</td>\n",
              "      <td>0</td>\n",
              "      <td>yes</td>\n",
              "    </tr>\n",
              "    <tr>\n",
              "      <th>1</th>\n",
              "      <td>4</td>\n",
              "      <td>2</td>\n",
              "      <td>dropout</td>\n",
              "    </tr>\n",
              "    <tr>\n",
              "      <th>2</th>\n",
              "      <td>5</td>\n",
              "      <td>29</td>\n",
              "      <td>yes</td>\n",
              "    </tr>\n",
              "    <tr>\n",
              "      <th>3</th>\n",
              "      <td>5</td>\n",
              "      <td>23</td>\n",
              "      <td>dropout</td>\n",
              "    </tr>\n",
              "    <tr>\n",
              "      <th>4</th>\n",
              "      <td>6</td>\n",
              "      <td>9</td>\n",
              "      <td>yes</td>\n",
              "    </tr>\n",
              "    <tr>\n",
              "      <th>5</th>\n",
              "      <td>6</td>\n",
              "      <td>7</td>\n",
              "      <td>dropout</td>\n",
              "    </tr>\n",
              "    <tr>\n",
              "      <th>6</th>\n",
              "      <td>7</td>\n",
              "      <td>14</td>\n",
              "      <td>yes</td>\n",
              "    </tr>\n",
              "    <tr>\n",
              "      <th>7</th>\n",
              "      <td>7</td>\n",
              "      <td>16</td>\n",
              "      <td>dropout</td>\n",
              "    </tr>\n",
              "    <tr>\n",
              "      <th>8</th>\n",
              "      <td>8</td>\n",
              "      <td>100</td>\n",
              "      <td>yes</td>\n",
              "    </tr>\n",
              "    <tr>\n",
              "      <th>9</th>\n",
              "      <td>8</td>\n",
              "      <td>110</td>\n",
              "      <td>dropout</td>\n",
              "    </tr>\n",
              "    <tr>\n",
              "      <th>10</th>\n",
              "      <td>9</td>\n",
              "      <td>94</td>\n",
              "      <td>yes</td>\n",
              "    </tr>\n",
              "    <tr>\n",
              "      <th>11</th>\n",
              "      <td>9</td>\n",
              "      <td>41</td>\n",
              "      <td>dropout</td>\n",
              "    </tr>\n",
              "    <tr>\n",
              "      <th>12</th>\n",
              "      <td>10</td>\n",
              "      <td>104</td>\n",
              "      <td>yes</td>\n",
              "    </tr>\n",
              "    <tr>\n",
              "      <th>13</th>\n",
              "      <td>10</td>\n",
              "      <td>79</td>\n",
              "      <td>dropout</td>\n",
              "    </tr>\n",
              "    <tr>\n",
              "      <th>14</th>\n",
              "      <td>11</td>\n",
              "      <td>7</td>\n",
              "      <td>yes</td>\n",
              "    </tr>\n",
              "    <tr>\n",
              "      <th>15</th>\n",
              "      <td>11</td>\n",
              "      <td>0</td>\n",
              "      <td>dropout</td>\n",
              "    </tr>\n",
              "    <tr>\n",
              "      <th>16</th>\n",
              "      <td>12</td>\n",
              "      <td>17</td>\n",
              "      <td>yes</td>\n",
              "    </tr>\n",
              "    <tr>\n",
              "      <th>17</th>\n",
              "      <td>12</td>\n",
              "      <td>1</td>\n",
              "      <td>dropout</td>\n",
              "    </tr>\n",
              "  </tbody>\n",
              "</table>\n",
              "</div>\n",
              "      <button class=\"colab-df-convert\" onclick=\"convertToInteractive('df-4a44a904-a0b7-4dd3-b15a-539031331881')\"\n",
              "              title=\"Convert this dataframe to an interactive table.\"\n",
              "              style=\"display:none;\">\n",
              "        \n",
              "  <svg xmlns=\"http://www.w3.org/2000/svg\" height=\"24px\"viewBox=\"0 0 24 24\"\n",
              "       width=\"24px\">\n",
              "    <path d=\"M0 0h24v24H0V0z\" fill=\"none\"/>\n",
              "    <path d=\"M18.56 5.44l.94 2.06.94-2.06 2.06-.94-2.06-.94-.94-2.06-.94 2.06-2.06.94zm-11 1L8.5 8.5l.94-2.06 2.06-.94-2.06-.94L8.5 2.5l-.94 2.06-2.06.94zm10 10l.94 2.06.94-2.06 2.06-.94-2.06-.94-.94-2.06-.94 2.06-2.06.94z\"/><path d=\"M17.41 7.96l-1.37-1.37c-.4-.4-.92-.59-1.43-.59-.52 0-1.04.2-1.43.59L10.3 9.45l-7.72 7.72c-.78.78-.78 2.05 0 2.83L4 21.41c.39.39.9.59 1.41.59.51 0 1.02-.2 1.41-.59l7.78-7.78 2.81-2.81c.8-.78.8-2.07 0-2.86zM5.41 20L4 18.59l7.72-7.72 1.47 1.35L5.41 20z\"/>\n",
              "  </svg>\n",
              "      </button>\n",
              "      \n",
              "  <style>\n",
              "    .colab-df-container {\n",
              "      display:flex;\n",
              "      flex-wrap:wrap;\n",
              "      gap: 12px;\n",
              "    }\n",
              "\n",
              "    .colab-df-convert {\n",
              "      background-color: #E8F0FE;\n",
              "      border: none;\n",
              "      border-radius: 50%;\n",
              "      cursor: pointer;\n",
              "      display: none;\n",
              "      fill: #1967D2;\n",
              "      height: 32px;\n",
              "      padding: 0 0 0 0;\n",
              "      width: 32px;\n",
              "    }\n",
              "\n",
              "    .colab-df-convert:hover {\n",
              "      background-color: #E2EBFA;\n",
              "      box-shadow: 0px 1px 2px rgba(60, 64, 67, 0.3), 0px 1px 3px 1px rgba(60, 64, 67, 0.15);\n",
              "      fill: #174EA6;\n",
              "    }\n",
              "\n",
              "    [theme=dark] .colab-df-convert {\n",
              "      background-color: #3B4455;\n",
              "      fill: #D2E3FC;\n",
              "    }\n",
              "\n",
              "    [theme=dark] .colab-df-convert:hover {\n",
              "      background-color: #434B5C;\n",
              "      box-shadow: 0px 1px 3px 1px rgba(0, 0, 0, 0.15);\n",
              "      filter: drop-shadow(0px 1px 2px rgba(0, 0, 0, 0.3));\n",
              "      fill: #FFFFFF;\n",
              "    }\n",
              "  </style>\n",
              "\n",
              "      <script>\n",
              "        const buttonEl =\n",
              "          document.querySelector('#df-4a44a904-a0b7-4dd3-b15a-539031331881 button.colab-df-convert');\n",
              "        buttonEl.style.display =\n",
              "          google.colab.kernel.accessAllowed ? 'block' : 'none';\n",
              "\n",
              "        async function convertToInteractive(key) {\n",
              "          const element = document.querySelector('#df-4a44a904-a0b7-4dd3-b15a-539031331881');\n",
              "          const dataTable =\n",
              "            await google.colab.kernel.invokeFunction('convertToInteractive',\n",
              "                                                     [key], {});\n",
              "          if (!dataTable) return;\n",
              "\n",
              "          const docLinkHtml = 'Like what you see? Visit the ' +\n",
              "            '<a target=\"_blank\" href=https://colab.research.google.com/notebooks/data_table.ipynb>data table notebook</a>'\n",
              "            + ' to learn more about interactive tables.';\n",
              "          element.innerHTML = '';\n",
              "          dataTable['output_type'] = 'display_data';\n",
              "          await google.colab.output.renderOutput(dataTable, element);\n",
              "          const docLink = document.createElement('div');\n",
              "          docLink.innerHTML = docLinkHtml;\n",
              "          element.appendChild(docLink);\n",
              "        }\n",
              "      </script>\n",
              "    </div>\n",
              "  </div>\n",
              "  "
            ]
          },
          "metadata": {},
          "execution_count": 310
        }
      ]
    },
    {
      "cell_type": "code",
      "source": [
        "plt.figure(figsize=(10,5))\n",
        "plt.title('school going or dropout based on Father Education Level')\n",
        "sns.barplot(x = 'Father_education_class',y = 'total_population',hue = 'go_to_school',data = edu_father)\n",
        "plt.show()"
      ],
      "metadata": {
        "colab": {
          "base_uri": "https://localhost:8080/",
          "height": 0
        },
        "id": "803tU99pganb",
        "outputId": "557f9220-696f-4a91-a4df-eed015d9ae81"
      },
      "execution_count": 311,
      "outputs": [
        {
          "output_type": "display_data",
          "data": {
            "text/plain": [
              "<Figure size 720x360 with 1 Axes>"
            ],
            "image/png": "[encoded data removed]"
          },
          "metadata": {
            "needs_background": "light"
          }
        }
      ]
    },
    {
      "cell_type": "code",
      "source": [
        "x = [4,5,6,7,8,9,10,11,12]\n",
        "y = [in_4_no,in_5_no,in_6_no,in_7_no,in_8_no,in_9_no,in_10_no,in_11_no,in_12_no]\n",
        "plt.figure(figsize=(10,5))\n",
        "plt.plot(x,y)\n",
        "plt.xlabel(\"Father Education Class\")\n",
        "plt.ylabel('Drop Out')\n",
        "plt.title('Go to school based on Father Education Level')"
      ],
      "metadata": {
        "colab": {
          "base_uri": "https://localhost:8080/",
          "height": 0
        },
        "id": "VaVU-bMwgaty",
        "outputId": "737bb061-e5dc-444d-9aca-380b9461f3dd"
      },
      "execution_count": 312,
      "outputs": [
        {
          "output_type": "execute_result",
          "data": {
            "text/plain": [
              "Text(0.5, 1.0, 'Go to school based on Father Education Level')"
            ]
          },
          "metadata": {},
          "execution_count": 312
        },
        {
          "output_type": "display_data",
          "data": {
            "text/plain": [
              "<Figure size 720x360 with 1 Axes>"
            ],
            "image/png": "[encoded data removed]"
          },
          "metadata": {
            "needs_background": "light"
          }
        }
      ]
    },
    {
      "cell_type": "code",
      "source": [
        "df['M. education (class)'].unique()"
      ],
      "metadata": {
        "colab": {
          "base_uri": "https://localhost:8080/"
        },
        "id": "7ZXdPrD4jlxV",
        "outputId": "37748593-a3dd-41a5-9ff4-ffd134b5f2ca"
      },
      "execution_count": 313,
      "outputs": [
        {
          "output_type": "execute_result",
          "data": {
            "text/plain": [
              "array([ 8, 10,  3,  4,  5,  6,  7,  9])"
            ]
          },
          "metadata": {},
          "execution_count": 313
        }
      ]
    },
    {
      "cell_type": "code",
      "source": [
        "in_0_yes = 0\n",
        "in_0_no = 0\n",
        "in_3_yes = 0\n",
        "in_3_no = 0\n",
        "in_4_yes = 0\n",
        "in_4_no = 0\n",
        "in_5_yes = 0\n",
        "in_5_no = 0\n",
        "in_6_yes = 0\n",
        "in_6_no = 0\n",
        "in_7_yes = 0\n",
        "in_7_no = 0\n",
        "in_8_yes = 0\n",
        "in_8_no = 0\n",
        "in_9_yes = 0\n",
        "in_9_no = 0\n",
        "in_10_yes = 0\n",
        "in_10_no = 0"
      ],
      "metadata": {
        "id": "EwTqY-kljmDj"
      },
      "execution_count": 314,
      "outputs": []
    },
    {
      "cell_type": "code",
      "source": [
        "for i in range(len(df)):\n",
        "\n",
        "  if df['M. education (class)'][i]==3:\n",
        "    if df['Go to School'][i] == 1:\n",
        "      in_3_yes = in_3_yes+1\n",
        "    else:\n",
        "      in_3_no = in_3_no+1\n",
        "\n",
        "  elif df['M. education (class)'][i]==4:\n",
        "    if df['Go to School'][i] == 1:\n",
        "      in_4_yes = in_4_yes+1\n",
        "    else:\n",
        "      in_4_no = in_4_no+1\n",
        "\n",
        "  elif df['M. education (class)'][i] == 5:\n",
        "    if df['Go to School'][i] == 1:\n",
        "      in_5_yes = in_5_yes+1\n",
        "    else:\n",
        "      in_5_no = in_5_no+1\n",
        "\n",
        "  elif df['M. education (class)'][i]==6:\n",
        "    if df['Go to School'][i] == 1:\n",
        "      in_6_yes = in_6_yes+1\n",
        "    else:\n",
        "      in_6_no = in_6_no+1\n",
        "\n",
        "  elif df['M. education (class)'][i]==7:\n",
        "    if df['Go to School'][i] == 1:\n",
        "      in_7_yes = in_7_yes+1\n",
        "    else:\n",
        "      in_7_no = in_7_no+1\n",
        "\n",
        "  elif df['M. education (class)'][i]==8:\n",
        "    if df['Go to School'][i] == 1:\n",
        "      in_8_yes = in_8_yes+1\n",
        "    else:\n",
        "      in_8_no = in_8_no+1\n",
        "  \n",
        "  elif df['M. education (class)'][i]==9:\n",
        "    if df['Go to School'][i] == 1:\n",
        "      in_9_yes = in_9_yes+1\n",
        "    else:\n",
        "      in_9_no = in_9_no+1\n",
        "\n",
        "  elif df['M. education (class)'][i]==10:\n",
        "    if df['Go to School'][i] == 1:\n",
        "      in_10_yes = in_10_yes+1\n",
        "    else:\n",
        "      in_10_no = in_10_no+1"
      ],
      "metadata": {
        "id": "-3_ROzqNjmHY"
      },
      "execution_count": 315,
      "outputs": []
    },
    {
      "cell_type": "code",
      "source": [
        "edu_mother = []\n",
        "\n",
        "edu_mother.append({\n",
        "    'Mother_education_class': '3',\n",
        "    'total_population': in_3_yes,\n",
        "    'go_to_school': 'yes'\n",
        "})\n",
        "edu_mother.append({\n",
        "    'Mother_education_class': '3',\n",
        "    'total_population': in_3_no,\n",
        "    'go_to_school': 'dropout'\n",
        "})\n",
        "edu_mother.append({\n",
        "    'Mother_education_class': '4',\n",
        "    'total_population': in_4_yes,\n",
        "    'go_to_school': 'yes'\n",
        "})\n",
        "edu_mother.append({\n",
        "    'Mother_education_class': '4',\n",
        "    'total_population': in_4_no,\n",
        "    'go_to_school': 'dropout'\n",
        "})\n",
        "edu_mother.append({\n",
        "    'Mother_education_class': '5',\n",
        "    'total_population': in_5_yes,\n",
        "    'go_to_school': 'yes'\n",
        "})\n",
        "edu_mother.append({\n",
        "    'Mother_education_class': '5',\n",
        "    'total_population': in_5_no,\n",
        "    'go_to_school': 'dropout'\n",
        "})\n",
        "edu_mother.append({\n",
        "    'Mother_education_class': '6',\n",
        "    'total_population': in_6_yes,\n",
        "    'go_to_school': 'yes'\n",
        "})\n",
        "edu_mother.append({\n",
        "    'Mother_education_class': '6',\n",
        "    'total_population': in_6_no,\n",
        "    'go_to_school': 'dropout'\n",
        "})\n",
        "edu_mother.append({\n",
        "    'Mother_education_class': '7',\n",
        "    'total_population': in_7_yes,\n",
        "    'go_to_school': 'yes'\n",
        "})\n",
        "edu_mother.append({\n",
        "    'Mother_education_class': '7',\n",
        "    'total_population': in_7_no,\n",
        "    'go_to_school': 'dropout'\n",
        "})\n",
        "edu_mother.append({\n",
        "    'Mother_education_class': '8',\n",
        "    'total_population': in_8_yes,\n",
        "    'go_to_school': 'yes'\n",
        "})\n",
        "edu_mother.append({\n",
        "    'Mother_education_class': '8',\n",
        "    'total_population': in_8_no,\n",
        "    'go_to_school': 'dropout'\n",
        "})\n",
        "edu_mother.append({\n",
        "    'Mother_education_class': '9',\n",
        "    'total_population': in_9_yes,\n",
        "    'go_to_school': 'yes'\n",
        "})\n",
        "edu_mother.append({\n",
        "    'Mother_education_class': '9',\n",
        "    'total_population': in_9_no,\n",
        "    'go_to_school': 'dropout'\n",
        "})\n",
        "edu_mother.append({\n",
        "    'Mother_education_class': '10',\n",
        "    'total_population': in_10_yes,\n",
        "    'go_to_school': 'yes'\n",
        "})\n",
        "edu_mother.append({\n",
        "    'Mother_education_class': '10',\n",
        "    'total_population': in_10_no,\n",
        "    'go_to_school': 'dropout'\n",
        "})\n",
        "edu_mother = pd.DataFrame(edu_mother)\n",
        "edu_mother"
      ],
      "metadata": {
        "colab": {
          "base_uri": "https://localhost:8080/",
          "height": 0
        },
        "id": "12u6yJ1djmK9",
        "outputId": "c6b44144-a68b-460d-bdca-faee74535661"
      },
      "execution_count": 316,
      "outputs": [
        {
          "output_type": "execute_result",
          "data": {
            "text/plain": [
              "   Mother_education_class  total_population go_to_school\n",
              "0                       3                 2          yes\n",
              "1                       3                 2      dropout\n",
              "2                       4                 6          yes\n",
              "3                       4                 7      dropout\n",
              "4                       5                66          yes\n",
              "5                       5                95      dropout\n",
              "6                       6                29          yes\n",
              "7                       6                43      dropout\n",
              "8                       7                37          yes\n",
              "9                       7                31      dropout\n",
              "10                      8               113          yes\n",
              "11                      8                53      dropout\n",
              "12                      9                36          yes\n",
              "13                      9                23      dropout\n",
              "14                     10                85          yes\n",
              "15                     10                25      dropout"
            ],
            "text/html": [
              "\n",
              "  <div id=\"df-28a0aca1-b094-47fb-9677-a9b3630fb026\">\n",
              "    <div class=\"colab-df-container\">\n",
              "      <div>\n",
              "<style scoped>\n",
              "    .dataframe tbody tr th:only-of-type {\n",
              "        vertical-align: middle;\n",
              "    }\n",
              "\n",
              "    .dataframe tbody tr th {\n",
              "        vertical-align: top;\n",
              "    }\n",
              "\n",
              "    .dataframe thead th {\n",
              "        text-align: right;\n",
              "    }\n",
              "</style>\n",
              "<table border=\"1\" class=\"dataframe\">\n",
              "  <thead>\n",
              "    <tr style=\"text-align: right;\">\n",
              "      <th></th>\n",
              "      <th>Mother_education_class</th>\n",
              "      <th>total_population</th>\n",
              "      <th>go_to_school</th>\n",
              "    </tr>\n",
              "  </thead>\n",
              "  <tbody>\n",
              "    <tr>\n",
              "      <th>0</th>\n",
              "      <td>3</td>\n",
              "      <td>2</td>\n",
              "      <td>yes</td>\n",
              "    </tr>\n",
              "    <tr>\n",
              "      <th>1</th>\n",
              "      <td>3</td>\n",
              "      <td>2</td>\n",
              "      <td>dropout</td>\n",
              "    </tr>\n",
              "    <tr>\n",
              "      <th>2</th>\n",
              "      <td>4</td>\n",
              "      <td>6</td>\n",
              "      <td>yes</td>\n",
              "    </tr>\n",
              "    <tr>\n",
              "      <th>3</th>\n",
              "      <td>4</td>\n",
              "      <td>7</td>\n",
              "      <td>dropout</td>\n",
              "    </tr>\n",
              "    <tr>\n",
              "      <th>4</th>\n",
              "      <td>5</td>\n",
              "      <td>66</td>\n",
              "      <td>yes</td>\n",
              "    </tr>\n",
              "    <tr>\n",
              "      <th>5</th>\n",
              "      <td>5</td>\n",
              "      <td>95</td>\n",
              "      <td>dropout</td>\n",
              "    </tr>\n",
              "    <tr>\n",
              "      <th>6</th>\n",
              "      <td>6</td>\n",
              "      <td>29</td>\n",
              "      <td>yes</td>\n",
              "    </tr>\n",
              "    <tr>\n",
              "      <th>7</th>\n",
              "      <td>6</td>\n",
              "      <td>43</td>\n",
              "      <td>dropout</td>\n",
              "    </tr>\n",
              "    <tr>\n",
              "      <th>8</th>\n",
              "      <td>7</td>\n",
              "      <td>37</td>\n",
              "      <td>yes</td>\n",
              "    </tr>\n",
              "    <tr>\n",
              "      <th>9</th>\n",
              "      <td>7</td>\n",
              "      <td>31</td>\n",
              "      <td>dropout</td>\n",
              "    </tr>\n",
              "    <tr>\n",
              "      <th>10</th>\n",
              "      <td>8</td>\n",
              "      <td>113</td>\n",
              "      <td>yes</td>\n",
              "    </tr>\n",
              "    <tr>\n",
              "      <th>11</th>\n",
              "      <td>8</td>\n",
              "      <td>53</td>\n",
              "      <td>dropout</td>\n",
              "    </tr>\n",
              "    <tr>\n",
              "      <th>12</th>\n",
              "      <td>9</td>\n",
              "      <td>36</td>\n",
              "      <td>yes</td>\n",
              "    </tr>\n",
              "    <tr>\n",
              "      <th>13</th>\n",
              "      <td>9</td>\n",
              "      <td>23</td>\n",
              "      <td>dropout</td>\n",
              "    </tr>\n",
              "    <tr>\n",
              "      <th>14</th>\n",
              "      <td>10</td>\n",
              "      <td>85</td>\n",
              "      <td>yes</td>\n",
              "    </tr>\n",
              "    <tr>\n",
              "      <th>15</th>\n",
              "      <td>10</td>\n",
              "      <td>25</td>\n",
              "      <td>dropout</td>\n",
              "    </tr>\n",
              "  </tbody>\n",
              "</table>\n",
              "</div>\n",
              "      <button class=\"colab-df-convert\" onclick=\"convertToInteractive('df-28a0aca1-b094-47fb-9677-a9b3630fb026')\"\n",
              "              title=\"Convert this dataframe to an interactive table.\"\n",
              "              style=\"display:none;\">\n",
              "        \n",
              "  <svg xmlns=\"http://www.w3.org/2000/svg\" height=\"24px\"viewBox=\"0 0 24 24\"\n",
              "       width=\"24px\">\n",
              "    <path d=\"M0 0h24v24H0V0z\" fill=\"none\"/>\n",
              "    <path d=\"M18.56 5.44l.94 2.06.94-2.06 2.06-.94-2.06-.94-.94-2.06-.94 2.06-2.06.94zm-11 1L8.5 8.5l.94-2.06 2.06-.94-2.06-.94L8.5 2.5l-.94 2.06-2.06.94zm10 10l.94 2.06.94-2.06 2.06-.94-2.06-.94-.94-2.06-.94 2.06-2.06.94z\"/><path d=\"M17.41 7.96l-1.37-1.37c-.4-.4-.92-.59-1.43-.59-.52 0-1.04.2-1.43.59L10.3 9.45l-7.72 7.72c-.78.78-.78 2.05 0 2.83L4 21.41c.39.39.9.59 1.41.59.51 0 1.02-.2 1.41-.59l7.78-7.78 2.81-2.81c.8-.78.8-2.07 0-2.86zM5.41 20L4 18.59l7.72-7.72 1.47 1.35L5.41 20z\"/>\n",
              "  </svg>\n",
              "      </button>\n",
              "      \n",
              "  <style>\n",
              "    .colab-df-container {\n",
              "      display:flex;\n",
              "      flex-wrap:wrap;\n",
              "      gap: 12px;\n",
              "    }\n",
              "\n",
              "    .colab-df-convert {\n",
              "      background-color: #E8F0FE;\n",
              "      border: none;\n",
              "      border-radius: 50%;\n",
              "      cursor: pointer;\n",
              "      display: none;\n",
              "      fill: #1967D2;\n",
              "      height: 32px;\n",
              "      padding: 0 0 0 0;\n",
              "      width: 32px;\n",
              "    }\n",
              "\n",
              "    .colab-df-convert:hover {\n",
              "      background-color: #E2EBFA;\n",
              "      box-shadow: 0px 1px 2px rgba(60, 64, 67, 0.3), 0px 1px 3px 1px rgba(60, 64, 67, 0.15);\n",
              "      fill: #174EA6;\n",
              "    }\n",
              "\n",
              "    [theme=dark] .colab-df-convert {\n",
              "      background-color: #3B4455;\n",
              "      fill: #D2E3FC;\n",
              "    }\n",
              "\n",
              "    [theme=dark] .colab-df-convert:hover {\n",
              "      background-color: #434B5C;\n",
              "      box-shadow: 0px 1px 3px 1px rgba(0, 0, 0, 0.15);\n",
              "      filter: drop-shadow(0px 1px 2px rgba(0, 0, 0, 0.3));\n",
              "      fill: #FFFFFF;\n",
              "    }\n",
              "  </style>\n",
              "\n",
              "      <script>\n",
              "        const buttonEl =\n",
              "          document.querySelector('#df-28a0aca1-b094-47fb-9677-a9b3630fb026 button.colab-df-convert');\n",
              "        buttonEl.style.display =\n",
              "          google.colab.kernel.accessAllowed ? 'block' : 'none';\n",
              "\n",
              "        async function convertToInteractive(key) {\n",
              "          const element = document.querySelector('#df-28a0aca1-b094-47fb-9677-a9b3630fb026');\n",
              "          const dataTable =\n",
              "            await google.colab.kernel.invokeFunction('convertToInteractive',\n",
              "                                                     [key], {});\n",
              "          if (!dataTable) return;\n",
              "\n",
              "          const docLinkHtml = 'Like what you see? Visit the ' +\n",
              "            '<a target=\"_blank\" href=https://colab.research.google.com/notebooks/data_table.ipynb>data table notebook</a>'\n",
              "            + ' to learn more about interactive tables.';\n",
              "          element.innerHTML = '';\n",
              "          dataTable['output_type'] = 'display_data';\n",
              "          await google.colab.output.renderOutput(dataTable, element);\n",
              "          const docLink = document.createElement('div');\n",
              "          docLink.innerHTML = docLinkHtml;\n",
              "          element.appendChild(docLink);\n",
              "        }\n",
              "      </script>\n",
              "    </div>\n",
              "  </div>\n",
              "  "
            ]
          },
          "metadata": {},
          "execution_count": 316
        }
      ]
    },
    {
      "cell_type": "code",
      "source": [
        "plt.figure(figsize=(10,5))\n",
        "plt.title('school going or dropout based on Mother Education Level')\n",
        "sns.barplot(x = 'Mother_education_class',y = 'total_population',hue = 'go_to_school',data = edu_mother)\n",
        "plt.show()"
      ],
      "metadata": {
        "colab": {
          "base_uri": "https://localhost:8080/",
          "height": 0
        },
        "id": "JcoHZXNrjmOF",
        "outputId": "865a4ae3-d344-459e-e6d9-a1c45e90511b"
      },
      "execution_count": 317,
      "outputs": [
        {
          "output_type": "display_data",
          "data": {
            "text/plain": [
              "<Figure size 720x360 with 1 Axes>"
            ],
            "image/png": "[encoded data removed]"
          },
          "metadata": {
            "needs_background": "light"
          }
        }
      ]
    },
    {
      "cell_type": "code",
      "source": [
        "x = [3,4,5,6,7,8,9,10]\n",
        "y = [in_3_no,in_4_no,in_5_no,in_6_no,in_7_no,in_8_no,in_9_no,in_10_no]\n",
        "plt.figure(figsize=(10,5))\n",
        "plt.plot(x,y)\n",
        "plt.xlabel(\"Mother Education Class\")\n",
        "plt.ylabel('Drop Out')\n",
        "plt.title('Go to school based on Mother Education Level')"
      ],
      "metadata": {
        "colab": {
          "base_uri": "https://localhost:8080/",
          "height": 0
        },
        "id": "3xZEBcO_jmRd",
        "outputId": "ef66500c-425a-4bf5-d753-821431ae9b43"
      },
      "execution_count": 318,
      "outputs": [
        {
          "output_type": "execute_result",
          "data": {
            "text/plain": [
              "Text(0.5, 1.0, 'Go to school based on Mother Education Level')"
            ]
          },
          "metadata": {},
          "execution_count": 318
        },
        {
          "output_type": "display_data",
          "data": {
            "text/plain": [
              "<Figure size 720x360 with 1 Axes>"
            ],
            "image/png": "[encoded data removed]"
          },
          "metadata": {
            "needs_background": "light"
          }
        }
      ]
    },
    {
      "cell_type": "markdown",
      "source": [
        "##Family Member"
      ],
      "metadata": {
        "id": "u-puinUCndDm"
      }
    },
    {
      "cell_type": "code",
      "source": [
        "df['No. of family members'].unique()"
      ],
      "metadata": {
        "colab": {
          "base_uri": "https://localhost:8080/"
        },
        "id": "PfnzvkK-jmVb",
        "outputId": "2c52eb96-c8cb-4c94-b000-3399c55f9f2a"
      },
      "execution_count": 319,
      "outputs": [
        {
          "output_type": "execute_result",
          "data": {
            "text/plain": [
              "array([ 4,  5,  6,  3,  7, 13,  8, 10,  9])"
            ]
          },
          "metadata": {},
          "execution_count": 319
        }
      ]
    },
    {
      "cell_type": "code",
      "source": [
        "in_2_yes = 0\n",
        "in_2_no = 0\n",
        "in_3_yes = 0\n",
        "in_3_no = 0\n",
        "in_4_yes = 0\n",
        "in_4_no = 0\n",
        "in_5_yes = 0\n",
        "in_5_no = 0\n",
        "in_6_yes = 0\n",
        "in_6_no = 0\n",
        "in_7_yes = 0\n",
        "in_7_no = 0\n",
        "in_8_yes = 0\n",
        "in_8_no = 0\n",
        "in_9_yes = 0\n",
        "in_9_no = 0\n",
        "in_10_yes = 0\n",
        "in_10_no = 0\n",
        "in_13_yes = 0\n",
        "in_13_no = 0"
      ],
      "metadata": {
        "id": "u4zLc6l2nh_l"
      },
      "execution_count": 320,
      "outputs": []
    },
    {
      "cell_type": "code",
      "source": [
        "for i in range(len(df)):\n",
        "\n",
        "  if df['No. of family members'][i]==3:\n",
        "    if df['Go to School'][i] == 1:\n",
        "      in_3_yes = in_3_yes+1\n",
        "    else:\n",
        "      in_3_no = in_3_no+1\n",
        "\n",
        "  elif df['No. of family members'][i]==4:\n",
        "    if df['Go to School'][i] == 1:\n",
        "      in_4_yes = in_4_yes+1\n",
        "    else:\n",
        "      in_4_no = in_4_no+1\n",
        "\n",
        "  elif df['No. of family members'][i] == 5:\n",
        "    if df['Go to School'][i] == 1:\n",
        "      in_5_yes = in_5_yes+1\n",
        "    else:\n",
        "      in_5_no = in_5_no+1\n",
        "\n",
        "  elif df['No. of family members'][i]==6:\n",
        "    if df['Go to School'][i] == 1:\n",
        "      in_6_yes = in_6_yes+1\n",
        "    else:\n",
        "      in_6_no = in_6_no+1\n",
        "\n",
        "  elif df['No. of family members'][i]==7:\n",
        "    if df['Go to School'][i] == 1:\n",
        "      in_7_yes = in_7_yes+1\n",
        "    else:\n",
        "      in_7_no = in_7_no+1\n",
        "\n",
        "  elif df['No. of family members'][i]==8:\n",
        "    if df['Go to School'][i] == 1:\n",
        "      in_8_yes = in_8_yes+1\n",
        "    else:\n",
        "      in_8_no = in_8_no+1\n",
        "  \n",
        "  elif df['No. of family members'][i]==9:\n",
        "    if df['Go to School'][i] == 1:\n",
        "      in_9_yes = in_9_yes+1\n",
        "    else:\n",
        "      in_9_no = in_9_no+1\n",
        "\n",
        "  elif df['No. of family members'][i]==10:\n",
        "    if df['Go to School'][i] == 1:\n",
        "      in_10_yes = in_10_yes+1\n",
        "    else:\n",
        "      in_10_no = in_10_no+1\n",
        "  \n",
        "  elif df['No. of family members'][i]==13:\n",
        "    if df['Go to School'][i] == 1:\n",
        "      in_13_yes = in_13_yes+1\n",
        "    else:\n",
        "      in_13_no = in_13_no+1"
      ],
      "metadata": {
        "id": "Tx3RmwmqniJM"
      },
      "execution_count": 321,
      "outputs": []
    },
    {
      "cell_type": "code",
      "source": [
        "family_member = []\n",
        "\n",
        "family_member.append({\n",
        "    'Total_Family_Member': '3',\n",
        "    'total_population': in_3_yes,\n",
        "    'go_to_school': 'yes'\n",
        "})\n",
        "family_member.append({\n",
        "    'Total_Family_Member': '3',\n",
        "    'total_population': in_3_no,\n",
        "    'go_to_school': 'dropout'\n",
        "})\n",
        "family_member.append({\n",
        "    'Total_Family_Member': '4',\n",
        "    'total_population': in_4_yes,\n",
        "    'go_to_school': 'yes'\n",
        "})\n",
        "family_member.append({\n",
        "    'Total_Family_Member': '4',\n",
        "    'total_population': in_4_no,\n",
        "    'go_to_school': 'dropout'\n",
        "})\n",
        "family_member.append({\n",
        "    'Total_Family_Member': '5',\n",
        "    'total_population': in_5_yes,\n",
        "    'go_to_school': 'yes'\n",
        "})\n",
        "family_member.append({\n",
        "    'Total_Family_Member': '5',\n",
        "    'total_population': in_5_no,\n",
        "    'go_to_school': 'dropout'\n",
        "})\n",
        "family_member.append({\n",
        "    'Total_Family_Member': '6',\n",
        "    'total_population': in_6_yes,\n",
        "    'go_to_school': 'yes'\n",
        "})\n",
        "family_member.append({\n",
        "    'Total_Family_Member': '6',\n",
        "    'total_population': in_6_no,\n",
        "    'go_to_school': 'dropout'\n",
        "})\n",
        "family_member.append({\n",
        "    'Total_Family_Member': '7',\n",
        "    'total_population': in_7_yes,\n",
        "    'go_to_school': 'yes'\n",
        "})\n",
        "family_member.append({\n",
        "    'Total_Family_Member': '7',\n",
        "    'total_population': in_7_no,\n",
        "    'go_to_school': 'dropout'\n",
        "})\n",
        "family_member.append({\n",
        "    'Total_Family_Member': '8',\n",
        "    'total_population': in_8_yes,\n",
        "    'go_to_school': 'yes'\n",
        "})\n",
        "family_member.append({\n",
        "    'Total_Family_Member': '8',\n",
        "    'total_population': in_8_no,\n",
        "    'go_to_school': 'dropout'\n",
        "})\n",
        "family_member.append({\n",
        "    'Total_Family_Member': '9',\n",
        "    'total_population': in_9_yes,\n",
        "    'go_to_school': 'yes'\n",
        "})\n",
        "family_member.append({\n",
        "    'Total_Family_Member': '9',\n",
        "    'total_population': in_9_no,\n",
        "    'go_to_school': 'dropout'\n",
        "})\n",
        "family_member.append({\n",
        "    'Total_Family_Member': '10',\n",
        "    'total_population': in_10_yes,\n",
        "    'go_to_school': 'yes'\n",
        "})\n",
        "family_member.append({\n",
        "    'Total_Family_Member': '10',\n",
        "    'total_population': in_10_no,\n",
        "    'go_to_school': 'dropout'\n",
        "})\n",
        "family_member.append({\n",
        "    'Total_Family_Member': '13',\n",
        "    'total_population': in_13_yes,\n",
        "    'go_to_school': 'yes'\n",
        "})\n",
        "family_member.append({\n",
        "    'Total_Family_Member': '13',\n",
        "    'total_population': in_13_no,\n",
        "    'go_to_school': 'dropout'\n",
        "})\n",
        "family_member = pd.DataFrame(family_member)\n",
        "family_member"
      ],
      "metadata": {
        "colab": {
          "base_uri": "https://localhost:8080/",
          "height": 613
        },
        "id": "HRPw0WM1niRM",
        "outputId": "315b957a-5813-4210-a6f7-a8a9cf1118cb"
      },
      "execution_count": 322,
      "outputs": [
        {
          "output_type": "execute_result",
          "data": {
            "text/plain": [
              "   Total_Family_Member  total_population go_to_school\n",
              "0                    3                35          yes\n",
              "1                    3                 4      dropout\n",
              "2                    4                89          yes\n",
              "3                    4                28      dropout\n",
              "4                    5               119          yes\n",
              "5                    5                76      dropout\n",
              "6                    6                74          yes\n",
              "7                    6                69      dropout\n",
              "8                    7                40          yes\n",
              "9                    7                65      dropout\n",
              "10                   8                11          yes\n",
              "11                   8                31      dropout\n",
              "12                   9                 4          yes\n",
              "13                   9                 4      dropout\n",
              "14                  10                 1          yes\n",
              "15                  10                 2      dropout\n",
              "16                  13                 1          yes\n",
              "17                  13                 0      dropout"
            ],
            "text/html": [
              "\n",
              "  <div id=\"df-cdec6ada-af6a-4b66-a7a1-3ec68a15fa3d\">\n",
              "    <div class=\"colab-df-container\">\n",
              "      <div>\n",
              "<style scoped>\n",
              "    .dataframe tbody tr th:only-of-type {\n",
              "        vertical-align: middle;\n",
              "    }\n",
              "\n",
              "    .dataframe tbody tr th {\n",
              "        vertical-align: top;\n",
              "    }\n",
              "\n",
              "    .dataframe thead th {\n",
              "        text-align: right;\n",
              "    }\n",
              "</style>\n",
              "<table border=\"1\" class=\"dataframe\">\n",
              "  <thead>\n",
              "    <tr style=\"text-align: right;\">\n",
              "      <th></th>\n",
              "      <th>Total_Family_Member</th>\n",
              "      <th>total_population</th>\n",
              "      <th>go_to_school</th>\n",
              "    </tr>\n",
              "  </thead>\n",
              "  <tbody>\n",
              "    <tr>\n",
              "      <th>0</th>\n",
              "      <td>3</td>\n",
              "      <td>35</td>\n",
              "      <td>yes</td>\n",
              "    </tr>\n",
              "    <tr>\n",
              "      <th>1</th>\n",
              "      <td>3</td>\n",
              "      <td>4</td>\n",
              "      <td>dropout</td>\n",
              "    </tr>\n",
              "    <tr>\n",
              "      <th>2</th>\n",
              "      <td>4</td>\n",
              "      <td>89</td>\n",
              "      <td>yes</td>\n",
              "    </tr>\n",
              "    <tr>\n",
              "      <th>3</th>\n",
              "      <td>4</td>\n",
              "      <td>28</td>\n",
              "      <td>dropout</td>\n",
              "    </tr>\n",
              "    <tr>\n",
              "      <th>4</th>\n",
              "      <td>5</td>\n",
              "      <td>119</td>\n",
              "      <td>yes</td>\n",
              "    </tr>\n",
              "    <tr>\n",
              "      <th>5</th>\n",
              "      <td>5</td>\n",
              "      <td>76</td>\n",
              "      <td>dropout</td>\n",
              "    </tr>\n",
              "    <tr>\n",
              "      <th>6</th>\n",
              "      <td>6</td>\n",
              "      <td>74</td>\n",
              "      <td>yes</td>\n",
              "    </tr>\n",
              "    <tr>\n",
              "      <th>7</th>\n",
              "      <td>6</td>\n",
              "      <td>69</td>\n",
              "      <td>dropout</td>\n",
              "    </tr>\n",
              "    <tr>\n",
              "      <th>8</th>\n",
              "      <td>7</td>\n",
              "      <td>40</td>\n",
              "      <td>yes</td>\n",
              "    </tr>\n",
              "    <tr>\n",
              "      <th>9</th>\n",
              "      <td>7</td>\n",
              "      <td>65</td>\n",
              "      <td>dropout</td>\n",
              "    </tr>\n",
              "    <tr>\n",
              "      <th>10</th>\n",
              "      <td>8</td>\n",
              "      <td>11</td>\n",
              "      <td>yes</td>\n",
              "    </tr>\n",
              "    <tr>\n",
              "      <th>11</th>\n",
              "      <td>8</td>\n",
              "      <td>31</td>\n",
              "      <td>dropout</td>\n",
              "    </tr>\n",
              "    <tr>\n",
              "      <th>12</th>\n",
              "      <td>9</td>\n",
              "      <td>4</td>\n",
              "      <td>yes</td>\n",
              "    </tr>\n",
              "    <tr>\n",
              "      <th>13</th>\n",
              "      <td>9</td>\n",
              "      <td>4</td>\n",
              "      <td>dropout</td>\n",
              "    </tr>\n",
              "    <tr>\n",
              "      <th>14</th>\n",
              "      <td>10</td>\n",
              "      <td>1</td>\n",
              "      <td>yes</td>\n",
              "    </tr>\n",
              "    <tr>\n",
              "      <th>15</th>\n",
              "      <td>10</td>\n",
              "      <td>2</td>\n",
              "      <td>dropout</td>\n",
              "    </tr>\n",
              "    <tr>\n",
              "      <th>16</th>\n",
              "      <td>13</td>\n",
              "      <td>1</td>\n",
              "      <td>yes</td>\n",
              "    </tr>\n",
              "    <tr>\n",
              "      <th>17</th>\n",
              "      <td>13</td>\n",
              "      <td>0</td>\n",
              "      <td>dropout</td>\n",
              "    </tr>\n",
              "  </tbody>\n",
              "</table>\n",
              "</div>\n",
              "      <button class=\"colab-df-convert\" onclick=\"convertToInteractive('df-cdec6ada-af6a-4b66-a7a1-3ec68a15fa3d')\"\n",
              "              title=\"Convert this dataframe to an interactive table.\"\n",
              "              style=\"display:none;\">\n",
              "        \n",
              "  <svg xmlns=\"http://www.w3.org/2000/svg\" height=\"24px\"viewBox=\"0 0 24 24\"\n",
              "       width=\"24px\">\n",
              "    <path d=\"M0 0h24v24H0V0z\" fill=\"none\"/>\n",
              "    <path d=\"M18.56 5.44l.94 2.06.94-2.06 2.06-.94-2.06-.94-.94-2.06-.94 2.06-2.06.94zm-11 1L8.5 8.5l.94-2.06 2.06-.94-2.06-.94L8.5 2.5l-.94 2.06-2.06.94zm10 10l.94 2.06.94-2.06 2.06-.94-2.06-.94-.94-2.06-.94 2.06-2.06.94z\"/><path d=\"M17.41 7.96l-1.37-1.37c-.4-.4-.92-.59-1.43-.59-.52 0-1.04.2-1.43.59L10.3 9.45l-7.72 7.72c-.78.78-.78 2.05 0 2.83L4 21.41c.39.39.9.59 1.41.59.51 0 1.02-.2 1.41-.59l7.78-7.78 2.81-2.81c.8-.78.8-2.07 0-2.86zM5.41 20L4 18.59l7.72-7.72 1.47 1.35L5.41 20z\"/>\n",
              "  </svg>\n",
              "      </button>\n",
              "      \n",
              "  <style>\n",
              "    .colab-df-container {\n",
              "      display:flex;\n",
              "      flex-wrap:wrap;\n",
              "      gap: 12px;\n",
              "    }\n",
              "\n",
              "    .colab-df-convert {\n",
              "      background-color: #E8F0FE;\n",
              "      border: none;\n",
              "      border-radius: 50%;\n",
              "      cursor: pointer;\n",
              "      display: none;\n",
              "      fill: #1967D2;\n",
              "      height: 32px;\n",
              "      padding: 0 0 0 0;\n",
              "      width: 32px;\n",
              "    }\n",
              "\n",
              "    .colab-df-convert:hover {\n",
              "      background-color: #E2EBFA;\n",
              "      box-shadow: 0px 1px 2px rgba(60, 64, 67, 0.3), 0px 1px 3px 1px rgba(60, 64, 67, 0.15);\n",
              "      fill: #174EA6;\n",
              "    }\n",
              "\n",
              "    [theme=dark] .colab-df-convert {\n",
              "      background-color: #3B4455;\n",
              "      fill: #D2E3FC;\n",
              "    }\n",
              "\n",
              "    [theme=dark] .colab-df-convert:hover {\n",
              "      background-color: #434B5C;\n",
              "      box-shadow: 0px 1px 3px 1px rgba(0, 0, 0, 0.15);\n",
              "      filter: drop-shadow(0px 1px 2px rgba(0, 0, 0, 0.3));\n",
              "      fill: #FFFFFF;\n",
              "    }\n",
              "  </style>\n",
              "\n",
              "      <script>\n",
              "        const buttonEl =\n",
              "          document.querySelector('#df-cdec6ada-af6a-4b66-a7a1-3ec68a15fa3d button.colab-df-convert');\n",
              "        buttonEl.style.display =\n",
              "          google.colab.kernel.accessAllowed ? 'block' : 'none';\n",
              "\n",
              "        async function convertToInteractive(key) {\n",
              "          const element = document.querySelector('#df-cdec6ada-af6a-4b66-a7a1-3ec68a15fa3d');\n",
              "          const dataTable =\n",
              "            await google.colab.kernel.invokeFunction('convertToInteractive',\n",
              "                                                     [key], {});\n",
              "          if (!dataTable) return;\n",
              "\n",
              "          const docLinkHtml = 'Like what you see? Visit the ' +\n",
              "            '<a target=\"_blank\" href=https://colab.research.google.com/notebooks/data_table.ipynb>data table notebook</a>'\n",
              "            + ' to learn more about interactive tables.';\n",
              "          element.innerHTML = '';\n",
              "          dataTable['output_type'] = 'display_data';\n",
              "          await google.colab.output.renderOutput(dataTable, element);\n",
              "          const docLink = document.createElement('div');\n",
              "          docLink.innerHTML = docLinkHtml;\n",
              "          element.appendChild(docLink);\n",
              "        }\n",
              "      </script>\n",
              "    </div>\n",
              "  </div>\n",
              "  "
            ]
          },
          "metadata": {},
          "execution_count": 322
        }
      ]
    },
    {
      "cell_type": "code",
      "source": [
        "plt.figure(figsize=(10,5))\n",
        "plt.title('school going or dropout based on Total No. Of Family Member')\n",
        "sns.barplot(x = 'Total_Family_Member',y = 'total_population',hue = 'go_to_school',data = family_member)\n",
        "plt.show()"
      ],
      "metadata": {
        "colab": {
          "base_uri": "https://localhost:8080/",
          "height": 351
        },
        "id": "mtvHYZC0nihF",
        "outputId": "fe0d4033-dfba-4957-ba22-34876217e6a3"
      },
      "execution_count": 323,
      "outputs": [
        {
          "output_type": "display_data",
          "data": {
            "text/plain": [
              "<Figure size 720x360 with 1 Axes>"
            ],
            "image/png": "[encoded data removed]"
          },
          "metadata": {
            "needs_background": "light"
          }
        }
      ]
    },
    {
      "cell_type": "code",
      "source": [
        "x = [2,3,4,5,6,7,8,9,10,13]\n",
        "y = [in_2_no,in_3_no,in_4_no,in_5_no,in_6_no,in_7_no,in_8_no,in_9_no,in_10_no,in_13_no]\n",
        "plt.figure(figsize=(10,5))\n",
        "plt.plot(x,y)\n",
        "plt.xlabel(\"No. of Family Member\")\n",
        "plt.ylabel('Drop Out')\n",
        "plt.title('Go to school based on Total No. Of Family Member')"
      ],
      "metadata": {
        "colab": {
          "base_uri": "https://localhost:8080/",
          "height": 368
        },
        "id": "T6Ksn0npni0O",
        "outputId": "a23c6a01-7aa5-412c-a96d-2a47963e87ff"
      },
      "execution_count": 324,
      "outputs": [
        {
          "output_type": "execute_result",
          "data": {
            "text/plain": [
              "Text(0.5, 1.0, 'Go to school based on Total No. Of Family Member')"
            ]
          },
          "metadata": {},
          "execution_count": 324
        },
        {
          "output_type": "display_data",
          "data": {
            "text/plain": [
              "<Figure size 720x360 with 1 Axes>"
            ],
            "image/png": "[encoded data removed]"
          },
          "metadata": {
            "needs_background": "light"
          }
        }
      ]
    },
    {
      "cell_type": "markdown",
      "source": [
        "##No. of educated family member"
      ],
      "metadata": {
        "id": "L9nWQA9YgGIU"
      }
    },
    {
      "cell_type": "code",
      "source": [
        "for i in range(len(df)):\n",
        "  if df['F. education (class)'][i]==10:\n",
        "    if df['No. of edu. Family member ( up to 10)'][i]>0:\n",
        "      df['No. of edu. Family member ( up to 10)'][i] = df['No. of edu. Family member ( up to 10)'][i]-1\n",
        "    else:\n",
        "      pass\n",
        "\n",
        "  if df['M. education (class)'][i]==10:\n",
        "    if df['No. of edu. Family member ( up to 10)'][i]>0:\n",
        "      df['No. of edu. Family member ( up to 10)'][i] = df['No. of edu. Family member ( up to 10)'][i]-1\n",
        "    else:\n",
        "      pass"
      ],
      "metadata": {
        "id": "suneYpfnNjep"
      },
      "execution_count": 325,
      "outputs": []
    },
    {
      "cell_type": "code",
      "source": [
        "in_0_yes = 0\n",
        "in_0_no = 0\n",
        "in_1_yes = 0\n",
        "in_1_no = 0\n",
        "in_2_yes = 0\n",
        "in_2_no = 0\n",
        "in_3_yes = 0\n",
        "in_3_no = 0\n",
        "in_4_yes = 0\n",
        "in_4_no = 0\n",
        "in_5_yes = 0\n",
        "in_5_no = 0"
      ],
      "metadata": {
        "id": "wfyVYsjNQWcd"
      },
      "execution_count": 326,
      "outputs": []
    },
    {
      "cell_type": "code",
      "source": [
        "for i in range(len(df)):\n",
        "\n",
        "  if df['No. of edu. Family member ( up to 10)'][i]==0:\n",
        "    if df['Go to School'][i] == 1:\n",
        "      in_0_yes = in_0_yes+1\n",
        "    else:\n",
        "      in_0_no = in_0_no+1\n",
        "\n",
        "  elif df['No. of edu. Family member ( up to 10)'][i] == 1:\n",
        "    if df['Go to School'][i] == 1:\n",
        "      in_1_yes = in_1_yes+1\n",
        "    else:\n",
        "      in_1_no = in_1_no+1\n",
        "\n",
        "  elif df['No. of edu. Family member ( up to 10)'][i]==2:\n",
        "    if df['Go to School'][i] == 1:\n",
        "      in_2_yes = in_2_yes+1\n",
        "    else:\n",
        "      in_2_no = in_2_no+1\n",
        "\n",
        "  elif df['No. of edu. Family member ( up to 10)'][i]==3:\n",
        "    if df['Go to School'][i] == 1:\n",
        "      in_3_yes = in_3_yes+1\n",
        "    else:\n",
        "      in_3_no = in_3_no+1\n",
        "\n",
        "  elif df['No. of edu. Family member ( up to 10)'][i]==4:\n",
        "    if df['Go to School'][i] == 1:\n",
        "      in_4_yes = in_4_yes+1\n",
        "    else:\n",
        "      in_4_no = in_4_no+1\n",
        "  \n",
        "  elif df['No. of edu. Family member ( up to 10)'][i]==5:\n",
        "    if df['Go to School'][i] == 1:\n",
        "      in_5_yes = in_5_yes+1\n",
        "    else:\n",
        "      in_5_no = in_5_no+1"
      ],
      "metadata": {
        "id": "uK9xxBLhQ1XZ"
      },
      "execution_count": 327,
      "outputs": []
    },
    {
      "cell_type": "code",
      "source": [
        "edu_adult = []\n",
        "edu_adult.append({\n",
        "    'no_edu_adult': '0',\n",
        "    'total_population': in_0_yes,\n",
        "    'go_to_school': 'yes'\n",
        "})\n",
        "edu_adult.append({\n",
        "    'no_edu_adult': '0',\n",
        "    'total_population': in_0_no,\n",
        "    'go_to_school': 'dropout'\n",
        "})\n",
        "edu_adult.append({\n",
        "    'no_edu_adult': '1',\n",
        "    'total_population': in_1_yes,\n",
        "    'go_to_school': 'yes'\n",
        "})\n",
        "edu_adult.append({\n",
        "    'no_edu_adult': '1',\n",
        "    'total_population': in_1_no,\n",
        "    'go_to_school': 'dropout'\n",
        "})\n",
        "edu_adult.append({\n",
        "    'no_edu_adult': '2',\n",
        "    'total_population': in_2_yes,\n",
        "    'go_to_school': 'yes'\n",
        "})\n",
        "edu_adult.append({\n",
        "    'no_edu_adult': '2',\n",
        "    'total_population': in_2_no,\n",
        "    'go_to_school': 'dropout'\n",
        "})\n",
        "edu_adult.append({\n",
        "    'no_edu_adult': '3',\n",
        "    'total_population': in_3_yes,\n",
        "    'go_to_school': 'yes'\n",
        "})\n",
        "edu_adult.append({\n",
        "    'no_edu_adult': '3',\n",
        "    'total_population': in_3_no,\n",
        "    'go_to_school': 'dropout'\n",
        "})\n",
        "edu_adult.append({\n",
        "    'no_edu_adult': '4',\n",
        "    'total_population': in_4_yes,\n",
        "    'go_to_school': 'yes'\n",
        "})\n",
        "edu_adult.append({\n",
        "    'no_edu_adult': '4',\n",
        "    'total_population': in_4_no,\n",
        "    'go_to_school': 'dropout'\n",
        "})\n",
        "edu_adult.append({\n",
        "    'no_edu_adult': '5',\n",
        "    'total_population': in_5_yes,\n",
        "    'go_to_school': 'yes'\n",
        "})\n",
        "edu_adult.append({\n",
        "    'no_edu_adult': '5',\n",
        "    'total_population': in_5_no,\n",
        "    'go_to_school': 'dropout'\n",
        "})\n",
        "edu_adult = pd.DataFrame(edu_adult)\n",
        "edu_adult"
      ],
      "metadata": {
        "colab": {
          "base_uri": "https://localhost:8080/",
          "height": 425
        },
        "id": "4dZiJphnQuS5",
        "outputId": "c0db23de-acf5-42e8-8a50-9f642f8a93c3"
      },
      "execution_count": 328,
      "outputs": [
        {
          "output_type": "execute_result",
          "data": {
            "text/plain": [
              "   no_edu_adult  total_population go_to_school\n",
              "0             0                85          yes\n",
              "1             0                54      dropout\n",
              "2             1               110          yes\n",
              "3             1                83      dropout\n",
              "4             2               119          yes\n",
              "5             2                74      dropout\n",
              "6             3                53          yes\n",
              "7             3                51      dropout\n",
              "8             4                 7          yes\n",
              "9             4                14      dropout\n",
              "10            5                 0          yes\n",
              "11            5                 3      dropout"
            ],
            "text/html": [
              "\n",
              "  <div id=\"df-2b5423ac-1b1f-4e02-bea0-4a5e24ae87ac\">\n",
              "    <div class=\"colab-df-container\">\n",
              "      <div>\n",
              "<style scoped>\n",
              "    .dataframe tbody tr th:only-of-type {\n",
              "        vertical-align: middle;\n",
              "    }\n",
              "\n",
              "    .dataframe tbody tr th {\n",
              "        vertical-align: top;\n",
              "    }\n",
              "\n",
              "    .dataframe thead th {\n",
              "        text-align: right;\n",
              "    }\n",
              "</style>\n",
              "<table border=\"1\" class=\"dataframe\">\n",
              "  <thead>\n",
              "    <tr style=\"text-align: right;\">\n",
              "      <th></th>\n",
              "      <th>no_edu_adult</th>\n",
              "      <th>total_population</th>\n",
              "      <th>go_to_school</th>\n",
              "    </tr>\n",
              "  </thead>\n",
              "  <tbody>\n",
              "    <tr>\n",
              "      <th>0</th>\n",
              "      <td>0</td>\n",
              "      <td>85</td>\n",
              "      <td>yes</td>\n",
              "    </tr>\n",
              "    <tr>\n",
              "      <th>1</th>\n",
              "      <td>0</td>\n",
              "      <td>54</td>\n",
              "      <td>dropout</td>\n",
              "    </tr>\n",
              "    <tr>\n",
              "      <th>2</th>\n",
              "      <td>1</td>\n",
              "      <td>110</td>\n",
              "      <td>yes</td>\n",
              "    </tr>\n",
              "    <tr>\n",
              "      <th>3</th>\n",
              "      <td>1</td>\n",
              "      <td>83</td>\n",
              "      <td>dropout</td>\n",
              "    </tr>\n",
              "    <tr>\n",
              "      <th>4</th>\n",
              "      <td>2</td>\n",
              "      <td>119</td>\n",
              "      <td>yes</td>\n",
              "    </tr>\n",
              "    <tr>\n",
              "      <th>5</th>\n",
              "      <td>2</td>\n",
              "      <td>74</td>\n",
              "      <td>dropout</td>\n",
              "    </tr>\n",
              "    <tr>\n",
              "      <th>6</th>\n",
              "      <td>3</td>\n",
              "      <td>53</td>\n",
              "      <td>yes</td>\n",
              "    </tr>\n",
              "    <tr>\n",
              "      <th>7</th>\n",
              "      <td>3</td>\n",
              "      <td>51</td>\n",
              "      <td>dropout</td>\n",
              "    </tr>\n",
              "    <tr>\n",
              "      <th>8</th>\n",
              "      <td>4</td>\n",
              "      <td>7</td>\n",
              "      <td>yes</td>\n",
              "    </tr>\n",
              "    <tr>\n",
              "      <th>9</th>\n",
              "      <td>4</td>\n",
              "      <td>14</td>\n",
              "      <td>dropout</td>\n",
              "    </tr>\n",
              "    <tr>\n",
              "      <th>10</th>\n",
              "      <td>5</td>\n",
              "      <td>0</td>\n",
              "      <td>yes</td>\n",
              "    </tr>\n",
              "    <tr>\n",
              "      <th>11</th>\n",
              "      <td>5</td>\n",
              "      <td>3</td>\n",
              "      <td>dropout</td>\n",
              "    </tr>\n",
              "  </tbody>\n",
              "</table>\n",
              "</div>\n",
              "      <button class=\"colab-df-convert\" onclick=\"convertToInteractive('df-2b5423ac-1b1f-4e02-bea0-4a5e24ae87ac')\"\n",
              "              title=\"Convert this dataframe to an interactive table.\"\n",
              "              style=\"display:none;\">\n",
              "        \n",
              "  <svg xmlns=\"http://www.w3.org/2000/svg\" height=\"24px\"viewBox=\"0 0 24 24\"\n",
              "       width=\"24px\">\n",
              "    <path d=\"M0 0h24v24H0V0z\" fill=\"none\"/>\n",
              "    <path d=\"M18.56 5.44l.94 2.06.94-2.06 2.06-.94-2.06-.94-.94-2.06-.94 2.06-2.06.94zm-11 1L8.5 8.5l.94-2.06 2.06-.94-2.06-.94L8.5 2.5l-.94 2.06-2.06.94zm10 10l.94 2.06.94-2.06 2.06-.94-2.06-.94-.94-2.06-.94 2.06-2.06.94z\"/><path d=\"M17.41 7.96l-1.37-1.37c-.4-.4-.92-.59-1.43-.59-.52 0-1.04.2-1.43.59L10.3 9.45l-7.72 7.72c-.78.78-.78 2.05 0 2.83L4 21.41c.39.39.9.59 1.41.59.51 0 1.02-.2 1.41-.59l7.78-7.78 2.81-2.81c.8-.78.8-2.07 0-2.86zM5.41 20L4 18.59l7.72-7.72 1.47 1.35L5.41 20z\"/>\n",
              "  </svg>\n",
              "      </button>\n",
              "      \n",
              "  <style>\n",
              "    .colab-df-container {\n",
              "      display:flex;\n",
              "      flex-wrap:wrap;\n",
              "      gap: 12px;\n",
              "    }\n",
              "\n",
              "    .colab-df-convert {\n",
              "      background-color: #E8F0FE;\n",
              "      border: none;\n",
              "      border-radius: 50%;\n",
              "      cursor: pointer;\n",
              "      display: none;\n",
              "      fill: #1967D2;\n",
              "      height: 32px;\n",
              "      padding: 0 0 0 0;\n",
              "      width: 32px;\n",
              "    }\n",
              "\n",
              "    .colab-df-convert:hover {\n",
              "      background-color: #E2EBFA;\n",
              "      box-shadow: 0px 1px 2px rgba(60, 64, 67, 0.3), 0px 1px 3px 1px rgba(60, 64, 67, 0.15);\n",
              "      fill: #174EA6;\n",
              "    }\n",
              "\n",
              "    [theme=dark] .colab-df-convert {\n",
              "      background-color: #3B4455;\n",
              "      fill: #D2E3FC;\n",
              "    }\n",
              "\n",
              "    [theme=dark] .colab-df-convert:hover {\n",
              "      background-color: #434B5C;\n",
              "      box-shadow: 0px 1px 3px 1px rgba(0, 0, 0, 0.15);\n",
              "      filter: drop-shadow(0px 1px 2px rgba(0, 0, 0, 0.3));\n",
              "      fill: #FFFFFF;\n",
              "    }\n",
              "  </style>\n",
              "\n",
              "      <script>\n",
              "        const buttonEl =\n",
              "          document.querySelector('#df-2b5423ac-1b1f-4e02-bea0-4a5e24ae87ac button.colab-df-convert');\n",
              "        buttonEl.style.display =\n",
              "          google.colab.kernel.accessAllowed ? 'block' : 'none';\n",
              "\n",
              "        async function convertToInteractive(key) {\n",
              "          const element = document.querySelector('#df-2b5423ac-1b1f-4e02-bea0-4a5e24ae87ac');\n",
              "          const dataTable =\n",
              "            await google.colab.kernel.invokeFunction('convertToInteractive',\n",
              "                                                     [key], {});\n",
              "          if (!dataTable) return;\n",
              "\n",
              "          const docLinkHtml = 'Like what you see? Visit the ' +\n",
              "            '<a target=\"_blank\" href=https://colab.research.google.com/notebooks/data_table.ipynb>data table notebook</a>'\n",
              "            + ' to learn more about interactive tables.';\n",
              "          element.innerHTML = '';\n",
              "          dataTable['output_type'] = 'display_data';\n",
              "          await google.colab.output.renderOutput(dataTable, element);\n",
              "          const docLink = document.createElement('div');\n",
              "          docLink.innerHTML = docLinkHtml;\n",
              "          element.appendChild(docLink);\n",
              "        }\n",
              "      </script>\n",
              "    </div>\n",
              "  </div>\n",
              "  "
            ]
          },
          "metadata": {},
          "execution_count": 328
        }
      ]
    },
    {
      "cell_type": "code",
      "source": [
        "plt.figure(figsize=(10,5))\n",
        "plt.title('school going or dropout based on Educated Adult')\n",
        "sns.barplot(x = 'no_edu_adult',y = 'total_population',hue = 'go_to_school',data = edu_adult)\n",
        "plt.show()"
      ],
      "metadata": {
        "colab": {
          "base_uri": "https://localhost:8080/",
          "height": 351
        },
        "id": "FNVqgvJyS-_X",
        "outputId": "db23a8f8-e255-4ad8-8b2b-078ff0c13be0"
      },
      "execution_count": 329,
      "outputs": [
        {
          "output_type": "display_data",
          "data": {
            "text/plain": [
              "<Figure size 720x360 with 1 Axes>"
            ],
            "image/png": "[encoded data removed]"
          },
          "metadata": {
            "needs_background": "light"
          }
        }
      ]
    },
    {
      "cell_type": "code",
      "source": [
        "x = ['0','1','2','3','4','5']\n",
        "y = [in_0_no,in_1_no,in_2_no,in_3_no,in_4_no,in_5_no]\n",
        "plt.figure(figsize=(10,5))\n",
        "plt.plot(x,y)\n",
        "plt.xlabel(\"Total Number Of Educated Adult\")\n",
        "plt.ylabel('Drop Out')\n",
        "plt.title('Go to school based on Educated Adult')"
      ],
      "metadata": {
        "colab": {
          "base_uri": "https://localhost:8080/",
          "height": 368
        },
        "id": "NzzDsXnSixrS",
        "outputId": "a97c7053-88f2-4ec3-fb10-c4919408f3e2"
      },
      "execution_count": 330,
      "outputs": [
        {
          "output_type": "execute_result",
          "data": {
            "text/plain": [
              "Text(0.5, 1.0, 'Go to school based on Educated Adult')"
            ]
          },
          "metadata": {},
          "execution_count": 330
        },
        {
          "output_type": "display_data",
          "data": {
            "text/plain": [
              "<Figure size 720x360 with 1 Axes>"
            ],
            "image/png": "[encoded data removed]"
          },
          "metadata": {
            "needs_background": "light"
          }
        }
      ]
    },
    {
      "cell_type": "markdown",
      "source": [
        "##Gender"
      ],
      "metadata": {
        "id": "mu0E0mq6r3fn"
      }
    },
    {
      "cell_type": "code",
      "source": [
        "# df.Gender.unique()"
      ],
      "metadata": {
        "id": "1T9HZectr7BE"
      },
      "execution_count": 331,
      "outputs": []
    },
    {
      "cell_type": "code",
      "source": [
        "# male_yes = 0\n",
        "# male_no = 0\n",
        "# female_yes = 0\n",
        "# female_no = 0"
      ],
      "metadata": {
        "id": "sd5p8E4sr7EF"
      },
      "execution_count": 332,
      "outputs": []
    },
    {
      "cell_type": "code",
      "source": [
        "# for i in range(len(df)):\n",
        "\n",
        "#   if df.Gender[i]==1:\n",
        "#     if df['Go to School'][i] == 1:\n",
        "#       male_yes = male_yes+1\n",
        "#     else:\n",
        "#       male_no = male_no+1\n",
        "\n",
        "#   elif df.Gender[i] == 0:\n",
        "#     if df['Go to School'][i] == 1:\n",
        "#       female_yes = female_yes+1\n",
        "#     else:\n",
        "#       female_no = female_no+1"
      ],
      "metadata": {
        "id": "VX0D58h7r7HR"
      },
      "execution_count": 333,
      "outputs": []
    },
    {
      "cell_type": "code",
      "source": [
        "# gender = []\n",
        "# gender.append({\n",
        "#     'Gender': 'male',\n",
        "#     'total_population': male_yes,\n",
        "#     'go_to_school': 'yes'\n",
        "# })\n",
        "# gender.append({\n",
        "#     'Gender': 'male',\n",
        "#     'total_population': male_no,\n",
        "#     'go_to_school': 'dropout'\n",
        "# })\n",
        "# gender.append({\n",
        "#     'Gender': 'female',\n",
        "#     'total_population': female_yes,\n",
        "#     'go_to_school': 'yes'\n",
        "# })\n",
        "# gender.append({\n",
        "#     'Gender': 'female',\n",
        "#     'total_population': female_no,\n",
        "#     'go_to_school': 'dropout'\n",
        "# })\n",
        "\n",
        "# gender = pd.DataFrame(gender)\n",
        "# gender"
      ],
      "metadata": {
        "id": "TmdTJ5nVr7OE"
      },
      "execution_count": 334,
      "outputs": []
    },
    {
      "cell_type": "code",
      "source": [
        "# plt.figure(figsize=(10,5))\n",
        "# plt.title('school going or dropout based on Gender')\n",
        "# sns.barplot(x = 'Gender',y = 'total_population',hue = 'go_to_school',data = gender)\n",
        "# plt.show()"
      ],
      "metadata": {
        "id": "aRYlzVXMr7cl"
      },
      "execution_count": 335,
      "outputs": []
    },
    {
      "cell_type": "code",
      "source": [
        "# x = ['male','female']\n",
        "# y = [male_no,female_no]\n",
        "# plt.figure(figsize=(10,5))\n",
        "# plt.plot(x,y)\n",
        "# plt.xlabel(\"Gender\")\n",
        "# plt.ylabel('Drop Out')\n",
        "# plt.title('Go to school based on Father Education Level')"
      ],
      "metadata": {
        "id": "nabBq6HbtUzN"
      },
      "execution_count": 336,
      "outputs": []
    },
    {
      "cell_type": "markdown",
      "source": [
        "##Neighbour"
      ],
      "metadata": {
        "id": "qwdeETNRcySm"
      }
    },
    {
      "cell_type": "code",
      "source": [
        "df.Neighbour.unique()"
      ],
      "metadata": {
        "id": "C2DXLOwfirnC",
        "colab": {
          "base_uri": "https://localhost:8080/"
        },
        "outputId": "b299054f-33ed-4082-9668-30bacf97ded8"
      },
      "execution_count": 337,
      "outputs": [
        {
          "output_type": "execute_result",
          "data": {
            "text/plain": [
              "array([4, 1, 3, 2, 7, 6, 5, 8])"
            ]
          },
          "metadata": {},
          "execution_count": 337
        }
      ]
    },
    {
      "cell_type": "code",
      "source": [
        "in_1_yes = 0\n",
        "in_1_no = 0\n",
        "in_2_yes = 0\n",
        "in_2_no = 0\n",
        "in_3_yes = 0\n",
        "in_3_no = 0\n",
        "in_4_yes = 0\n",
        "in_4_no = 0\n",
        "in_5_yes = 0\n",
        "in_5_no = 0\n",
        "in_6_yes = 0\n",
        "in_6_no = 0\n",
        "in_7_yes = 0\n",
        "in_7_no = 0\n",
        "in_8_yes = 0\n",
        "in_8_no = 0"
      ],
      "metadata": {
        "id": "kLrzpsqUc5-V"
      },
      "execution_count": 338,
      "outputs": []
    },
    {
      "cell_type": "code",
      "source": [
        "for i in range(len(df)):\n",
        "\n",
        "  if df.Neighbour[i] == 1:\n",
        "    if df['Go to School'][i] == 1:\n",
        "      in_1_yes = in_1_yes+1\n",
        "    else:\n",
        "      in_1_no = in_1_no+1\n",
        "\n",
        "  elif df.Neighbour[i]==2:\n",
        "    if df['Go to School'][i] == 1:\n",
        "      in_2_yes = in_2_yes+1\n",
        "    else:\n",
        "      in_2_no = in_2_no+1\n",
        "\n",
        "  elif df.Neighbour[i]==3:\n",
        "    if df['Go to School'][i] == 1:\n",
        "      in_3_yes = in_3_yes+1\n",
        "    else:\n",
        "      in_3_no = in_3_no+1\n",
        "\n",
        "  elif df.Neighbour[i]==4:\n",
        "    if df['Go to School'][i] == 1:\n",
        "      in_4_yes = in_4_yes+1\n",
        "    else:\n",
        "      in_4_no = in_4_no+1\n",
        "  \n",
        "  elif df.Neighbour[i]==5:\n",
        "    if df['Go to School'][i] == 1:\n",
        "      in_5_yes = in_5_yes+1\n",
        "    else:\n",
        "      in_5_no = in_5_no+1\n",
        "  \n",
        "  elif df.Neighbour[i]==6:\n",
        "    if df['Go to School'][i] == 1:\n",
        "      in_6_yes = in_6_yes+1\n",
        "    else:\n",
        "      in_6_no = in_6_no+1\n",
        "\n",
        "  elif df.Neighbour[i]==7:\n",
        "    if df['Go to School'][i] == 1:\n",
        "      in_7_yes = in_7_yes+1\n",
        "    else:\n",
        "      in_7_no = in_7_no+1\n",
        "  \n",
        "  elif df.Neighbour[i]==8:\n",
        "    if df['Go to School'][i] == 1:\n",
        "      in_8_yes = in_8_yes+1\n",
        "    else:\n",
        "      in_8_no = in_8_no+1"
      ],
      "metadata": {
        "id": "A6Gmnecdc6A6"
      },
      "execution_count": 339,
      "outputs": []
    },
    {
      "cell_type": "code",
      "source": [
        "neighbour = []\n",
        "neighbour.append({\n",
        "    'neighbour': '1',\n",
        "    'total_population': in_1_yes,\n",
        "    'go_to_school': 'yes'\n",
        "})\n",
        "neighbour.append({\n",
        "    'neighbour': '1',\n",
        "    'total_population': in_1_no,\n",
        "    'go_to_school': 'dropout'\n",
        "})\n",
        "neighbour.append({\n",
        "    'neighbour': '2',\n",
        "    'total_population': in_2_yes,\n",
        "    'go_to_school': 'yes'\n",
        "})\n",
        "neighbour.append({\n",
        "    'neighbour': '2',\n",
        "    'total_population': in_2_no,\n",
        "    'go_to_school': 'dropout'\n",
        "})\n",
        "neighbour.append({\n",
        "    'neighbour': '3',\n",
        "    'total_population': in_3_yes,\n",
        "    'go_to_school': 'yes'\n",
        "})\n",
        "neighbour.append({\n",
        "    'neighbour': '3',\n",
        "    'total_population': in_3_no,\n",
        "    'go_to_school': 'dropout'\n",
        "})\n",
        "neighbour.append({\n",
        "    'neighbour': '4',\n",
        "    'total_population': in_4_yes,\n",
        "    'go_to_school': 'yes'\n",
        "})\n",
        "neighbour.append({\n",
        "    'neighbour': '4',\n",
        "    'total_population': in_4_no,\n",
        "    'go_to_school': 'dropout'\n",
        "})\n",
        "neighbour.append({\n",
        "    'neighbour': '5',\n",
        "    'total_population': in_5_yes,\n",
        "    'go_to_school': 'yes'\n",
        "})\n",
        "neighbour.append({\n",
        "    'neighbour': '5',\n",
        "    'total_population': in_5_no,\n",
        "    'go_to_school': 'dropout'\n",
        "})\n",
        "neighbour.append({\n",
        "    'neighbour': '6',\n",
        "    'total_population': in_6_yes,\n",
        "    'go_to_school': 'yes'\n",
        "})\n",
        "neighbour.append({\n",
        "    'neighbour': '6',\n",
        "    'total_population': in_6_no,\n",
        "    'go_to_school': 'dropout'\n",
        "})\n",
        "neighbour.append({\n",
        "    'neighbour': '7',\n",
        "    'total_population': in_7_yes,\n",
        "    'go_to_school': 'yes'\n",
        "})\n",
        "neighbour.append({\n",
        "    'neighbour': '7',\n",
        "    'total_population': in_7_no,\n",
        "    'go_to_school': 'dropout'\n",
        "})\n",
        "neighbour.append({\n",
        "    'neighbour': '8',\n",
        "    'total_population': in_8_yes,\n",
        "    'go_to_school': 'yes'\n",
        "})\n",
        "neighbour.append({\n",
        "    'neighbour': '8',\n",
        "    'total_population': in_8_no,\n",
        "    'go_to_school': 'dropout'\n",
        "})\n",
        "neighbour = pd.DataFrame(neighbour)\n",
        "neighbour"
      ],
      "metadata": {
        "colab": {
          "base_uri": "https://localhost:8080/",
          "height": 551
        },
        "id": "QoY5uCJ0c6Dw",
        "outputId": "2eb47e60-1fda-4065-d67a-211fff655c3d"
      },
      "execution_count": 340,
      "outputs": [
        {
          "output_type": "execute_result",
          "data": {
            "text/plain": [
              "   neighbour  total_population go_to_school\n",
              "0          1                12          yes\n",
              "1          1                10      dropout\n",
              "2          2                57          yes\n",
              "3          2                43      dropout\n",
              "4          3               103          yes\n",
              "5          3                58      dropout\n",
              "6          4                90          yes\n",
              "7          4                83      dropout\n",
              "8          5                74          yes\n",
              "9          5                52      dropout\n",
              "10         6                26          yes\n",
              "11         6                22      dropout\n",
              "12         7                11          yes\n",
              "13         7                 7      dropout\n",
              "14         8                 1          yes\n",
              "15         8                 4      dropout"
            ],
            "text/html": [
              "\n",
              "  <div id=\"df-5fe71f3e-8817-4948-88ba-035f75baca58\">\n",
              "    <div class=\"colab-df-container\">\n",
              "      <div>\n",
              "<style scoped>\n",
              "    .dataframe tbody tr th:only-of-type {\n",
              "        vertical-align: middle;\n",
              "    }\n",
              "\n",
              "    .dataframe tbody tr th {\n",
              "        vertical-align: top;\n",
              "    }\n",
              "\n",
              "    .dataframe thead th {\n",
              "        text-align: right;\n",
              "    }\n",
              "</style>\n",
              "<table border=\"1\" class=\"dataframe\">\n",
              "  <thead>\n",
              "    <tr style=\"text-align: right;\">\n",
              "      <th></th>\n",
              "      <th>neighbour</th>\n",
              "      <th>total_population</th>\n",
              "      <th>go_to_school</th>\n",
              "    </tr>\n",
              "  </thead>\n",
              "  <tbody>\n",
              "    <tr>\n",
              "      <th>0</th>\n",
              "      <td>1</td>\n",
              "      <td>12</td>\n",
              "      <td>yes</td>\n",
              "    </tr>\n",
              "    <tr>\n",
              "      <th>1</th>\n",
              "      <td>1</td>\n",
              "      <td>10</td>\n",
              "      <td>dropout</td>\n",
              "    </tr>\n",
              "    <tr>\n",
              "      <th>2</th>\n",
              "      <td>2</td>\n",
              "      <td>57</td>\n",
              "      <td>yes</td>\n",
              "    </tr>\n",
              "    <tr>\n",
              "      <th>3</th>\n",
              "      <td>2</td>\n",
              "      <td>43</td>\n",
              "      <td>dropout</td>\n",
              "    </tr>\n",
              "    <tr>\n",
              "      <th>4</th>\n",
              "      <td>3</td>\n",
              "      <td>103</td>\n",
              "      <td>yes</td>\n",
              "    </tr>\n",
              "    <tr>\n",
              "      <th>5</th>\n",
              "      <td>3</td>\n",
              "      <td>58</td>\n",
              "      <td>dropout</td>\n",
              "    </tr>\n",
              "    <tr>\n",
              "      <th>6</th>\n",
              "      <td>4</td>\n",
              "      <td>90</td>\n",
              "      <td>yes</td>\n",
              "    </tr>\n",
              "    <tr>\n",
              "      <th>7</th>\n",
              "      <td>4</td>\n",
              "      <td>83</td>\n",
              "      <td>dropout</td>\n",
              "    </tr>\n",
              "    <tr>\n",
              "      <th>8</th>\n",
              "      <td>5</td>\n",
              "      <td>74</td>\n",
              "      <td>yes</td>\n",
              "    </tr>\n",
              "    <tr>\n",
              "      <th>9</th>\n",
              "      <td>5</td>\n",
              "      <td>52</td>\n",
              "      <td>dropout</td>\n",
              "    </tr>\n",
              "    <tr>\n",
              "      <th>10</th>\n",
              "      <td>6</td>\n",
              "      <td>26</td>\n",
              "      <td>yes</td>\n",
              "    </tr>\n",
              "    <tr>\n",
              "      <th>11</th>\n",
              "      <td>6</td>\n",
              "      <td>22</td>\n",
              "      <td>dropout</td>\n",
              "    </tr>\n",
              "    <tr>\n",
              "      <th>12</th>\n",
              "      <td>7</td>\n",
              "      <td>11</td>\n",
              "      <td>yes</td>\n",
              "    </tr>\n",
              "    <tr>\n",
              "      <th>13</th>\n",
              "      <td>7</td>\n",
              "      <td>7</td>\n",
              "      <td>dropout</td>\n",
              "    </tr>\n",
              "    <tr>\n",
              "      <th>14</th>\n",
              "      <td>8</td>\n",
              "      <td>1</td>\n",
              "      <td>yes</td>\n",
              "    </tr>\n",
              "    <tr>\n",
              "      <th>15</th>\n",
              "      <td>8</td>\n",
              "      <td>4</td>\n",
              "      <td>dropout</td>\n",
              "    </tr>\n",
              "  </tbody>\n",
              "</table>\n",
              "</div>\n",
              "      <button class=\"colab-df-convert\" onclick=\"convertToInteractive('df-5fe71f3e-8817-4948-88ba-035f75baca58')\"\n",
              "              title=\"Convert this dataframe to an interactive table.\"\n",
              "              style=\"display:none;\">\n",
              "        \n",
              "  <svg xmlns=\"http://www.w3.org/2000/svg\" height=\"24px\"viewBox=\"0 0 24 24\"\n",
              "       width=\"24px\">\n",
              "    <path d=\"M0 0h24v24H0V0z\" fill=\"none\"/>\n",
              "    <path d=\"M18.56 5.44l.94 2.06.94-2.06 2.06-.94-2.06-.94-.94-2.06-.94 2.06-2.06.94zm-11 1L8.5 8.5l.94-2.06 2.06-.94-2.06-.94L8.5 2.5l-.94 2.06-2.06.94zm10 10l.94 2.06.94-2.06 2.06-.94-2.06-.94-.94-2.06-.94 2.06-2.06.94z\"/><path d=\"M17.41 7.96l-1.37-1.37c-.4-.4-.92-.59-1.43-.59-.52 0-1.04.2-1.43.59L10.3 9.45l-7.72 7.72c-.78.78-.78 2.05 0 2.83L4 21.41c.39.39.9.59 1.41.59.51 0 1.02-.2 1.41-.59l7.78-7.78 2.81-2.81c.8-.78.8-2.07 0-2.86zM5.41 20L4 18.59l7.72-7.72 1.47 1.35L5.41 20z\"/>\n",
              "  </svg>\n",
              "      </button>\n",
              "      \n",
              "  <style>\n",
              "    .colab-df-container {\n",
              "      display:flex;\n",
              "      flex-wrap:wrap;\n",
              "      gap: 12px;\n",
              "    }\n",
              "\n",
              "    .colab-df-convert {\n",
              "      background-color: #E8F0FE;\n",
              "      border: none;\n",
              "      border-radius: 50%;\n",
              "      cursor: pointer;\n",
              "      display: none;\n",
              "      fill: #1967D2;\n",
              "      height: 32px;\n",
              "      padding: 0 0 0 0;\n",
              "      width: 32px;\n",
              "    }\n",
              "\n",
              "    .colab-df-convert:hover {\n",
              "      background-color: #E2EBFA;\n",
              "      box-shadow: 0px 1px 2px rgba(60, 64, 67, 0.3), 0px 1px 3px 1px rgba(60, 64, 67, 0.15);\n",
              "      fill: #174EA6;\n",
              "    }\n",
              "\n",
              "    [theme=dark] .colab-df-convert {\n",
              "      background-color: #3B4455;\n",
              "      fill: #D2E3FC;\n",
              "    }\n",
              "\n",
              "    [theme=dark] .colab-df-convert:hover {\n",
              "      background-color: #434B5C;\n",
              "      box-shadow: 0px 1px 3px 1px rgba(0, 0, 0, 0.15);\n",
              "      filter: drop-shadow(0px 1px 2px rgba(0, 0, 0, 0.3));\n",
              "      fill: #FFFFFF;\n",
              "    }\n",
              "  </style>\n",
              "\n",
              "      <script>\n",
              "        const buttonEl =\n",
              "          document.querySelector('#df-5fe71f3e-8817-4948-88ba-035f75baca58 button.colab-df-convert');\n",
              "        buttonEl.style.display =\n",
              "          google.colab.kernel.accessAllowed ? 'block' : 'none';\n",
              "\n",
              "        async function convertToInteractive(key) {\n",
              "          const element = document.querySelector('#df-5fe71f3e-8817-4948-88ba-035f75baca58');\n",
              "          const dataTable =\n",
              "            await google.colab.kernel.invokeFunction('convertToInteractive',\n",
              "                                                     [key], {});\n",
              "          if (!dataTable) return;\n",
              "\n",
              "          const docLinkHtml = 'Like what you see? Visit the ' +\n",
              "            '<a target=\"_blank\" href=https://colab.research.google.com/notebooks/data_table.ipynb>data table notebook</a>'\n",
              "            + ' to learn more about interactive tables.';\n",
              "          element.innerHTML = '';\n",
              "          dataTable['output_type'] = 'display_data';\n",
              "          await google.colab.output.renderOutput(dataTable, element);\n",
              "          const docLink = document.createElement('div');\n",
              "          docLink.innerHTML = docLinkHtml;\n",
              "          element.appendChild(docLink);\n",
              "        }\n",
              "      </script>\n",
              "    </div>\n",
              "  </div>\n",
              "  "
            ]
          },
          "metadata": {},
          "execution_count": 340
        }
      ]
    },
    {
      "cell_type": "code",
      "source": [
        "plt.figure(figsize=(10,5))\n",
        "plt.title('school going or dropout based on Neighbour')\n",
        "sns.barplot(x = 'neighbour',y = 'total_population',hue = 'go_to_school',data = neighbour)\n",
        "plt.show()"
      ],
      "metadata": {
        "colab": {
          "base_uri": "https://localhost:8080/",
          "height": 350
        },
        "id": "DjMowcfIc6GQ",
        "outputId": "97bb0287-808c-4d5f-b842-a3e91de486e9"
      },
      "execution_count": 341,
      "outputs": [
        {
          "output_type": "display_data",
          "data": {
            "text/plain": [
              "<Figure size 720x360 with 1 Axes>"
            ],
            "image/png": "[encoded data removed]"
          },
          "metadata": {
            "needs_background": "light"
          }
        }
      ]
    },
    {
      "cell_type": "code",
      "source": [
        "x = ['1','2','3','4','5','6','7','8']\n",
        "y = [in_1_no,in_2_no,in_3_no,in_4_no,in_5_no,in_6_no,in_7_no,in_8_no]\n",
        "plt.figure(figsize=(10,5))\n",
        "plt.plot(x,y)\n",
        "plt.xlabel(\"Total Neibour\")\n",
        "plt.ylabel('Drop Out')\n",
        "plt.title('Go to school based on Mother Income')"
      ],
      "metadata": {
        "colab": {
          "base_uri": "https://localhost:8080/",
          "height": 368
        },
        "id": "LHVlOxgPc6JO",
        "outputId": "f4179f75-fbe4-45f6-a288-6466cd72cf92"
      },
      "execution_count": 342,
      "outputs": [
        {
          "output_type": "execute_result",
          "data": {
            "text/plain": [
              "Text(0.5, 1.0, 'Go to school based on Mother Income')"
            ]
          },
          "metadata": {},
          "execution_count": 342
        },
        {
          "output_type": "display_data",
          "data": {
            "text/plain": [
              "<Figure size 720x360 with 1 Axes>"
            ],
            "image/png": "[encoded data removed]"
          },
          "metadata": {
            "needs_background": "light"
          }
        }
      ]
    },
    {
      "cell_type": "markdown",
      "source": [
        "##Some Query"
      ],
      "metadata": {
        "id": "lN-KUPUIc6vj"
      }
    },
    {
      "cell_type": "code",
      "source": [
        "len(df[df['No. of edu. Family member ( up to 10)']>=3][df['Father Monthly Income']<=10000][df['Mother Monthly Income']==0][df['Go to School']==0])"
      ],
      "metadata": {
        "colab": {
          "base_uri": "https://localhost:8080/"
        },
        "id": "3zr43ONQVHNB",
        "outputId": "1f1db430-ddf9-4174-8240-b70c7005122e"
      },
      "execution_count": 343,
      "outputs": [
        {
          "output_type": "execute_result",
          "data": {
            "text/plain": [
              "20"
            ]
          },
          "metadata": {},
          "execution_count": 343
        }
      ]
    },
    {
      "cell_type": "code",
      "source": [
        "len(df[df['No. of edu. Family member ( up to 10)']>=3][df['Father Monthly Income']==0][df['Mother Monthly Income']<=10000][df['Go to School']==0])"
      ],
      "metadata": {
        "colab": {
          "base_uri": "https://localhost:8080/"
        },
        "id": "6svAYpW_YDwg",
        "outputId": "b3c7998d-f890-49cb-ee51-49530a541e34"
      },
      "execution_count": 344,
      "outputs": [
        {
          "output_type": "execute_result",
          "data": {
            "text/plain": [
              "2"
            ]
          },
          "metadata": {},
          "execution_count": 344
        }
      ]
    },
    {
      "cell_type": "code",
      "source": [
        "len(df[df['No. of edu. Family member ( up to 10)']>=3][(df['Father Monthly Income']>=5000) & (df['Father Monthly Income']<=10000) & (df['Mother Monthly Income']>=5000) & (df['Mother Monthly Income']<=10000)][df['Go to School']==0])"
      ],
      "metadata": {
        "colab": {
          "base_uri": "https://localhost:8080/"
        },
        "id": "L30KJeljZUj2",
        "outputId": "898c9f74-eace-4f61-b68d-004064e83d20"
      },
      "execution_count": 345,
      "outputs": [
        {
          "output_type": "execute_result",
          "data": {
            "text/plain": [
              "0"
            ]
          },
          "metadata": {},
          "execution_count": 345
        }
      ]
    },
    {
      "cell_type": "code",
      "source": [
        "len(df[(df['Father Monthly Income']>=5000) & (df['Father Monthly Income']<=10000) & (df['Mother Monthly Income']>=5000) & (df['Mother Monthly Income']<=10000)][df['Go to School']==0])"
      ],
      "metadata": {
        "colab": {
          "base_uri": "https://localhost:8080/"
        },
        "id": "tBtOoVI5auQQ",
        "outputId": "cb91fbe7-ba9b-4bf8-dd6a-877be61d903c"
      },
      "execution_count": 346,
      "outputs": [
        {
          "output_type": "execute_result",
          "data": {
            "text/plain": [
              "1"
            ]
          },
          "metadata": {},
          "execution_count": 346
        }
      ]
    },
    {
      "cell_type": "code",
      "source": [
        "final = []\n",
        "final.append({\n",
        "    'Query': 'edu. family member >=3 & father_in<=10000 & mother_in==0',\n",
        "    'drop': 20\n",
        "})\n",
        "final.append({\n",
        "    'Query': 'edu. family member >=3 & father_in==0 & mother_in<=10000',\n",
        "    'drop': 2\n",
        "})\n",
        "final.append({\n",
        "    'Query': 'edu. family member >=3 & father_in>=5000 & <=10000 & mother_in>=5000 & <=10000',\n",
        "    'drop': 0\n",
        "})\n",
        "final.append({\n",
        "    'Query': 'father_in>=5000 & <=10000 & mother_in>=5000 & <=10000',\n",
        "    'drop': 1\n",
        "})\n",
        "final = pd.DataFrame(final)\n",
        "final"
      ],
      "metadata": {
        "colab": {
          "base_uri": "https://localhost:8080/",
          "height": 175
        },
        "id": "iIJ7IV5RbiwQ",
        "outputId": "8b2cec94-e4a6-43e5-c488-df726b43d151"
      },
      "execution_count": 347,
      "outputs": [
        {
          "output_type": "execute_result",
          "data": {
            "text/plain": [
              "                                               Query  drop\n",
              "0  edu. family member >=3 & father_in<=10000 & mo...    20\n",
              "1  edu. family member >=3 & father_in==0 & mother...     2\n",
              "2  edu. family member >=3 & father_in>=5000 & <=1...     0\n",
              "3  father_in>=5000 & <=10000 & mother_in>=5000 & ...     1"
            ],
            "text/html": [
              "\n",
              "  <div id=\"df-2a357396-d214-432a-8e9f-6b0d0267dabf\">\n",
              "    <div class=\"colab-df-container\">\n",
              "      <div>\n",
              "<style scoped>\n",
              "    .dataframe tbody tr th:only-of-type {\n",
              "        vertical-align: middle;\n",
              "    }\n",
              "\n",
              "    .dataframe tbody tr th {\n",
              "        vertical-align: top;\n",
              "    }\n",
              "\n",
              "    .dataframe thead th {\n",
              "        text-align: right;\n",
              "    }\n",
              "</style>\n",
              "<table border=\"1\" class=\"dataframe\">\n",
              "  <thead>\n",
              "    <tr style=\"text-align: right;\">\n",
              "      <th></th>\n",
              "      <th>Query</th>\n",
              "      <th>drop</th>\n",
              "    </tr>\n",
              "  </thead>\n",
              "  <tbody>\n",
              "    <tr>\n",
              "      <th>0</th>\n",
              "      <td>edu. family member &gt;=3 &amp; father_in&lt;=10000 &amp; mo...</td>\n",
              "      <td>20</td>\n",
              "    </tr>\n",
              "    <tr>\n",
              "      <th>1</th>\n",
              "      <td>edu. family member &gt;=3 &amp; father_in==0 &amp; mother...</td>\n",
              "      <td>2</td>\n",
              "    </tr>\n",
              "    <tr>\n",
              "      <th>2</th>\n",
              "      <td>edu. family member &gt;=3 &amp; father_in&gt;=5000 &amp; &lt;=1...</td>\n",
              "      <td>0</td>\n",
              "    </tr>\n",
              "    <tr>\n",
              "      <th>3</th>\n",
              "      <td>father_in&gt;=5000 &amp; &lt;=10000 &amp; mother_in&gt;=5000 &amp; ...</td>\n",
              "      <td>1</td>\n",
              "    </tr>\n",
              "  </tbody>\n",
              "</table>\n",
              "</div>\n",
              "      <button class=\"colab-df-convert\" onclick=\"convertToInteractive('df-2a357396-d214-432a-8e9f-6b0d0267dabf')\"\n",
              "              title=\"Convert this dataframe to an interactive table.\"\n",
              "              style=\"display:none;\">\n",
              "        \n",
              "  <svg xmlns=\"http://www.w3.org/2000/svg\" height=\"24px\"viewBox=\"0 0 24 24\"\n",
              "       width=\"24px\">\n",
              "    <path d=\"M0 0h24v24H0V0z\" fill=\"none\"/>\n",
              "    <path d=\"M18.56 5.44l.94 2.06.94-2.06 2.06-.94-2.06-.94-.94-2.06-.94 2.06-2.06.94zm-11 1L8.5 8.5l.94-2.06 2.06-.94-2.06-.94L8.5 2.5l-.94 2.06-2.06.94zm10 10l.94 2.06.94-2.06 2.06-.94-2.06-.94-.94-2.06-.94 2.06-2.06.94z\"/><path d=\"M17.41 7.96l-1.37-1.37c-.4-.4-.92-.59-1.43-.59-.52 0-1.04.2-1.43.59L10.3 9.45l-7.72 7.72c-.78.78-.78 2.05 0 2.83L4 21.41c.39.39.9.59 1.41.59.51 0 1.02-.2 1.41-.59l7.78-7.78 2.81-2.81c.8-.78.8-2.07 0-2.86zM5.41 20L4 18.59l7.72-7.72 1.47 1.35L5.41 20z\"/>\n",
              "  </svg>\n",
              "      </button>\n",
              "      \n",
              "  <style>\n",
              "    .colab-df-container {\n",
              "      display:flex;\n",
              "      flex-wrap:wrap;\n",
              "      gap: 12px;\n",
              "    }\n",
              "\n",
              "    .colab-df-convert {\n",
              "      background-color: #E8F0FE;\n",
              "      border: none;\n",
              "      border-radius: 50%;\n",
              "      cursor: pointer;\n",
              "      display: none;\n",
              "      fill: #1967D2;\n",
              "      height: 32px;\n",
              "      padding: 0 0 0 0;\n",
              "      width: 32px;\n",
              "    }\n",
              "\n",
              "    .colab-df-convert:hover {\n",
              "      background-color: #E2EBFA;\n",
              "      box-shadow: 0px 1px 2px rgba(60, 64, 67, 0.3), 0px 1px 3px 1px rgba(60, 64, 67, 0.15);\n",
              "      fill: #174EA6;\n",
              "    }\n",
              "\n",
              "    [theme=dark] .colab-df-convert {\n",
              "      background-color: #3B4455;\n",
              "      fill: #D2E3FC;\n",
              "    }\n",
              "\n",
              "    [theme=dark] .colab-df-convert:hover {\n",
              "      background-color: #434B5C;\n",
              "      box-shadow: 0px 1px 3px 1px rgba(0, 0, 0, 0.15);\n",
              "      filter: drop-shadow(0px 1px 2px rgba(0, 0, 0, 0.3));\n",
              "      fill: #FFFFFF;\n",
              "    }\n",
              "  </style>\n",
              "\n",
              "      <script>\n",
              "        const buttonEl =\n",
              "          document.querySelector('#df-2a357396-d214-432a-8e9f-6b0d0267dabf button.colab-df-convert');\n",
              "        buttonEl.style.display =\n",
              "          google.colab.kernel.accessAllowed ? 'block' : 'none';\n",
              "\n",
              "        async function convertToInteractive(key) {\n",
              "          const element = document.querySelector('#df-2a357396-d214-432a-8e9f-6b0d0267dabf');\n",
              "          const dataTable =\n",
              "            await google.colab.kernel.invokeFunction('convertToInteractive',\n",
              "                                                     [key], {});\n",
              "          if (!dataTable) return;\n",
              "\n",
              "          const docLinkHtml = 'Like what you see? Visit the ' +\n",
              "            '<a target=\"_blank\" href=https://colab.research.google.com/notebooks/data_table.ipynb>data table notebook</a>'\n",
              "            + ' to learn more about interactive tables.';\n",
              "          element.innerHTML = '';\n",
              "          dataTable['output_type'] = 'display_data';\n",
              "          await google.colab.output.renderOutput(dataTable, element);\n",
              "          const docLink = document.createElement('div');\n",
              "          docLink.innerHTML = docLinkHtml;\n",
              "          element.appendChild(docLink);\n",
              "        }\n",
              "      </script>\n",
              "    </div>\n",
              "  </div>\n",
              "  "
            ]
          },
          "metadata": {},
          "execution_count": 347
        }
      ]
    },
    {
      "cell_type": "code",
      "source": [
        "plt.figure(figsize=(10,5))\n",
        "plt.title('Query Chart')\n",
        "sns.barplot(y = 'Query',x = 'drop',data = final)\n",
        "plt.show()\n",
        "plt.savefig('query.jpg')"
      ],
      "metadata": {
        "colab": {
          "base_uri": "https://localhost:8080/",
          "height": 368
        },
        "id": "CkB9uNQHcSi4",
        "outputId": "d385daa5-ea76-4fbf-d2d8-87cf43db81e4"
      },
      "execution_count": 348,
      "outputs": [
        {
          "output_type": "display_data",
          "data": {
            "text/plain": [
              "<Figure size 720x360 with 1 Axes>"
            ],
            "image/png": "[encoded data removed]"
          },
          "metadata": {
            "needs_background": "light"
          }
        },
        {
          "output_type": "display_data",
          "data": {
            "text/plain": [
              "<Figure size 432x288 with 0 Axes>"
            ]
          },
          "metadata": {}
        }
      ]
    },
    {
      "cell_type": "markdown",
      "source": [
        "##Relation of individual independent variable with dependent 'Go to School' variable"
      ],
      "metadata": {
        "id": "kakbPyZMe4Bq"
      }
    },
    {
      "cell_type": "code",
      "source": [
        "df.drop('Go to School', axis=1).corrwith(df['Go to School']).plot(kind='bar', grid=True, figsize=(15, 8)\n",
        ", title=\"Correlation with 'Go to School'\");\n",
        "plt.savefig('relation.jpg')"
      ],
      "metadata": {
        "colab": {
          "base_uri": "https://localhost:8080/",
          "height": 679
        },
        "id": "FmDEZ1zqdyVg",
        "outputId": "81bf0af2-5c87-41a3-995b-c5109915a588"
      },
      "execution_count": 349,
      "outputs": [
        {
          "output_type": "display_data",
          "data": {
            "text/plain": [
              "<Figure size 1080x576 with 1 Axes>"
            ],
            "image/png": "[encoded data removed]"
          },
          "metadata": {
            "needs_background": "light"
          }
        }
      ]
    },
    {
      "cell_type": "markdown",
      "source": [
        "#Validation "
      ],
      "metadata": {
        "id": "UuOpBIaVvEk3"
      }
    },
    {
      "cell_type": "code",
      "source": [
        "from sklearn.ensemble import RandomForestClassifier\n",
        "\n",
        "model=RandomForestClassifier() \n",
        "scoring = ['precision', 'recall', 'f1','accuracy']\n",
        "scores = cross_validate(model, df.drop(['Go to School'],axis=1), df['Go to School'], cv=5,\n",
        "                        scoring=scoring, return_train_score=False)\n",
        "print('fit_time : '+str (np.average(scores.get('fit_time'))))\n",
        "print('score_time : '+str (np.average(scores.get('score_time'))))\n",
        "print('test_precision : '+str (np.average(scores.get('test_precision'))))\n",
        "print('test_recall : '+str (np.average(scores.get('test_recall'))))\n",
        "print('test_f1 : '+str (np.average(scores.get('test_f1'))))\n",
        "print('test_accuracy : '+str (np.average(scores.get('test_accuracy'))))"
      ],
      "metadata": {
        "id": "Tmqu0e5PvKZU",
        "colab": {
          "base_uri": "https://localhost:8080/"
        },
        "outputId": "8d59632e-3b6b-4628-df63-6045784aa924"
      },
      "execution_count": 350,
      "outputs": [
        {
          "output_type": "stream",
          "name": "stdout",
          "text": [
            "fit_time : 0.19065284729003906\n",
            "score_time : 0.0197967529296875\n",
            "test_precision : 0.7721268795092644\n",
            "test_recall : 0.7118918918918918\n",
            "test_f1 : 0.6943007155240123\n",
            "test_accuracy : 0.6691250733998826\n"
          ]
        }
      ]
    },
    {
      "cell_type": "code",
      "source": [
        "from sklearn.tree import DecisionTreeClassifier\n",
        "\n",
        "model=DecisionTreeClassifier() \n",
        "scoring = ['precision', 'recall', 'f1','accuracy']\n",
        "scores = cross_validate(model, df.drop(['Go to School'],axis=1), df['Go to School'], cv=5,\n",
        "                        scoring=scoring, return_train_score=False)\n",
        "print('fit_time : '+str (np.average(scores.get('fit_time'))))\n",
        "print('score_time : '+str (np.average(scores.get('score_time'))))\n",
        "print('test_precision : '+str (np.average(scores.get('test_precision'))))\n",
        "print('test_recall : '+str (np.average(scores.get('test_recall'))))\n",
        "print('test_f1 : '+str (np.average(scores.get('test_f1'))))\n",
        "print('test_accuracy : '+str (np.average(scores.get('test_accuracy'))))"
      ],
      "metadata": {
        "id": "ZQ7zucgFEpDW",
        "colab": {
          "base_uri": "https://localhost:8080/"
        },
        "outputId": "08eeba61-0561-4319-f305-1dc03c3cbaaa"
      },
      "execution_count": 351,
      "outputs": [
        {
          "output_type": "stream",
          "name": "stdout",
          "text": [
            "fit_time : 0.003847026824951172\n",
            "score_time : 0.005479860305786133\n",
            "test_precision : 0.6974633886351382\n",
            "test_recall : 0.6127567567567567\n",
            "test_f1 : 0.6294882903630221\n",
            "test_accuracy : 0.6002348796241926\n"
          ]
        }
      ]
    },
    {
      "cell_type": "code",
      "source": [
        "from sklearn.linear_model import LogisticRegression\n",
        "\n",
        "model=LogisticRegression() \n",
        "scoring = ['precision', 'recall', 'f1','accuracy']\n",
        "scores = cross_validate(model, df.drop(['Go to School'],axis=1), df['Go to School'], cv=5,\n",
        "                        scoring=scoring, return_train_score=False)\n",
        "print('fit_time : '+str (np.average(scores.get('fit_time'))))\n",
        "print('score_time : '+str (np.average(scores.get('score_time'))))\n",
        "print('test_precision : '+str (np.average(scores.get('test_precision'))))\n",
        "print('test_recall : '+str (np.average(scores.get('test_recall'))))\n",
        "print('test_f1 : '+str (np.average(scores.get('test_f1'))))\n",
        "print('test_accuracy : '+str (np.average(scores.get('test_accuracy'))))"
      ],
      "metadata": {
        "id": "9dHxAbDUBWGm",
        "colab": {
          "base_uri": "https://localhost:8080/"
        },
        "outputId": "84703e03-a5c1-41ad-9a0a-ba76d33bc3ad"
      },
      "execution_count": 352,
      "outputs": [
        {
          "output_type": "stream",
          "name": "stdout",
          "text": [
            "fit_time : 0.02114276885986328\n",
            "score_time : 0.005972719192504883\n",
            "test_precision : 0.784074074074074\n",
            "test_recall : 0.7624144144144145\n",
            "test_f1 : 0.7483165706234871\n",
            "test_accuracy : 0.7166412213740458\n"
          ]
        }
      ]
    },
    {
      "cell_type": "code",
      "source": [
        "from sklearn.svm import SVC\n",
        "\n",
        "model=SVC() \n",
        "scoring = ['precision', 'recall', 'f1','accuracy']\n",
        "scores = cross_validate(model, df.drop(['Go to School'],axis=1), df['Go to School'], cv=5,\n",
        "                        scoring=scoring, return_train_score=False)\n",
        "print('fit_time : '+str (np.average(scores.get('fit_time'))))\n",
        "print('score_time : '+str (np.average(scores.get('score_time'))))\n",
        "print('test_precision : '+str (np.average(scores.get('test_precision'))))\n",
        "print('test_recall : '+str (np.average(scores.get('test_recall'))))\n",
        "print('test_f1 : '+str (np.average(scores.get('test_f1'))))\n",
        "print('test_accuracy : '+str (np.average(scores.get('test_accuracy'))))"
      ],
      "metadata": {
        "id": "mrjQNEgSB6dv",
        "colab": {
          "base_uri": "https://localhost:8080/"
        },
        "outputId": "785ae539-14c3-4dee-c6ff-02089cbefc91"
      },
      "execution_count": 353,
      "outputs": [
        {
          "output_type": "stream",
          "name": "stdout",
          "text": [
            "fit_time : 0.014965391159057618\n",
            "score_time : 0.009204864501953125\n",
            "test_precision : 0.5707434309994868\n",
            "test_recall : 0.992\n",
            "test_f1 : 0.7245655005249241\n",
            "test_accuracy : 0.5681268349970641\n"
          ]
        }
      ]
    },
    {
      "cell_type": "code",
      "source": [
        "from sklearn.neighbors import KNeighborsClassifier\n",
        "\n",
        "model=KNeighborsClassifier() \n",
        "scoring = ['precision', 'recall', 'f1','accuracy']\n",
        "scores = cross_validate(model, df.drop(['Go to School'],axis=1), df['Go to School'], cv=5,\n",
        "                        scoring=scoring, return_train_score=False)\n",
        "print('fit_time : '+str (np.average(scores.get('fit_time'))))\n",
        "print('score_time : '+str (np.average(scores.get('score_time'))))\n",
        "print('test_precision : '+str (np.average(scores.get('test_precision'))))\n",
        "print('test_recall : '+str (np.average(scores.get('test_recall'))))\n",
        "print('test_f1 : '+str (np.average(scores.get('test_f1'))))\n",
        "print('test_accuracy : '+str (np.average(scores.get('test_accuracy'))))"
      ],
      "metadata": {
        "id": "_B09t5PJE8mV",
        "colab": {
          "base_uri": "https://localhost:8080/"
        },
        "outputId": "4d7b1271-8556-42e5-d8f0-2c5838a4b999"
      },
      "execution_count": 354,
      "outputs": [
        {
          "output_type": "stream",
          "name": "stdout",
          "text": [
            "fit_time : 0.0032174110412597655\n",
            "score_time : 0.009713315963745117\n",
            "test_precision : 0.7162273434688171\n",
            "test_recall : 0.6288648648648649\n",
            "test_f1 : 0.6543407841000848\n",
            "test_accuracy : 0.6416911332941868\n"
          ]
        }
      ]
    },
    {
      "cell_type": "code",
      "source": [
        "from sklearn.naive_bayes import GaussianNB\n",
        "\n",
        "model=GaussianNB() \n",
        "scoring = ['precision', 'recall', 'f1','accuracy']\n",
        "scores = cross_validate(model, df.drop(['Go to School'],axis=1), df['Go to School'], cv=5,\n",
        "                        scoring=scoring, return_train_score=False)\n",
        "print('fit_time : '+str (np.average(scores.get('fit_time'))))\n",
        "print('score_time : '+str (np.average(scores.get('score_time'))))\n",
        "print('test_precision : '+str (np.average(scores.get('test_precision'))))\n",
        "print('test_recall : '+str (np.average(scores.get('test_recall'))))\n",
        "print('test_f1 : '+str (np.average(scores.get('test_f1'))))\n",
        "print('test_accuracy : '+str (np.average(scores.get('test_accuracy'))))"
      ],
      "metadata": {
        "id": "3zaFIs8fFHvq",
        "colab": {
          "base_uri": "https://localhost:8080/"
        },
        "outputId": "32d7847c-ba2d-4aba-b299-d59a139f9bb6"
      },
      "execution_count": 355,
      "outputs": [
        {
          "output_type": "stream",
          "name": "stdout",
          "text": [
            "fit_time : 0.002991390228271484\n",
            "score_time : 0.005700922012329102\n",
            "test_precision : 0.8260703401696731\n",
            "test_recall : 0.6607927927927928\n",
            "test_f1 : 0.6881573541081976\n",
            "test_accuracy : 0.6968173810921903\n"
          ]
        }
      ]
    },
    {
      "cell_type": "code",
      "source": [
        "from sklearn.naive_bayes import MultinomialNB\n",
        "\n",
        "model=MultinomialNB() \n",
        "scoring = ['precision', 'recall', 'f1','accuracy']\n",
        "scores = cross_validate(model, df.drop(['Go to School'],axis=1), df['Go to School'], cv=5,\n",
        "                        scoring=scoring, return_train_score=False)\n",
        "print('fit_time : '+str (np.average(scores.get('fit_time'))))\n",
        "print('score_time : '+str (np.average(scores.get('score_time'))))\n",
        "print('test_precision : '+str (np.average(scores.get('test_precision'))))\n",
        "print('test_recall : '+str (np.average(scores.get('test_recall'))))\n",
        "print('test_f1 : '+str (np.average(scores.get('test_f1'))))\n",
        "print('test_accuracy : '+str (np.average(scores.get('test_accuracy'))))"
      ],
      "metadata": {
        "id": "zrVHHBKbFPSj",
        "colab": {
          "base_uri": "https://localhost:8080/"
        },
        "outputId": "f6bb98b1-fb3c-4d09-cbdf-2efff5360725"
      },
      "execution_count": 356,
      "outputs": [
        {
          "output_type": "stream",
          "name": "stdout",
          "text": [
            "fit_time : 0.00435185432434082\n",
            "score_time : 0.006434106826782226\n",
            "test_precision : 0.7888840939331823\n",
            "test_recall : 0.22475675675675677\n",
            "test_f1 : 0.32396994359578113\n",
            "test_accuracy : 0.5237698179682913\n"
          ]
        }
      ]
    },
    {
      "cell_type": "code",
      "source": [],
      "metadata": {
        "id": "Mez9eVuC5qQX"
      },
      "execution_count": 356,
      "outputs": []
    },
    {
      "cell_type": "markdown",
      "source": [
        "#Split "
      ],
      "metadata": {
        "id": "rIXpMj7e5tI1"
      }
    },
    {
      "cell_type": "code",
      "source": [
        "df.sample(5)"
      ],
      "metadata": {
        "colab": {
          "base_uri": "https://localhost:8080/",
          "height": 267
        },
        "id": "tpp-7M3C7D7b",
        "outputId": "5fe5ee65-9feb-4915-f561-fb59a9d7b200"
      },
      "execution_count": 357,
      "outputs": [
        {
          "output_type": "execute_result",
          "data": {
            "text/plain": [
              "     class  Father Monthly Income  F. education (class)  \\\n",
              "386      9                  10000                     8   \n",
              "469      7                   9000                    10   \n",
              "549     10                  20000                     8   \n",
              "540      8                   9000                    10   \n",
              "634      5                  25000                     9   \n",
              "\n",
              "     Mother Monthly Income  M. education (class)  No. of family members  \\\n",
              "386                      0                     7                      7   \n",
              "469                      0                     8                      5   \n",
              "549                      0                     8                      7   \n",
              "540                   4000                     8                      6   \n",
              "634                      0                     9                      4   \n",
              "\n",
              "     No. of edu. Family member ( up to 10)  Neighbour  Go to School  \n",
              "386                                      3          5             1  \n",
              "469                                      0          2             1  \n",
              "549                                      3          3             1  \n",
              "540                                      2          4             1  \n",
              "634                                      2          5             1  "
            ],
            "text/html": [
              "\n",
              "  <div id=\"df-61e5a33b-c46f-4b08-815d-45c86126c035\">\n",
              "    <div class=\"colab-df-container\">\n",
              "      <div>\n",
              "<style scoped>\n",
              "    .dataframe tbody tr th:only-of-type {\n",
              "        vertical-align: middle;\n",
              "    }\n",
              "\n",
              "    .dataframe tbody tr th {\n",
              "        vertical-align: top;\n",
              "    }\n",
              "\n",
              "    .dataframe thead th {\n",
              "        text-align: right;\n",
              "    }\n",
              "</style>\n",
              "<table border=\"1\" class=\"dataframe\">\n",
              "  <thead>\n",
              "    <tr style=\"text-align: right;\">\n",
              "      <th></th>\n",
              "      <th>class</th>\n",
              "      <th>Father Monthly Income</th>\n",
              "      <th>F. education (class)</th>\n",
              "      <th>Mother Monthly Income</th>\n",
              "      <th>M. education (class)</th>\n",
              "      <th>No. of family members</th>\n",
              "      <th>No. of edu. Family member ( up to 10)</th>\n",
              "      <th>Neighbour</th>\n",
              "      <th>Go to School</th>\n",
              "    </tr>\n",
              "  </thead>\n",
              "  <tbody>\n",
              "    <tr>\n",
              "      <th>386</th>\n",
              "      <td>9</td>\n",
              "      <td>10000</td>\n",
              "      <td>8</td>\n",
              "      <td>0</td>\n",
              "      <td>7</td>\n",
              "      <td>7</td>\n",
              "      <td>3</td>\n",
              "      <td>5</td>\n",
              "      <td>1</td>\n",
              "    </tr>\n",
              "    <tr>\n",
              "      <th>469</th>\n",
              "      <td>7</td>\n",
              "      <td>9000</td>\n",
              "      <td>10</td>\n",
              "      <td>0</td>\n",
              "      <td>8</td>\n",
              "      <td>5</td>\n",
              "      <td>0</td>\n",
              "      <td>2</td>\n",
              "      <td>1</td>\n",
              "    </tr>\n",
              "    <tr>\n",
              "      <th>549</th>\n",
              "      <td>10</td>\n",
              "      <td>20000</td>\n",
              "      <td>8</td>\n",
              "      <td>0</td>\n",
              "      <td>8</td>\n",
              "      <td>7</td>\n",
              "      <td>3</td>\n",
              "      <td>3</td>\n",
              "      <td>1</td>\n",
              "    </tr>\n",
              "    <tr>\n",
              "      <th>540</th>\n",
              "      <td>8</td>\n",
              "      <td>9000</td>\n",
              "      <td>10</td>\n",
              "      <td>4000</td>\n",
              "      <td>8</td>\n",
              "      <td>6</td>\n",
              "      <td>2</td>\n",
              "      <td>4</td>\n",
              "      <td>1</td>\n",
              "    </tr>\n",
              "    <tr>\n",
              "      <th>634</th>\n",
              "      <td>5</td>\n",
              "      <td>25000</td>\n",
              "      <td>9</td>\n",
              "      <td>0</td>\n",
              "      <td>9</td>\n",
              "      <td>4</td>\n",
              "      <td>2</td>\n",
              "      <td>5</td>\n",
              "      <td>1</td>\n",
              "    </tr>\n",
              "  </tbody>\n",
              "</table>\n",
              "</div>\n",
              "      <button class=\"colab-df-convert\" onclick=\"convertToInteractive('df-61e5a33b-c46f-4b08-815d-45c86126c035')\"\n",
              "              title=\"Convert this dataframe to an interactive table.\"\n",
              "              style=\"display:none;\">\n",
              "        \n",
              "  <svg xmlns=\"http://www.w3.org/2000/svg\" height=\"24px\"viewBox=\"0 0 24 24\"\n",
              "       width=\"24px\">\n",
              "    <path d=\"M0 0h24v24H0V0z\" fill=\"none\"/>\n",
              "    <path d=\"M18.56 5.44l.94 2.06.94-2.06 2.06-.94-2.06-.94-.94-2.06-.94 2.06-2.06.94zm-11 1L8.5 8.5l.94-2.06 2.06-.94-2.06-.94L8.5 2.5l-.94 2.06-2.06.94zm10 10l.94 2.06.94-2.06 2.06-.94-2.06-.94-.94-2.06-.94 2.06-2.06.94z\"/><path d=\"M17.41 7.96l-1.37-1.37c-.4-.4-.92-.59-1.43-.59-.52 0-1.04.2-1.43.59L10.3 9.45l-7.72 7.72c-.78.78-.78 2.05 0 2.83L4 21.41c.39.39.9.59 1.41.59.51 0 1.02-.2 1.41-.59l7.78-7.78 2.81-2.81c.8-.78.8-2.07 0-2.86zM5.41 20L4 18.59l7.72-7.72 1.47 1.35L5.41 20z\"/>\n",
              "  </svg>\n",
              "      </button>\n",
              "      \n",
              "  <style>\n",
              "    .colab-df-container {\n",
              "      display:flex;\n",
              "      flex-wrap:wrap;\n",
              "      gap: 12px;\n",
              "    }\n",
              "\n",
              "    .colab-df-convert {\n",
              "      background-color: #E8F0FE;\n",
              "      border: none;\n",
              "      border-radius: 50%;\n",
              "      cursor: pointer;\n",
              "      display: none;\n",
              "      fill: #1967D2;\n",
              "      height: 32px;\n",
              "      padding: 0 0 0 0;\n",
              "      width: 32px;\n",
              "    }\n",
              "\n",
              "    .colab-df-convert:hover {\n",
              "      background-color: #E2EBFA;\n",
              "      box-shadow: 0px 1px 2px rgba(60, 64, 67, 0.3), 0px 1px 3px 1px rgba(60, 64, 67, 0.15);\n",
              "      fill: #174EA6;\n",
              "    }\n",
              "\n",
              "    [theme=dark] .colab-df-convert {\n",
              "      background-color: #3B4455;\n",
              "      fill: #D2E3FC;\n",
              "    }\n",
              "\n",
              "    [theme=dark] .colab-df-convert:hover {\n",
              "      background-color: #434B5C;\n",
              "      box-shadow: 0px 1px 3px 1px rgba(0, 0, 0, 0.15);\n",
              "      filter: drop-shadow(0px 1px 2px rgba(0, 0, 0, 0.3));\n",
              "      fill: #FFFFFF;\n",
              "    }\n",
              "  </style>\n",
              "\n",
              "      <script>\n",
              "        const buttonEl =\n",
              "          document.querySelector('#df-61e5a33b-c46f-4b08-815d-45c86126c035 button.colab-df-convert');\n",
              "        buttonEl.style.display =\n",
              "          google.colab.kernel.accessAllowed ? 'block' : 'none';\n",
              "\n",
              "        async function convertToInteractive(key) {\n",
              "          const element = document.querySelector('#df-61e5a33b-c46f-4b08-815d-45c86126c035');\n",
              "          const dataTable =\n",
              "            await google.colab.kernel.invokeFunction('convertToInteractive',\n",
              "                                                     [key], {});\n",
              "          if (!dataTable) return;\n",
              "\n",
              "          const docLinkHtml = 'Like what you see? Visit the ' +\n",
              "            '<a target=\"_blank\" href=https://colab.research.google.com/notebooks/data_table.ipynb>data table notebook</a>'\n",
              "            + ' to learn more about interactive tables.';\n",
              "          element.innerHTML = '';\n",
              "          dataTable['output_type'] = 'display_data';\n",
              "          await google.colab.output.renderOutput(dataTable, element);\n",
              "          const docLink = document.createElement('div');\n",
              "          docLink.innerHTML = docLinkHtml;\n",
              "          element.appendChild(docLink);\n",
              "        }\n",
              "      </script>\n",
              "    </div>\n",
              "  </div>\n",
              "  "
            ]
          },
          "metadata": {},
          "execution_count": 357
        }
      ]
    },
    {
      "cell_type": "code",
      "source": [
        "X = df.drop(['Go to School'],axis='columns')\n",
        "Y = df['Go to School']\n",
        "X.sample(5)"
      ],
      "metadata": {
        "colab": {
          "base_uri": "https://localhost:8080/",
          "height": 267
        },
        "id": "YLAhwsI46WBP",
        "outputId": "22ae7280-0d4f-49b9-8fd5-6c939ba3ed48"
      },
      "execution_count": 358,
      "outputs": [
        {
          "output_type": "execute_result",
          "data": {
            "text/plain": [
              "     class  Father Monthly Income  F. education (class)  \\\n",
              "621      8                   9000                    10   \n",
              "434      5                  10000                     9   \n",
              "412     10                  14000                     8   \n",
              "238      7                  20000                     4   \n",
              "632      4                  32000                    12   \n",
              "\n",
              "     Mother Monthly Income  M. education (class)  No. of family members  \\\n",
              "621                      0                     9                      4   \n",
              "434                   3000                     8                      7   \n",
              "412                      0                     7                      6   \n",
              "238                      0                     5                      4   \n",
              "632                      0                     9                      5   \n",
              "\n",
              "     No. of edu. Family member ( up to 10)  Neighbour  \n",
              "621                                      1          4  \n",
              "434                                      2          5  \n",
              "412                                      2          6  \n",
              "238                                      1          3  \n",
              "632                                      2          5  "
            ],
            "text/html": [
              "\n",
              "  <div id=\"df-098495ca-726c-45fd-ba2d-169c0bcd3f91\">\n",
              "    <div class=\"colab-df-container\">\n",
              "      <div>\n",
              "<style scoped>\n",
              "    .dataframe tbody tr th:only-of-type {\n",
              "        vertical-align: middle;\n",
              "    }\n",
              "\n",
              "    .dataframe tbody tr th {\n",
              "        vertical-align: top;\n",
              "    }\n",
              "\n",
              "    .dataframe thead th {\n",
              "        text-align: right;\n",
              "    }\n",
              "</style>\n",
              "<table border=\"1\" class=\"dataframe\">\n",
              "  <thead>\n",
              "    <tr style=\"text-align: right;\">\n",
              "      <th></th>\n",
              "      <th>class</th>\n",
              "      <th>Father Monthly Income</th>\n",
              "      <th>F. education (class)</th>\n",
              "      <th>Mother Monthly Income</th>\n",
              "      <th>M. education (class)</th>\n",
              "      <th>No. of family members</th>\n",
              "      <th>No. of edu. Family member ( up to 10)</th>\n",
              "      <th>Neighbour</th>\n",
              "    </tr>\n",
              "  </thead>\n",
              "  <tbody>\n",
              "    <tr>\n",
              "      <th>621</th>\n",
              "      <td>8</td>\n",
              "      <td>9000</td>\n",
              "      <td>10</td>\n",
              "      <td>0</td>\n",
              "      <td>9</td>\n",
              "      <td>4</td>\n",
              "      <td>1</td>\n",
              "      <td>4</td>\n",
              "    </tr>\n",
              "    <tr>\n",
              "      <th>434</th>\n",
              "      <td>5</td>\n",
              "      <td>10000</td>\n",
              "      <td>9</td>\n",
              "      <td>3000</td>\n",
              "      <td>8</td>\n",
              "      <td>7</td>\n",
              "      <td>2</td>\n",
              "      <td>5</td>\n",
              "    </tr>\n",
              "    <tr>\n",
              "      <th>412</th>\n",
              "      <td>10</td>\n",
              "      <td>14000</td>\n",
              "      <td>8</td>\n",
              "      <td>0</td>\n",
              "      <td>7</td>\n",
              "      <td>6</td>\n",
              "      <td>2</td>\n",
              "      <td>6</td>\n",
              "    </tr>\n",
              "    <tr>\n",
              "      <th>238</th>\n",
              "      <td>7</td>\n",
              "      <td>20000</td>\n",
              "      <td>4</td>\n",
              "      <td>0</td>\n",
              "      <td>5</td>\n",
              "      <td>4</td>\n",
              "      <td>1</td>\n",
              "      <td>3</td>\n",
              "    </tr>\n",
              "    <tr>\n",
              "      <th>632</th>\n",
              "      <td>4</td>\n",
              "      <td>32000</td>\n",
              "      <td>12</td>\n",
              "      <td>0</td>\n",
              "      <td>9</td>\n",
              "      <td>5</td>\n",
              "      <td>2</td>\n",
              "      <td>5</td>\n",
              "    </tr>\n",
              "  </tbody>\n",
              "</table>\n",
              "</div>\n",
              "      <button class=\"colab-df-convert\" onclick=\"convertToInteractive('df-098495ca-726c-45fd-ba2d-169c0bcd3f91')\"\n",
              "              title=\"Convert this dataframe to an interactive table.\"\n",
              "              style=\"display:none;\">\n",
              "        \n",
              "  <svg xmlns=\"http://www.w3.org/2000/svg\" height=\"24px\"viewBox=\"0 0 24 24\"\n",
              "       width=\"24px\">\n",
              "    <path d=\"M0 0h24v24H0V0z\" fill=\"none\"/>\n",
              "    <path d=\"M18.56 5.44l.94 2.06.94-2.06 2.06-.94-2.06-.94-.94-2.06-.94 2.06-2.06.94zm-11 1L8.5 8.5l.94-2.06 2.06-.94-2.06-.94L8.5 2.5l-.94 2.06-2.06.94zm10 10l.94 2.06.94-2.06 2.06-.94-2.06-.94-.94-2.06-.94 2.06-2.06.94z\"/><path d=\"M17.41 7.96l-1.37-1.37c-.4-.4-.92-.59-1.43-.59-.52 0-1.04.2-1.43.59L10.3 9.45l-7.72 7.72c-.78.78-.78 2.05 0 2.83L4 21.41c.39.39.9.59 1.41.59.51 0 1.02-.2 1.41-.59l7.78-7.78 2.81-2.81c.8-.78.8-2.07 0-2.86zM5.41 20L4 18.59l7.72-7.72 1.47 1.35L5.41 20z\"/>\n",
              "  </svg>\n",
              "      </button>\n",
              "      \n",
              "  <style>\n",
              "    .colab-df-container {\n",
              "      display:flex;\n",
              "      flex-wrap:wrap;\n",
              "      gap: 12px;\n",
              "    }\n",
              "\n",
              "    .colab-df-convert {\n",
              "      background-color: #E8F0FE;\n",
              "      border: none;\n",
              "      border-radius: 50%;\n",
              "      cursor: pointer;\n",
              "      display: none;\n",
              "      fill: #1967D2;\n",
              "      height: 32px;\n",
              "      padding: 0 0 0 0;\n",
              "      width: 32px;\n",
              "    }\n",
              "\n",
              "    .colab-df-convert:hover {\n",
              "      background-color: #E2EBFA;\n",
              "      box-shadow: 0px 1px 2px rgba(60, 64, 67, 0.3), 0px 1px 3px 1px rgba(60, 64, 67, 0.15);\n",
              "      fill: #174EA6;\n",
              "    }\n",
              "\n",
              "    [theme=dark] .colab-df-convert {\n",
              "      background-color: #3B4455;\n",
              "      fill: #D2E3FC;\n",
              "    }\n",
              "\n",
              "    [theme=dark] .colab-df-convert:hover {\n",
              "      background-color: #434B5C;\n",
              "      box-shadow: 0px 1px 3px 1px rgba(0, 0, 0, 0.15);\n",
              "      filter: drop-shadow(0px 1px 2px rgba(0, 0, 0, 0.3));\n",
              "      fill: #FFFFFF;\n",
              "    }\n",
              "  </style>\n",
              "\n",
              "      <script>\n",
              "        const buttonEl =\n",
              "          document.querySelector('#df-098495ca-726c-45fd-ba2d-169c0bcd3f91 button.colab-df-convert');\n",
              "        buttonEl.style.display =\n",
              "          google.colab.kernel.accessAllowed ? 'block' : 'none';\n",
              "\n",
              "        async function convertToInteractive(key) {\n",
              "          const element = document.querySelector('#df-098495ca-726c-45fd-ba2d-169c0bcd3f91');\n",
              "          const dataTable =\n",
              "            await google.colab.kernel.invokeFunction('convertToInteractive',\n",
              "                                                     [key], {});\n",
              "          if (!dataTable) return;\n",
              "\n",
              "          const docLinkHtml = 'Like what you see? Visit the ' +\n",
              "            '<a target=\"_blank\" href=https://colab.research.google.com/notebooks/data_table.ipynb>data table notebook</a>'\n",
              "            + ' to learn more about interactive tables.';\n",
              "          element.innerHTML = '';\n",
              "          dataTable['output_type'] = 'display_data';\n",
              "          await google.colab.output.renderOutput(dataTable, element);\n",
              "          const docLink = document.createElement('div');\n",
              "          docLink.innerHTML = docLinkHtml;\n",
              "          element.appendChild(docLink);\n",
              "        }\n",
              "      </script>\n",
              "    </div>\n",
              "  </div>\n",
              "  "
            ]
          },
          "metadata": {},
          "execution_count": 358
        }
      ]
    },
    {
      "cell_type": "code",
      "source": [
        "Y[:5]"
      ],
      "metadata": {
        "colab": {
          "base_uri": "https://localhost:8080/"
        },
        "id": "ZrKpbjZq5-dT",
        "outputId": "80d8deac-b979-4ebd-d66e-72cffe3da293"
      },
      "execution_count": 359,
      "outputs": [
        {
          "output_type": "execute_result",
          "data": {
            "text/plain": [
              "0    1\n",
              "1    0\n",
              "2    1\n",
              "3    1\n",
              "4    1\n",
              "Name: Go to School, dtype: int64"
            ]
          },
          "metadata": {},
          "execution_count": 359
        }
      ]
    },
    {
      "cell_type": "code",
      "source": [
        "from sklearn.model_selection import train_test_split\n",
        "x_train, x_test, y_train, y_test = train_test_split(X,Y,test_size=0.2,random_state=40)"
      ],
      "metadata": {
        "id": "R0XfD2pT6iEy"
      },
      "execution_count": 360,
      "outputs": []
    },
    {
      "cell_type": "code",
      "source": [
        "print(len(x_train),\" \",len(x_test))"
      ],
      "metadata": {
        "colab": {
          "base_uri": "https://localhost:8080/"
        },
        "id": "hGi-mIsF6knv",
        "outputId": "df6335ba-06a9-4ff8-8e2f-3ee14a7da074"
      },
      "execution_count": 361,
      "outputs": [
        {
          "output_type": "stream",
          "name": "stdout",
          "text": [
            "522   131\n"
          ]
        }
      ]
    },
    {
      "cell_type": "code",
      "source": [
        "print(len(y_train),\" \",len(y_test))"
      ],
      "metadata": {
        "colab": {
          "base_uri": "https://localhost:8080/"
        },
        "id": "aRe8y5uI6mgQ",
        "outputId": "858050b9-09f9-44b2-81c7-a9897ce7e98a"
      },
      "execution_count": 362,
      "outputs": [
        {
          "output_type": "stream",
          "name": "stdout",
          "text": [
            "522   131\n"
          ]
        }
      ]
    },
    {
      "cell_type": "code",
      "source": [
        "from sklearn.metrics import confusion_matrix, classification_report,accuracy_score,precision_score,recall_score,f1_score"
      ],
      "metadata": {
        "id": "6r00vrYN6oSN"
      },
      "execution_count": 363,
      "outputs": []
    },
    {
      "cell_type": "code",
      "source": [
        "from sklearn.linear_model import LogisticRegression\n",
        "clf = LogisticRegression()\n",
        "clf.fit(x_train,y_train)\n",
        "\n",
        "#train data\n",
        "y_pred = clf.predict(x_train)\n",
        "print('Training Data:')\n",
        "print('Accuracy: ', round(accuracy_score(y_train,y_pred),2))\n",
        "print('f1_score: ', round(f1_score(y_train,y_pred),2))\n",
        "print('precision_score: ', round(precision_score(y_train,y_pred),2))\n",
        "print('recall_score: ', round(recall_score(y_train,y_pred),2))\n",
        "\n",
        "\n",
        "#test data\n",
        "y_pred = clf.predict(x_test)\n",
        "print('\\nTesting Data:')\n",
        "print('Accuracy: ', round(accuracy_score(y_test,y_pred),2))\n",
        "print('f1_score: ', round(f1_score(y_test,y_pred),2))\n",
        "print('precision_score: ', round(precision_score(y_test,y_pred),2))\n",
        "print('recall_score: ', round(recall_score(y_test,y_pred),2))"
      ],
      "metadata": {
        "colab": {
          "base_uri": "https://localhost:8080/"
        },
        "id": "su-k77g26qZT",
        "outputId": "79e749ac-c31c-4471-bd8a-c19743ded52c"
      },
      "execution_count": 364,
      "outputs": [
        {
          "output_type": "stream",
          "name": "stdout",
          "text": [
            "Training Data:\n",
            "Accuracy:  0.74\n",
            "f1_score:  0.78\n",
            "precision_score:  0.77\n",
            "recall_score:  0.8\n",
            "\n",
            "Testing Data:\n",
            "Accuracy:  0.68\n",
            "f1_score:  0.72\n",
            "precision_score:  0.71\n",
            "recall_score:  0.73\n"
          ]
        }
      ]
    },
    {
      "cell_type": "code",
      "source": [
        "y_predict = clf.predict(x_test)\n",
        "cm = confusion_matrix(y_test,y_predict)\n",
        "print(cm)"
      ],
      "metadata": {
        "colab": {
          "base_uri": "https://localhost:8080/"
        },
        "id": "MsPIyuRjf-IY",
        "outputId": "8897224d-0195-4a56-8695-209b95fbd2c4"
      },
      "execution_count": 365,
      "outputs": [
        {
          "output_type": "stream",
          "name": "stdout",
          "text": [
            "[[36 22]\n",
            " [20 53]]\n"
          ]
        }
      ]
    },
    {
      "cell_type": "code",
      "source": [
        "plt.figure(figsize=(4,4))\n",
        "sns.heatmap(cm,annot=True)\n",
        "# plt.xlabel('y_predict')\n",
        "# plt.ylabel('y_test')\n",
        "plt.show()"
      ],
      "metadata": {
        "colab": {
          "base_uri": "https://localhost:8080/",
          "height": 265
        },
        "id": "Gm_4t1pyhWvT",
        "outputId": "915a6be5-6f11-47c1-90bd-56c3b998ccf0"
      },
      "execution_count": 366,
      "outputs": [
        {
          "output_type": "display_data",
          "data": {
            "text/plain": [
              "<Figure size 288x288 with 2 Axes>"
            ],
            "image/png": "[encoded data removed]"
          },
          "metadata": {
            "needs_background": "light"
          }
        }
      ]
    },
    {
      "cell_type": "code",
      "source": [
        "y_predict = clf.predict(x_train)\n",
        "cm = confusion_matrix(y_train,y_predict)\n",
        "print(cm)"
      ],
      "metadata": {
        "colab": {
          "base_uri": "https://localhost:8080/"
        },
        "id": "-NjC0loYiwFl",
        "outputId": "16ec6bcd-5056-4318-e752-f70f9b8a3638"
      },
      "execution_count": 367,
      "outputs": [
        {
          "output_type": "stream",
          "name": "stdout",
          "text": [
            "[[148  73]\n",
            " [ 61 240]]\n"
          ]
        }
      ]
    },
    {
      "cell_type": "code",
      "source": [
        "plt.figure(figsize=(4,4))\n",
        "sns.heatmap(cm,annot=True)\n",
        "plt.xlabel('y_predict')\n",
        "plt.ylabel('y_test')\n",
        "plt.show()"
      ],
      "metadata": {
        "id": "Uo8RA-3Ii2RS",
        "outputId": "75643f57-a9f1-489c-831e-b0f00ac9f533",
        "colab": {
          "base_uri": "https://localhost:8080/",
          "height": 284
        }
      },
      "execution_count": 368,
      "outputs": [
        {
          "output_type": "display_data",
          "data": {
            "text/plain": [
              "<Figure size 288x288 with 2 Axes>"
            ],
            "image/png": "[encoded data removed]"
          },
          "metadata": {
            "needs_background": "light"
          }
        }
      ]
    },
    {
      "cell_type": "code",
      "source": [
        "from sklearn.ensemble import RandomForestClassifier\n",
        "clf = RandomForestClassifier()\n",
        "clf.fit(x_train,y_train)\n",
        "\n",
        "#train data\n",
        "y_pred = clf.predict(x_train)\n",
        "print('Training Data:')\n",
        "print('Accuracy: ', round(accuracy_score(y_train,y_pred),2))\n",
        "print('f1_score: ', round(f1_score(y_train,y_pred),2))\n",
        "print('precision_score: ', round(precision_score(y_train,y_pred),2))\n",
        "print('recall_score: ', round(recall_score(y_train,y_pred),2))\n",
        "\n",
        "\n",
        "#test data\n",
        "y_pred = clf.predict(x_test)\n",
        "print('\\nTesting Data:')\n",
        "print('Accuracy: ', round(accuracy_score(y_test,y_pred),2))\n",
        "print('f1_score: ', round(f1_score(y_test,y_pred),2))\n",
        "print('precision_score: ', round(precision_score(y_test,y_pred),2))\n",
        "print('recall_score: ', round(recall_score(y_test,y_pred),2))"
      ],
      "metadata": {
        "colab": {
          "base_uri": "https://localhost:8080/"
        },
        "id": "DS8cmJ5B6wul",
        "outputId": "bf8e05e1-04b4-45ad-a503-d0661c4589a1"
      },
      "execution_count": 369,
      "outputs": [
        {
          "output_type": "stream",
          "name": "stdout",
          "text": [
            "Training Data:\n",
            "Accuracy:  1.0\n",
            "f1_score:  1.0\n",
            "precision_score:  1.0\n",
            "recall_score:  1.0\n",
            "\n",
            "Testing Data:\n",
            "Accuracy:  0.81\n",
            "f1_score:  0.83\n",
            "precision_score:  0.82\n",
            "recall_score:  0.84\n"
          ]
        }
      ]
    },
    {
      "cell_type": "code",
      "source": [
        "\n",
        "y_predict = clf.predict(x_test)\n",
        "cm = confusion_matrix(y_test,y_predict)\n",
        "print(cm)"
      ],
      "metadata": {
        "colab": {
          "base_uri": "https://localhost:8080/"
        },
        "id": "y_dTKuwSDRZO",
        "outputId": "71401fe5-5ebd-43cc-fbf4-8d9de6e93fc3"
      },
      "execution_count": 370,
      "outputs": [
        {
          "output_type": "stream",
          "name": "stdout",
          "text": [
            "[[45 13]\n",
            " [12 61]]\n"
          ]
        }
      ]
    },
    {
      "cell_type": "code",
      "source": [
        "plt.figure(figsize=(4,4))\n",
        "sns.heatmap(cm,annot=True)\n",
        "# plt.xlabel('y_predict')\n",
        "# plt.ylabel('y_test')\n",
        "plt.show()"
      ],
      "metadata": {
        "colab": {
          "base_uri": "https://localhost:8080/",
          "height": 265
        },
        "id": "0f-BGdJfDdaB",
        "outputId": "48c7cab9-2394-4f0c-c56d-389345c2c9e7"
      },
      "execution_count": 371,
      "outputs": [
        {
          "output_type": "display_data",
          "data": {
            "text/plain": [
              "<Figure size 288x288 with 2 Axes>"
            ],
            "image/png": "[encoded data removed]"
          },
          "metadata": {
            "needs_background": "light"
          }
        }
      ]
    },
    {
      "cell_type": "code",
      "source": [
        "y_predict = clf.predict(x_train)\n",
        "cm = confusion_matrix(y_train,y_predict)\n",
        "print(cm)"
      ],
      "metadata": {
        "colab": {
          "base_uri": "https://localhost:8080/"
        },
        "id": "p5kuASCtDhgP",
        "outputId": "57f322bb-f6d0-427f-eeaf-e1dd183a3299"
      },
      "execution_count": 372,
      "outputs": [
        {
          "output_type": "stream",
          "name": "stdout",
          "text": [
            "[[221   0]\n",
            " [  0 301]]\n"
          ]
        }
      ]
    },
    {
      "cell_type": "code",
      "source": [
        "plt.figure(figsize=(4,4))\n",
        "sns.heatmap(cm,annot=True)\n",
        "plt.xlabel('y_predict')\n",
        "plt.ylabel('y_test')\n",
        "plt.show()"
      ],
      "metadata": {
        "colab": {
          "base_uri": "https://localhost:8080/",
          "height": 284
        },
        "id": "WK_b45TLDhqe",
        "outputId": "e8104958-49aa-4a34-d779-00935a6e0e30"
      },
      "execution_count": 373,
      "outputs": [
        {
          "output_type": "display_data",
          "data": {
            "text/plain": [
              "<Figure size 288x288 with 2 Axes>"
            ],
            "image/png": "[encoded data removed]"
          },
          "metadata": {
            "needs_background": "light"
          }
        }
      ]
    },
    {
      "cell_type": "code",
      "source": [
        "from sklearn.svm import SVC\n",
        "clf = SVC()\n",
        "clf.fit(x_train,y_train)\n",
        "\n",
        "#train data\n",
        "y_pred = clf.predict(x_train)\n",
        "print('Training Data:')\n",
        "print('Accuracy: ', round(accuracy_score(y_train,y_pred),2))\n",
        "print('f1_score: ', round(f1_score(y_train,y_pred),2))\n",
        "print('precision_score: ', round(precision_score(y_train,y_pred),2))\n",
        "print('recall_score: ', round(recall_score(y_train,y_pred),2))\n",
        "\n",
        "\n",
        "#test data\n",
        "y_pred = clf.predict(x_test)\n",
        "print('\\nTesting Data:')\n",
        "print('Accuracy: ', round(accuracy_score(y_test,y_pred),2))\n",
        "print('f1_score: ', round(f1_score(y_test,y_pred),2))\n",
        "print('precision_score: ', round(precision_score(y_test,y_pred),2))\n",
        "print('recall_score: ', round(recall_score(y_test,y_pred),2))"
      ],
      "metadata": {
        "colab": {
          "base_uri": "https://localhost:8080/"
        },
        "id": "Wdmo-TNf61g0",
        "outputId": "de4b55fb-ee97-44ff-bcbb-c27dfdddefba"
      },
      "execution_count": 374,
      "outputs": [
        {
          "output_type": "stream",
          "name": "stdout",
          "text": [
            "Training Data:\n",
            "Accuracy:  0.58\n",
            "f1_score:  0.73\n",
            "precision_score:  0.58\n",
            "recall_score:  1.0\n",
            "\n",
            "Testing Data:\n",
            "Accuracy:  0.56\n",
            "f1_score:  0.72\n",
            "precision_score:  0.56\n",
            "recall_score:  1.0\n"
          ]
        }
      ]
    },
    {
      "cell_type": "code",
      "source": [
        "y_predict = clf.predict(x_test)\n",
        "cm = confusion_matrix(y_test,y_predict)\n",
        "print(cm)"
      ],
      "metadata": {
        "colab": {
          "base_uri": "https://localhost:8080/"
        },
        "id": "pLWyMlu4DfZz",
        "outputId": "981e88e8-7b08-403f-eb32-af18a093970b"
      },
      "execution_count": 375,
      "outputs": [
        {
          "output_type": "stream",
          "name": "stdout",
          "text": [
            "[[ 0 58]\n",
            " [ 0 73]]\n"
          ]
        }
      ]
    },
    {
      "cell_type": "code",
      "source": [
        "plt.figure(figsize=(4,4))\n",
        "sns.heatmap(cm,annot=True)\n",
        "plt.xlabel('Prediction')\n",
        "plt.ylabel('Truth')\n",
        "plt.show()"
      ],
      "metadata": {
        "colab": {
          "base_uri": "https://localhost:8080/",
          "height": 279
        },
        "id": "wu4z6_jqDfnl",
        "outputId": "b7df530a-2a26-4b14-8520-071e8792b57d"
      },
      "execution_count": 376,
      "outputs": [
        {
          "output_type": "display_data",
          "data": {
            "text/plain": [
              "<Figure size 288x288 with 2 Axes>"
            ],
            "image/png": "[encoded data removed]"
          },
          "metadata": {
            "needs_background": "light"
          }
        }
      ]
    },
    {
      "cell_type": "code",
      "source": [
        "y_predict = clf.predict(x_train)\n",
        "cm = confusion_matrix(y_train,y_predict)\n",
        "print(cm)"
      ],
      "metadata": {
        "colab": {
          "base_uri": "https://localhost:8080/"
        },
        "id": "CN7srPlSFlwq",
        "outputId": "d97ecc3a-4ee3-425f-f15f-bd658e346da3"
      },
      "execution_count": 377,
      "outputs": [
        {
          "output_type": "stream",
          "name": "stdout",
          "text": [
            "[[  0 221]\n",
            " [  0 301]]\n"
          ]
        }
      ]
    },
    {
      "cell_type": "code",
      "source": [
        "plt.figure(figsize=(4,4))\n",
        "sns.heatmap(cm,annot=True)\n",
        "plt.xlabel('y_predict')\n",
        "plt.ylabel('y_test')\n",
        "plt.show()"
      ],
      "metadata": {
        "colab": {
          "base_uri": "https://localhost:8080/",
          "height": 284
        },
        "id": "GMDVMR7iFl0a",
        "outputId": "ae6e845c-8ca2-4744-9d0b-939893835101"
      },
      "execution_count": 378,
      "outputs": [
        {
          "output_type": "display_data",
          "data": {
            "text/plain": [
              "<Figure size 288x288 with 2 Axes>"
            ],
            "image/png": "[encoded data removed]"
          },
          "metadata": {
            "needs_background": "light"
          }
        }
      ]
    },
    {
      "cell_type": "code",
      "source": [
        "from sklearn.neighbors import KNeighborsClassifier\n",
        "clf = KNeighborsClassifier()\n",
        "clf.fit(x_train,y_train)\n",
        "\n",
        "#train data\n",
        "y_pred = clf.predict(x_train)\n",
        "print('Training Data:')\n",
        "print('Accuracy: ', round(accuracy_score(y_train,y_pred),2))\n",
        "print('f1_score: ', round(f1_score(y_train,y_pred),2))\n",
        "print('precision_score: ', round(precision_score(y_train,y_pred),2))\n",
        "print('recall_score: ', round(recall_score(y_train,y_pred),2))\n",
        "\n",
        "\n",
        "#test data\n",
        "y_pred = clf.predict(x_test)\n",
        "print('\\nTesting Data:')\n",
        "print('Accuracy: ', round(accuracy_score(y_test,y_pred),2))\n",
        "print('f1_score: ', round(f1_score(y_test,y_pred),2))\n",
        "print('precision_score: ', round(precision_score(y_test,y_pred),2))\n",
        "print('recall_score: ', round(recall_score(y_test,y_pred),2))"
      ],
      "metadata": {
        "colab": {
          "base_uri": "https://localhost:8080/"
        },
        "id": "N--51OQG64K3",
        "outputId": "4206f33f-98b2-4a0c-a5d0-9943f135f748"
      },
      "execution_count": 379,
      "outputs": [
        {
          "output_type": "stream",
          "name": "stdout",
          "text": [
            "Training Data:\n",
            "Accuracy:  0.79\n",
            "f1_score:  0.82\n",
            "precision_score:  0.83\n",
            "recall_score:  0.8\n",
            "\n",
            "Testing Data:\n",
            "Accuracy:  0.68\n",
            "f1_score:  0.7\n",
            "precision_score:  0.74\n",
            "recall_score:  0.66\n"
          ]
        }
      ]
    },
    {
      "cell_type": "code",
      "source": [
        "y_predict = clf.predict(x_test)\n",
        "cm = confusion_matrix(y_test,y_predict)\n",
        "print(cm)\n"
      ],
      "metadata": {
        "colab": {
          "base_uri": "https://localhost:8080/"
        },
        "id": "VEjNdjGHGKx0",
        "outputId": "c4c317e1-df11-4f97-c26a-9adfa5835507"
      },
      "execution_count": 380,
      "outputs": [
        {
          "output_type": "stream",
          "name": "stdout",
          "text": [
            "[[41 17]\n",
            " [25 48]]\n"
          ]
        }
      ]
    },
    {
      "cell_type": "code",
      "source": [
        "plt.figure(figsize=(4,4))\n",
        "sns.heatmap(cm,annot=True)\n",
        "# plt.xlabel('y_predict')\n",
        "# plt.ylabel('y_test')\n",
        "plt.show()"
      ],
      "metadata": {
        "colab": {
          "base_uri": "https://localhost:8080/",
          "height": 265
        },
        "id": "ltQ1HCsIGK3G",
        "outputId": "cc1ae4c1-35a6-4ad8-9118-be9277c49db6"
      },
      "execution_count": 381,
      "outputs": [
        {
          "output_type": "display_data",
          "data": {
            "text/plain": [
              "<Figure size 288x288 with 2 Axes>"
            ],
            "image/png": "[encoded data removed]"
          },
          "metadata": {
            "needs_background": "light"
          }
        }
      ]
    },
    {
      "cell_type": "code",
      "source": [
        "y_predict = clf.predict(x_train)\n",
        "cm = confusion_matrix(y_train,y_predict)\n",
        "print(cm)"
      ],
      "metadata": {
        "colab": {
          "base_uri": "https://localhost:8080/"
        },
        "id": "9vIIlaEQGK8W",
        "outputId": "382999f6-77ef-414d-a801-78e7f90ea73e"
      },
      "execution_count": 382,
      "outputs": [
        {
          "output_type": "stream",
          "name": "stdout",
          "text": [
            "[[172  49]\n",
            " [ 60 241]]\n"
          ]
        }
      ]
    },
    {
      "cell_type": "code",
      "source": [
        "plt.figure(figsize=(4,4))\n",
        "sns.heatmap(cm,annot=True)\n",
        "plt.xlabel('y_predict')\n",
        "plt.ylabel('y_test')\n",
        "plt.show()"
      ],
      "metadata": {
        "colab": {
          "base_uri": "https://localhost:8080/",
          "height": 280
        },
        "id": "MAcAUSCIGLBJ",
        "outputId": "335a4fa4-41dd-4ff9-ad75-fca82f4f9424"
      },
      "execution_count": 383,
      "outputs": [
        {
          "output_type": "display_data",
          "data": {
            "text/plain": [
              "<Figure size 288x288 with 2 Axes>"
            ],
            "image/png": "[encoded data removed]"
          },
          "metadata": {
            "needs_background": "light"
          }
        }
      ]
    },
    {
      "cell_type": "code",
      "source": [
        "from sklearn.tree import DecisionTreeClassifier\n",
        "clf = DecisionTreeClassifier()\n",
        "clf.fit(x_train,y_train)\n",
        "\n",
        "#train data\n",
        "y_pred = clf.predict(x_train)\n",
        "print('Training Data:')\n",
        "print('Accuracy: ', round(accuracy_score(y_train,y_pred),2))\n",
        "print('f1_score: ', round(f1_score(y_train,y_pred),2))\n",
        "print('precision_score: ', round(precision_score(y_train,y_pred),2))\n",
        "print('recall_score: ', round(recall_score(y_train,y_pred),2))\n",
        "\n",
        "\n",
        "#test data\n",
        "y_pred = clf.predict(x_test)\n",
        "print('\\nTesting Data:')\n",
        "print('Accuracy: ', round(accuracy_score(y_test,y_pred),2))\n",
        "print('f1_score: ', round(f1_score(y_test,y_pred),2))\n",
        "print('precision_score: ', round(precision_score(y_test,y_pred),2))\n",
        "print('recall_score: ', round(recall_score(y_test,y_pred),2))"
      ],
      "metadata": {
        "colab": {
          "base_uri": "https://localhost:8080/"
        },
        "id": "wlf56vyv66UG",
        "outputId": "e04878f8-5149-4ae8-98ce-970e7af03f2f"
      },
      "execution_count": 384,
      "outputs": [
        {
          "output_type": "stream",
          "name": "stdout",
          "text": [
            "Training Data:\n",
            "Accuracy:  1.0\n",
            "f1_score:  1.0\n",
            "precision_score:  1.0\n",
            "recall_score:  1.0\n",
            "\n",
            "Testing Data:\n",
            "Accuracy:  0.79\n",
            "f1_score:  0.81\n",
            "precision_score:  0.79\n",
            "recall_score:  0.84\n"
          ]
        }
      ]
    },
    {
      "cell_type": "code",
      "source": [
        "y_predict = clf.predict(x_test)\n",
        "cm = confusion_matrix(y_test,y_predict)\n",
        "print(cm)"
      ],
      "metadata": {
        "colab": {
          "base_uri": "https://localhost:8080/"
        },
        "id": "YK7F9NZJGYgF",
        "outputId": "02d34cfa-471a-4c02-fdcb-9e0ccdfb9c29"
      },
      "execution_count": 385,
      "outputs": [
        {
          "output_type": "stream",
          "name": "stdout",
          "text": [
            "[[42 16]\n",
            " [12 61]]\n"
          ]
        }
      ]
    },
    {
      "cell_type": "code",
      "source": [
        "plt.figure(figsize=(4,4))\n",
        "sns.heatmap(cm,annot=True)\n",
        "# plt.xlabel('y_predict')\n",
        "# plt.ylabel('y_test')\n",
        "plt.show()"
      ],
      "metadata": {
        "colab": {
          "base_uri": "https://localhost:8080/",
          "height": 265
        },
        "id": "N_4HIGKvGYlM",
        "outputId": "6422fcab-0da2-404b-f269-1ce675d4e5bf"
      },
      "execution_count": 386,
      "outputs": [
        {
          "output_type": "display_data",
          "data": {
            "text/plain": [
              "<Figure size 288x288 with 2 Axes>"
            ],
            "image/png": "[encoded data removed]"
          },
          "metadata": {
            "needs_background": "light"
          }
        }
      ]
    },
    {
      "cell_type": "code",
      "source": [
        "y_predict = clf.predict(x_train)\n",
        "cm = confusion_matrix(y_train,y_predict)\n",
        "print(cm)\n"
      ],
      "metadata": {
        "colab": {
          "base_uri": "https://localhost:8080/"
        },
        "id": "MZKVwcSaGYpw",
        "outputId": "e6ce0769-86c6-4320-9d83-63d191fa32e2"
      },
      "execution_count": 387,
      "outputs": [
        {
          "output_type": "stream",
          "name": "stdout",
          "text": [
            "[[221   0]\n",
            " [  0 301]]\n"
          ]
        }
      ]
    },
    {
      "cell_type": "code",
      "source": [
        "plt.figure(figsize=(4,4))\n",
        "sns.heatmap(cm,annot=True)\n",
        "plt.xlabel('y_predict')\n",
        "plt.ylabel('y_test')\n",
        "plt.show()"
      ],
      "metadata": {
        "colab": {
          "base_uri": "https://localhost:8080/",
          "height": 284
        },
        "id": "4XJYoOByGYup",
        "outputId": "c8b09382-2653-4ee6-e20d-31461b8e88d5"
      },
      "execution_count": 388,
      "outputs": [
        {
          "output_type": "display_data",
          "data": {
            "text/plain": [
              "<Figure size 288x288 with 2 Axes>"
            ],
            "image/png": "[encoded data removed]"
          },
          "metadata": {
            "needs_background": "light"
          }
        }
      ]
    },
    {
      "cell_type": "code",
      "source": [
        "from sklearn.naive_bayes import GaussianNB\n",
        "clf = GaussianNB()\n",
        "clf.fit(x_train,y_train)\n",
        "\n",
        "#train data\n",
        "y_pred = clf.predict(x_train)\n",
        "print('Training Data:')\n",
        "print('Accuracy: ', round(accuracy_score(y_train,y_pred),2))\n",
        "print('f1_score: ', round(f1_score(y_train,y_pred),2))\n",
        "print('precision_score: ', round(precision_score(y_train,y_pred),2))\n",
        "print('recall_score: ', round(recall_score(y_train,y_pred),2))\n",
        "\n",
        "\n",
        "#test data\n",
        "y_pred = clf.predict(x_test)\n",
        "print('\\nTesting Data:')\n",
        "print('Accuracy: ', round(accuracy_score(y_test,y_pred),2))\n",
        "print('f1_score: ', round(f1_score(y_test,y_pred),2))\n",
        "print('precision_score: ', round(precision_score(y_test,y_pred),2))\n",
        "print('recall_score: ', round(recall_score(y_test,y_pred),2))\n"
      ],
      "metadata": {
        "colab": {
          "base_uri": "https://localhost:8080/"
        },
        "id": "wP5AKZ1b69At",
        "outputId": "35b319d7-9280-419c-deac-b5b912eecaa9"
      },
      "execution_count": 389,
      "outputs": [
        {
          "output_type": "stream",
          "name": "stdout",
          "text": [
            "Training Data:\n",
            "Accuracy:  0.74\n",
            "f1_score:  0.75\n",
            "precision_score:  0.82\n",
            "recall_score:  0.69\n",
            "\n",
            "Testing Data:\n",
            "Accuracy:  0.73\n",
            "f1_score:  0.75\n",
            "precision_score:  0.76\n",
            "recall_score:  0.74\n"
          ]
        }
      ]
    },
    {
      "cell_type": "code",
      "source": [
        "y_predict = clf.predict(x_test)\n",
        "cm = confusion_matrix(y_test,y_predict)\n",
        "print(cm)\n"
      ],
      "metadata": {
        "colab": {
          "base_uri": "https://localhost:8080/"
        },
        "id": "fQO2TJMRGjvH",
        "outputId": "64355339-be0a-45c0-cd9f-d78042ce56c6"
      },
      "execution_count": 390,
      "outputs": [
        {
          "output_type": "stream",
          "name": "stdout",
          "text": [
            "[[41 17]\n",
            " [19 54]]\n"
          ]
        }
      ]
    },
    {
      "cell_type": "code",
      "source": [
        "plt.figure(figsize=(4,4))\n",
        "sns.heatmap(cm,annot=True)\n",
        "# plt.xlabel('y_predict')\n",
        "# plt.ylabel('y_test')\n",
        "plt.show()"
      ],
      "metadata": {
        "colab": {
          "base_uri": "https://localhost:8080/",
          "height": 265
        },
        "id": "cL-71O1yGjyQ",
        "outputId": "3c2136d1-ac0e-4f5b-e1e1-b9bc5c18227d"
      },
      "execution_count": 391,
      "outputs": [
        {
          "output_type": "display_data",
          "data": {
            "text/plain": [
              "<Figure size 288x288 with 2 Axes>"
            ],
            "image/png": "[encoded data removed]"
          },
          "metadata": {
            "needs_background": "light"
          }
        }
      ]
    },
    {
      "cell_type": "code",
      "source": [
        "y_predict = clf.predict(x_train)\n",
        "cm = confusion_matrix(y_train,y_predict)\n",
        "print(cm)"
      ],
      "metadata": {
        "colab": {
          "base_uri": "https://localhost:8080/"
        },
        "id": "M9vHrk7uGj1o",
        "outputId": "2aa4666b-19d1-4c83-bd18-405c03743a6c"
      },
      "execution_count": 392,
      "outputs": [
        {
          "output_type": "stream",
          "name": "stdout",
          "text": [
            "[[176  45]\n",
            " [ 92 209]]\n"
          ]
        }
      ]
    },
    {
      "cell_type": "code",
      "source": [
        "plt.figure(figsize=(4,4))\n",
        "sns.heatmap(cm,annot=True)\n",
        "plt.xlabel('y_predict')\n",
        "plt.ylabel('y_test')\n",
        "plt.show()"
      ],
      "metadata": {
        "colab": {
          "base_uri": "https://localhost:8080/",
          "height": 280
        },
        "id": "eP7GszqFGj5C",
        "outputId": "5ee9c9c9-d822-412d-a604-c30a23919c45"
      },
      "execution_count": 393,
      "outputs": [
        {
          "output_type": "display_data",
          "data": {
            "text/plain": [
              "<Figure size 288x288 with 2 Axes>"
            ],
            "image/png": "[encoded data removed]"
          },
          "metadata": {
            "needs_background": "light"
          }
        }
      ]
    },
    {
      "cell_type": "code",
      "source": [
        "# model = RandomForestClassifier().fit(x_train,y_train)"
      ],
      "metadata": {
        "id": "TKq5IXhq80IB"
      },
      "execution_count": 394,
      "outputs": []
    },
    {
      "cell_type": "code",
      "source": [
        "# import pickle\n",
        "# pickle.dump(model,open('Model.pkl','wb'))"
      ],
      "metadata": {
        "id": "OVtG03949KF2"
      },
      "execution_count": 395,
      "outputs": []
    },
    {
      "cell_type": "code",
      "source": [
        "# clf = pickle.load(open('Model.pkl','rb'))"
      ],
      "metadata": {
        "id": "pSnxKa7v9qgV"
      },
      "execution_count": 396,
      "outputs": []
    },
    {
      "cell_type": "code",
      "source": [
        "# # x_test\n",
        "# data = [6,20000,8,0,8,4,2,2]"
      ],
      "metadata": {
        "id": "e24QqXQX9xFd"
      },
      "execution_count": 397,
      "outputs": []
    },
    {
      "cell_type": "code",
      "source": [
        "# x_test"
      ],
      "metadata": {
        "id": "h-vPxCf__oD4"
      },
      "execution_count": 398,
      "outputs": []
    },
    {
      "cell_type": "code",
      "source": [
        "# result = clf.predict([data])\n",
        "# if result == 1:\n",
        "#   print('Child Will Go to School')\n",
        "# else:\n",
        "#   print('Child Will Drop Out From School')"
      ],
      "metadata": {
        "id": "C9su6JGn91CR"
      },
      "execution_count": 399,
      "outputs": []
    },
    {
      "cell_type": "code",
      "source": [
        "# result_prob = clf.predict_proba([data])\n",
        "# print(\"Possibility of Going School is about \"+str(round(result_prob[0][1]*100))+'%')\n",
        "# print(\"Possibility of Drop Out From School is about \"+str(round(result_prob[0][0]*100))+'%')"
      ],
      "metadata": {
        "id": "0D40z8sb-mew"
      },
      "execution_count": 400,
      "outputs": []
    },
    {
      "cell_type": "code",
      "source": [],
      "metadata": {
        "id": "72yJy-VW_KyM"
      },
      "execution_count": 400,
      "outputs": []
    }
  ]
}